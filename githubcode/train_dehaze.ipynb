{
 "cells": [
  {
   "cell_type": "code",
   "execution_count": 1,
   "metadata": {
    "scrolled": true
   },
   "outputs": [],
   "source": [
    "import SSD_haze as SSD_"
   ]
  },
  {
   "cell_type": "code",
   "execution_count": 2,
   "metadata": {},
   "outputs": [
    {
     "name": "stdout",
     "output_type": "stream",
     "text": [
      "pass\n"
     ]
    }
   ],
   "source": [
    "print(\"pass\")"
   ]
  },
  {
   "cell_type": "code",
   "execution_count": 3,
   "metadata": {},
   "outputs": [],
   "source": [
    "# Trained From NewEMEnhanceWithTrans_1114_G_340\n",
    "# Trained From NewEMEnhanceWithTrans_1126_G_80\n",
    "import torch\n",
    "import torch.nn as nn\n",
    "import math\n",
    "import torch.nn.functional as F\n",
    "from torch.utils.checkpoint import checkpoint\n",
    "from torch.nn import init\n",
    "import functools\n",
    "from torch.optim import lr_scheduler\n",
    "\n",
    "# Actually we don't use Single Dense Layer in this model.\n",
    "class SingleDenseLayer(nn.Module):\n",
    "\tdef __init__(self, input_dim=3, growthRate=12):\n",
    "\t\tsuper(SingleDenseLayer, self).__init__()\n",
    "\t\tself.activation = nn.ELU(inplace=True)\n",
    "\t\tself.bn = nn.BatchNorm2d(num_features=input_dim)\n",
    "\t\tself.conv1 = nn.Conv2d(in_channels=input_dim,out_channels=growthRate,kernel_size=3,stride=1,padding=1,bias=False)\n",
    "\tdef forward(self, x):\n",
    "\t\toutput = self.conv1(self.activation(self.bn(x)))\n",
    "\t\toutput = torch.cat((x,output),1)\n",
    "\t\treturn output\n",
    "\n",
    "# Each Dense Block in our model is made of 5 Bottle Neck Layers.\n",
    "class BottleNeckLayer(nn.Module):\n",
    "\tdef __init__(self, input_dim=3, growthRate=12):\n",
    "\t\tsuper(BottleNeckLayer, self).__init__()\n",
    "\t\tself.activation = nn.ReLU(inplace=True)\n",
    "\t\t# self.activation = nn.ELU(inplace=True)\n",
    "\t\tself.bn = nn.BatchNorm2d(num_features=int(input_dim))\n",
    "\t\tself.conv1 = nn.Conv2d(in_channels=input_dim,out_channels=4*growthRate,kernel_size=1,stride=1,padding=0,bias=False)\n",
    "\t\tself.conv2 = nn.Conv2d(in_channels=4*growthRate,out_channels=growthRate,kernel_size=3,stride=1,padding=1,bias=False)\n",
    "\tdef forward(self, x):\n",
    "\t\toutput = self.conv1(self.activation(self.bn(x)))\n",
    "\t\toutput = self.conv2(output)\n",
    "\t\toutput = torch.cat((x,output),1)\n",
    "\t\treturn output\n",
    "\n",
    "# The Transition Layer connects 2 Dense block.\n",
    "class TransitionLayer(nn.Module):\n",
    "\tdef __init__(self, input_dim, output_dim, is_pool=False):\n",
    "\t\tsuper(TransitionLayer, self).__init__()\n",
    "\t\tself.activation = nn.ReLU(inplace=True)\n",
    "\t\tself.bn = nn.BatchNorm2d(num_features=input_dim)\n",
    "\t\tself.conv = nn.Conv2d(in_channels=input_dim,out_channels=output_dim,kernel_size=1,stride=1,padding=0,bias=False)\n",
    "\t\tself.pool = nn.AvgPool2d(kernel_size=2,stride=2)\n",
    "\t\tself.is_pool = is_pool\n",
    "\tdef forward(self, x):\n",
    "\t\tresult = self.conv(self.activation(self.bn(x)))\n",
    "\t\tif(self.is_pool):\n",
    "\t\t\tresult = self.pool(result)\n",
    "\t\treturn result\n",
    "\n",
    "class DenseBlock(nn.Module):\n",
    "\tdef __init__(self, input_dim=3, growthRate=12, num_dense_layers=5):\n",
    "\t\tsuper(DenseBlock, self).__init__()\n",
    "\t\t\n",
    "\t\tself.im = input_dim\n",
    "\t\tlayers = []\n",
    "\t\tfor i in range(num_dense_layers):\n",
    "\t\t\tlayers.append(BottleNeckLayer(input_dim+i*growthRate,growthRate))\n",
    "\t\tself.dense = nn.Sequential(*layers)\n",
    "\t\n",
    "\tdef forward(self, x):\n",
    "\t\treturn self.dense(x)\n",
    "\n",
    "# ****** Define Unet ******\n",
    "class DoubleConv(nn.Module):\n",
    "    \"\"\"(convolution => [BN] => ReLU) * 2\"\"\"\n",
    "\n",
    "    def __init__(self, in_channels, out_channels):\n",
    "        super(DoubleConv, self).__init__()\n",
    "        self.double_conv = nn.Sequential(\n",
    "            nn.Conv2d(in_channels, out_channels, kernel_size=3, padding=1),\n",
    "            nn.BatchNorm2d(out_channels),\n",
    "            nn.ReLU(inplace=True),\n",
    "            nn.Conv2d(out_channels, out_channels, kernel_size=3, padding=1),\n",
    "            nn.BatchNorm2d(out_channels),\n",
    "            nn.ReLU(inplace=True)\n",
    "        )\n",
    "\n",
    "    def forward(self, x):\n",
    "        return self.double_conv(x)\n",
    "\n",
    "\n",
    "class Down(nn.Module):\n",
    "    \"\"\"Downscaling with maxpool then double conv\"\"\"\n",
    "\n",
    "    def __init__(self, in_channels, out_channels):\n",
    "        super(Down, self).__init__()\n",
    "        self.maxpool_conv = nn.Sequential(\n",
    "            nn.MaxPool2d(2),\n",
    "            DoubleConv(in_channels, out_channels)\n",
    "        )\n",
    "\n",
    "    def forward(self, x):\n",
    "        return self.maxpool_conv(x)\n",
    "\n",
    "\n",
    "class Up(nn.Module):\n",
    "    \"\"\"Upscaling then double conv\"\"\"\n",
    "\n",
    "    def __init__(self, in_channels, out_channels, bilinear=True):\n",
    "        super(Up, self).__init__()\n",
    "\n",
    "        # if bilinear, use the normal convolutions to reduce the number of channels\n",
    "        if bilinear:\n",
    "            self.up = nn.Upsample(scale_factor=2, mode='bilinear', align_corners=True)\n",
    "        else:\n",
    "            self.up = nn.ConvTranspose2d(in_channels // 2, in_channels // 2, kernel_size=2, stride=2)\n",
    "\n",
    "        self.conv = DoubleConv(in_channels, out_channels)\n",
    "\n",
    "    def forward(self, x1, x2):\n",
    "        x1 = self.up(x1)\n",
    "        # input is CHW\n",
    "        diffY = torch.tensor([x2.size()[2] - x1.size()[2]])\n",
    "        diffX = torch.tensor([x2.size()[3] - x1.size()[3]])\n",
    "\n",
    "        x1 = F.pad(x1, [diffX // 2, diffX - diffX // 2,\n",
    "                        diffY // 2, diffY - diffY // 2])\n",
    "        x = torch.cat([x2, x1], dim=1)\n",
    "        return self.conv(x)\n",
    "\n",
    "\n",
    "class OutConv(nn.Module):\n",
    "    def __init__(self, in_channels, out_channels):\n",
    "        super(OutConv, self).__init__()\n",
    "        self.conv = nn.Conv2d(in_channels, out_channels, kernel_size=1)\n",
    "\n",
    "    def forward(self, x):\n",
    "        return self.conv(x)\n",
    "\t\t\n",
    "class UNet(nn.Module):\n",
    "    def __init__(self, n_channels, n_classes, bilinear=True):\n",
    "        super(UNet, self).__init__()\n",
    "        self.n_channels = n_channels\n",
    "        self.n_classes = n_classes\n",
    "        self.bilinear = bilinear\n",
    "\n",
    "        self.inc = DoubleConv(n_channels, 64)\n",
    "        self.down1 = Down(64, 128)\n",
    "        self.down2 = Down(128, 256)\n",
    "        self.down3 = Down(256, 512)\n",
    "        self.down4 = Down(512, 512)\n",
    "        self.up1 = Up(1024, 256, bilinear)\n",
    "        self.up2 = Up(512, 128, bilinear)\n",
    "        self.up3 = Up(256, 64, bilinear)\n",
    "        self.up4 = Up(128, 64, bilinear)\n",
    "        self.outc = OutConv(64, n_classes)\n",
    "\n",
    "    def forward(self, x):\n",
    "        x1 = self.inc(x)\n",
    "        x2 = self.down1(x1)\n",
    "        x3 = self.down2(x2)\n",
    "        x4 = self.down3(x3)\n",
    "        x5 = self.down4(x4)\n",
    "        x = self.up1(x5, x4)\n",
    "        x = self.up2(x, x3)\n",
    "        x = self.up3(x, x2)\n",
    "        x = self.up4(x, x1)\n",
    "        logits = self.outc(x)\n",
    "        return logits\n",
    "\n",
    "# ****** Define FCN-8 ******\n",
    "\n",
    "class FCN8(nn.Module):\n",
    "\n",
    "    def __init__(self, in_channel=3, numclass=3):\n",
    "        super(FCN8, self).__init__()\n",
    "        self.conv11 = nn.Conv2d(in_channels=in_channel, out_channels=64, kernel_size=3, padding=1)\n",
    "        self.conv12 = nn.Conv2d(in_channels=64, out_channels=64, kernel_size=3, padding=1)\n",
    "        self.pool1 = nn.MaxPool2d(kernel_size=2, stride=2)\n",
    "\n",
    "        self.conv21 = nn.Conv2d(in_channels=64, out_channels=128, kernel_size=3, padding=1)\n",
    "        self.conv22 = nn.Conv2d(in_channels=128, out_channels=128, kernel_size=3, padding=1)\n",
    "        self.pool2 = nn.MaxPool2d(kernel_size=2, stride=2)\n",
    "\n",
    "        self.conv31 = nn.Conv2d(in_channels=128, out_channels=256, kernel_size=3, padding=1)\n",
    "        self.conv32 = nn.Conv2d(in_channels=256, out_channels=256, kernel_size=3, padding=1)\n",
    "        self.conv33 = nn.Conv2d(in_channels=256, out_channels=256, kernel_size=3, padding=1)\n",
    "        self.pool3 = nn.MaxPool2d(kernel_size=2, stride=2)\n",
    "\n",
    "        self.conv41 = nn.Conv2d(in_channels=256, out_channels=512, kernel_size=3, padding=1)\n",
    "        self.conv42 = nn.Conv2d(in_channels=512, out_channels=512, kernel_size=3, padding=1)\n",
    "        self.conv43 = nn.Conv2d(in_channels=512, out_channels=512, kernel_size=3, padding=1)\n",
    "        self.pool4 = nn.MaxPool2d(kernel_size=2, stride=2, padding=1)\n",
    "\n",
    "        self.conv51 = nn.Conv2d(in_channels=512, out_channels=512, kernel_size=3, padding=1)\n",
    "        self.conv52 = nn.Conv2d(in_channels=512, out_channels=512, kernel_size=3, padding=1)\n",
    "        self.conv53 = nn.Conv2d(in_channels=512, out_channels=512, kernel_size=3, padding=1)\n",
    "        self.pool5 = nn.MaxPool2d(kernel_size=2, stride=2)\n",
    "\n",
    "        self.conv6 = nn.Conv2d(in_channels=512, out_channels=4096, kernel_size=7, padding=3)\n",
    "        self.dropout1 = nn.Dropout(0.85)\n",
    "\n",
    "        self.conv7 = nn.Conv2d(in_channels=4096, out_channels=4096, kernel_size=1)\n",
    "        self.dropout2 = nn.Dropout(0.85)\n",
    "\n",
    "        self.conv8 = nn.Conv2d(in_channels=4096, out_channels=numclass, kernel_size=1)\n",
    "\n",
    "        self.tranconv1 = nn.ConvTranspose2d(in_channels=numclass, out_channels=512, kernel_size=4, stride=2, padding=1)\n",
    "\n",
    "        self.tranconv2 = nn.ConvTranspose2d(in_channels=512, out_channels=256, kernel_size=4, stride=2, padding=2, output_padding=1)\n",
    "\n",
    "        self.tranconv3 = nn.ConvTranspose2d(in_channels=256, out_channels=numclass, kernel_size=16, stride=8, padding=4)\n",
    "\n",
    "    def forward(self, x):\n",
    "        x = self.conv12(self.conv11(x))\n",
    "        x = self.pool1(x)\n",
    "        x = self.pool2(self.conv22(self.conv21(x)))\n",
    "        x1 = self.pool3(self.conv33(self.conv32(self.conv31(x))))\n",
    "        x2 = self.pool4(self.conv43(self.conv42(self.conv41(x1))))\n",
    "        x = self.pool5(self.conv53(self.conv52(self.conv51(x2))))\n",
    "        x = self.dropout1(self.conv6(x))\n",
    "        x = self.dropout2(self.conv7(x))\n",
    "        x = self.conv8(x)\n",
    "        x = self.tranconv1(x)\n",
    "        x = x2 + x\n",
    "        x = self.tranconv2(x)\n",
    "        x = x1 + x\n",
    "        x = self.tranconv3(x)\n",
    "        return x\n",
    "\n",
    "\n",
    "class Downsample(nn.Module):\n",
    "\tdef __init__(self, in_channels, out_channels, scale):\n",
    "\t\tsuper(Downsample, self).__init__()\n",
    "\t\tlayers = []\n",
    "\t\tnum_channels = in_channels\n",
    "\t\tfor i in range(int(math.log(scale, 2))-1):\n",
    "\t\t\tlayers.append(Down(num_channels, num_channels*2))\n",
    "\t\t\tnum_channels = num_channels * 2\n",
    "\t\tlayers.append(Down(num_channels, out_channels))\n",
    "\t\tself.downsample = nn.Sequential(*layers)\n",
    "\t\t\n",
    "\n",
    "\tdef forward(self, x):\n",
    "\t\treturn self.downsample(x)\n",
    "class Upsample(nn.Module):\n",
    "\tdef __init__(self, in_channels, out_channels, scale):\n",
    "\t\tsuper(Upsample, self).__init__()\n",
    "\t\tlayers = []\n",
    "\t\tnum_channels = in_channels\n",
    "\t\tfor i in range(int(math.log(scale, 2))-1):\n",
    "\t\t\tlayers.append(nn.ConvTranspose2d(in_channels=num_channels, out_channels=num_channels//2, kernel_size=4, stride=2, padding=1))\n",
    "\t\t\tnum_channels = num_channels // 2\n",
    "\t\tlayers.append(nn.ConvTranspose2d(in_channels=num_channels, out_channels=out_channels, kernel_size=4, stride=2, padding=1))\n",
    "\t\tself.upsample = nn.Sequential(*layers)\n",
    "\t\t\n",
    "\n",
    "\tdef forward(self, x):\n",
    "\t\treturn self.upsample(x)\n",
    "\n",
    "class PALayer(nn.Module):\n",
    "    def __init__(self, channel):\n",
    "        super(PALayer, self).__init__()\n",
    "        self.activation = nn.ReLU(inplace=True)\n",
    "        self.sigmoid = nn.Sigmoid()\n",
    "        self.conv00 = nn.Conv2d(in_channels=channel, out_channels=channel, kernel_size=3, padding=1, bias=True)\n",
    "        self.conv01 = nn.Conv2d(in_channels=channel, out_channels=channel, kernel_size=3, padding=1, bias=True)\n",
    "\n",
    "        self.down1 = nn.MaxPool2d(2)\n",
    "        self.conv11 = nn.Conv2d(in_channels=channel, out_channels=channel, kernel_size=3, padding=1, bias=True)\n",
    "        self.up11 = Upsample(channel, channel, 2)\n",
    "        self.down2 = nn.MaxPool2d(2)\n",
    "        self.conv21 = nn.Conv2d(in_channels=channel, out_channels=channel, kernel_size=3, padding=1, bias=True)\n",
    "        self.up21 = Upsample(channel, channel, 4)\n",
    "        self.conv_out = nn.Conv2d(in_channels=3*channel, out_channels=channel, kernel_size=3, padding=1, bias=True)\n",
    "    def forward(self, x):\n",
    "        x00 = self.activation(self.conv00(x)) # 16\n",
    "        x01 = self.activation(self.conv01(x00)) # 16\n",
    "        x0_out = self.sigmoid(x01)\n",
    "        x0_out = x * x0_out\n",
    "        \n",
    "        x11 = self.down1(x00) # 16\n",
    "        x11 = self.activation(self.conv11(x11)) # 16\n",
    "        x1_out = self.up11(x11) # 16\n",
    "        x1_out = self.sigmoid(x1_out)\n",
    "        x1_out = x * x1_out\n",
    "        x21 = self.down2(x11) # 16\n",
    "        x21 = self.activation(self.conv21(x21)) # 16\n",
    "        x2_out = self.up21(x21) # 16\n",
    "        x2_out = self.sigmoid(x2_out)\n",
    "        x2_out = x * x2_out\n",
    "        y = torch.cat([x0_out, x1_out, x2_out], dim=1)\n",
    "        y = self.activation(self.conv_out(y)) # 16\n",
    "        return y\n",
    "\n",
    "class UniversalEstimator(nn.Module):\n",
    "    def __init__(self, n_channels, n_classes, bilinear, sigmoid):\n",
    "        super(UniversalEstimator, self).__init__()\n",
    "        if sigmoid:\n",
    "            self.estimate = nn.Sequential(\n",
    "                    UNet(n_channels=n_channels, n_classes=n_classes, bilinear=bilinear),\n",
    "                    PALayer(n_classes),\n",
    "                    nn.Sigmoid()\n",
    "            )\n",
    "        else:\n",
    "            self.estimate = nn.Sequential(\n",
    "                    Unet(n_channels=n_channels, n_classes=n_classes, bilinear=bilinear),\n",
    "                    PALayer(n_classes)\n",
    "            )\n",
    "\n",
    "    def forward(self, x):\n",
    "        y = self.estimate(x)\n",
    "        return y\n",
    "\n",
    "class CALayer(nn.Module):\n",
    "    def __init__(self, channel):\n",
    "        super(CALayer, self).__init__()\n",
    "        self.ca = nn.Sequential(\n",
    "                nn.AvgPool2d(16),\n",
    "                nn.Conv2d(channel, channel, kernel_size=3, padding=1, bias=True),\n",
    "                nn.ReLU(inplace=True)\n",
    "        )\n",
    "        self.avg_pool = nn.AdaptiveAvgPool2d(1)\n",
    "        self.sigmoid = nn.Sigmoid()\n",
    "\n",
    "    def forward(self, x):\n",
    "        y = self.ca(x)\n",
    "        y = self.avg_pool(y)\n",
    "        y = self.sigmoid(y)\n",
    "        return x * y\n",
    "\n",
    "# ****** Define Generator and Discriminator ******\n",
    "class AtmLightEstimator(nn.Module):\n",
    "\tdef __init__(self, in_channels, out_channels):\n",
    "\t\tsuper(AtmLightEstimator, self).__init__()\n",
    "\t\tself.conv = nn.Conv2d(in_channels=in_channels,out_channels=out_channels,kernel_size=3,stride=1,padding=1,bias=False)\n",
    "\t\tself.bn = nn.BatchNorm2d(num_features=in_channels)\n",
    "\t\tself.activation=nn.LeakyReLU(0.2, inplace=True)\n",
    "\t\tself.down1 = Downsample(out_channels, out_channels*2, 2)\n",
    "\t\tself.down2 = Downsample(out_channels*2, out_channels*4, 2)\n",
    "\t\tself.down3 = Downsample(out_channels*4, out_channels*8, 2)\n",
    "\t\tself.up1 = Upsample(out_channels*8, out_channels*4, 2)\n",
    "\t\tself.up2 = Upsample(out_channels*8, out_channels*4, 2)\n",
    "\t\tself.up3 = Upsample(out_channels*6, out_channels*3, 2)\n",
    "\t\tself.ca = CALayer(out_channels*3)\n",
    "\t\tself.pa = PALayer(out_channels*3)\n",
    "\t\tself.transition = TransitionLayer(out_channels*3, out_channels, False)\n",
    "\t\tself.bypass = TransitionLayer(out_channels, out_channels, False)\n",
    "\n",
    "\tdef forward(self, x):\n",
    "\t\tx = self.conv(self.activation(self.bn(x)))\n",
    "\t\tfeature2x = self.down1(x) # in_channels*2\n",
    "\t\tfeature4x = self.down2(feature2x) #in_channels*4\n",
    "\t\tfeature8x = self.down3(feature4x) #in_channels*8\n",
    "\t\toutput = self.up1(feature8x) #in_channels*4\n",
    "\t\toutput = self.up2(torch.cat((output, feature4x),1)) #in_channels*4\n",
    "\t\toutput = self.up3(torch.cat((output, feature2x),1))\n",
    "\t\tA = self.ca(output)\n",
    "\t\tA = self.pa(A)\n",
    "\t\tA = self.transition(A) + self.bypass(x)\n",
    "\t\t# shape_out1 = A.data.size()\n",
    "\t\t# shape_out = shape_out1[2:4]\n",
    "\t\t# \n",
    "\t\t# A = F.avg_pool2d(A, shape_out1[2])\n",
    "\t\t# A = self.upsample(self.activation(A),size=shape_out)\n",
    "\t\treturn A\n",
    "\t\t\n",
    "class dehaze_net(nn.Module):\n",
    "\n",
    "\tdef __init__(self, input_dim=3, growthRate=12, num_dense_layers=5,reduction=0.5):\n",
    "\t\tsuper(dehaze_net, self).__init__()\n",
    "\n",
    "\t\tself.t_estimator = nn.Sequential(\n",
    "                    UNet(n_channels=input_dim, n_classes=3, bilinear=False),\n",
    "                    nn.Sigmoid()\n",
    "            )\n",
    "\n",
    "\t\tself.A_estimator = nn.Sequential(\n",
    "                    UNet(n_channels=input_dim, n_classes=3, bilinear=False),\n",
    "                    nn.Sigmoid()\n",
    "            )\n",
    "\t\t\n",
    "\tdef forward(self, x, enable_A=1, true_A=0, enable_t=1, true_t=1):\n",
    "\t\t# if flag = 1, use true_A and abandon trained A.\n",
    "\t\tt = self.t_estimator(x)\n",
    "\t\tA = self.A_estimator(x)\n",
    "\n",
    "\t\tclean_image = (x-A)/t + A\n",
    "\t\t\n",
    "\t\treturn clean_image, t, A\n",
    "\n",
    "class enhance_net(nn.Module):\n",
    "\n",
    "    def __init__(self, input_dim=3, growthRate=12, num_dense_layers=5):\n",
    "        super(enhance_net, self).__init__()\n",
    "\n",
    "        num_channels = input_dim\n",
    "        self.conv1 = nn.Conv2d(num_channels, 20, 1, padding=0, bias=True)\n",
    "        self.conv2 = nn.Conv2d(20, 40, 1, padding=0, bias=True)\n",
    "        self.conv3 = nn.Conv2d(40, 60, 1, padding=0, bias=True)\n",
    "        self.EM1 = nn.Sequential(\n",
    "                    DenseBlock(60, growthRate, num_dense_layers),\n",
    "                    TransitionLayer(60+growthRate*num_dense_layers, 60),\n",
    "                    PALayer(60),\n",
    "                    CALayer(60)\n",
    "            )\n",
    "        self.EM2 = nn.Sequential(\n",
    "                    DenseBlock(60, growthRate, num_dense_layers),\n",
    "                    TransitionLayer(60+growthRate*num_dense_layers, 60),\n",
    "                    PALayer(60),\n",
    "                    CALayer(60)\n",
    "            )\n",
    "        self.EM3 = nn.Sequential(\n",
    "                    DenseBlock(60, growthRate, num_dense_layers),\n",
    "                    TransitionLayer(60+growthRate*num_dense_layers, 60),\n",
    "                    PALayer(60),\n",
    "                    CALayer(60)\n",
    "            )\n",
    "        self.EM4 = nn.Sequential(\n",
    "                    DenseBlock(60, growthRate, num_dense_layers),\n",
    "                    TransitionLayer(60+growthRate*num_dense_layers, 60),\n",
    "                    PALayer(60),\n",
    "                    CALayer(60)\n",
    "            )\n",
    "        self.EM5 = nn.Sequential(\n",
    "                    DenseBlock(60, growthRate, num_dense_layers),\n",
    "                    TransitionLayer(60+growthRate*num_dense_layers, 60),\n",
    "                    PALayer(60),\n",
    "                    CALayer(60)\n",
    "            )\n",
    "        self.EM6 = nn.Sequential(\n",
    "                    DenseBlock(60, growthRate, num_dense_layers),\n",
    "                    TransitionLayer(60+growthRate*num_dense_layers, 60),\n",
    "                    PALayer(60),\n",
    "                    CALayer(60)\n",
    "            )\n",
    "        self.conv4 = nn.Conv2d(60, 40, 1, padding=0, bias=True)\n",
    "        self.conv5 = nn.Conv2d(40, 20, 1, padding=0, bias=True)\n",
    "        self.conv6 = nn.Conv2d(20, num_channels, 1, padding=0, bias=True)\n",
    "        self.relu = nn.ReLU(inplace=True)\n",
    "\n",
    "    def forward(self, x):\n",
    "        output = self.relu(self.conv1(x))\n",
    "        output = self.relu(self.conv2(output))\n",
    "        output = self.relu(self.conv3(output))\n",
    "        \n",
    "        output = self.EM1(output)\n",
    "        output = self.EM2(output)\n",
    "        output = self.EM3(output)\n",
    "        output = self.EM4(output)\n",
    "        output = self.EM5(output)\n",
    "        output = self.EM6(output)\n",
    "        \n",
    "        output = self.relu(self.conv4(output))\n",
    "        output = self.relu(self.conv5(output))\n",
    "        output = self.relu(self.conv6(output))\n",
    "        return output\n",
    "        \n",
    "ndf = 64\n",
    "class Discriminator(nn.Module):\n",
    "    def __init__(self, input_nc=3, ndf=64, n_layers=3, norm_layer=nn.BatchNorm2d, use_sigmoid=True):\n",
    "        super(Discriminator, self).__init__()\n",
    "        if type(norm_layer) == functools.partial:\n",
    "            use_bias = norm_layer.func == nn.InstanceNorm2d\n",
    "        else:\n",
    "            use_bias = norm_layer == nn.InstanceNorm2d\n",
    "\n",
    "        kw = 4\n",
    "        padw = 1\n",
    "        sequence = [\n",
    "            nn.Conv2d(input_nc, ndf, kernel_size=kw, stride=2, padding=padw),\n",
    "            nn.LeakyReLU(0.2, True)\n",
    "        ]\n",
    "\n",
    "        nf_mult = 1\n",
    "        nf_mult_prev = 1\n",
    "        for n in range(1, n_layers):\n",
    "            nf_mult_prev = nf_mult\n",
    "            nf_mult = min(2**n, 8)\n",
    "            sequence += [\n",
    "                nn.Conv2d(ndf * nf_mult_prev, ndf * nf_mult,\n",
    "                          kernel_size=kw, stride=2, padding=padw, bias=use_bias),\n",
    "                norm_layer(ndf * nf_mult),\n",
    "                nn.LeakyReLU(0.2, True)]\n",
    "        nf_mult_prev = nf_mult\n",
    "        nf_mult = min(2**n_layers, 8)\n",
    "        sequence += [\n",
    "            nn.Conv2d(ndf * nf_mult_prev, ndf * nf_mult,\n",
    "                      kernel_size=kw, stride=1, padding=padw, bias=use_bias),\n",
    "            norm_layer(ndf * nf_mult),\n",
    "            nn.LeakyReLU(0.2, True)\n",
    "        ]\n",
    "\n",
    "        sequence += [nn.Conv2d(ndf * nf_mult, 1, kernel_size=kw, stride=1, padding=padw)]\n",
    "\n",
    "        if use_sigmoid:\n",
    "            sequence += [nn.Sigmoid()]\n",
    "\n",
    "        self.model = nn.Sequential(*sequence)\n",
    "\n",
    "    def forward(self, input):\n",
    "        return self.model(input)\n",
    "\n",
    "\n",
    "\n",
    "\n",
    "\n"
   ]
  },
  {
   "cell_type": "code",
   "execution_count": 4,
   "metadata": {},
   "outputs": [],
   "source": [
    "import torch\n",
    "import torch.nn.functional as F\n",
    "from torch.autograd import Variable\n",
    "import numpy as np\n",
    "from math import exp\n",
    "from PIL import Image\n",
    "import cv2\n",
    "import os\n",
    "import json\n",
    "import math\n",
    "\n",
    "def gaussian(window_size, sigma):\n",
    "    gauss = torch.Tensor([math.exp(-(x - window_size // 2) ** 2 / float(2 * sigma ** 2)) for x in range(window_size)])\n",
    "    return gauss / gauss.sum()\n",
    "\n",
    "\n",
    "def create_window(window_size, channel):\n",
    "    _1D_window = gaussian(window_size, 1.5).unsqueeze(1)\n",
    "    _2D_window = _1D_window.mm(_1D_window.t()).float().unsqueeze(0).unsqueeze(0)\n",
    "    window = Variable(_2D_window.expand(channel, 1, window_size, window_size).contiguous())\n",
    "    return window\n",
    "\n",
    "\n",
    "def _ssim(img1, img2, window, window_size, channel, size_average=True):\n",
    "    mu1 = F.conv2d(img1, window, padding=window_size // 2, groups=channel)\n",
    "    mu2 = F.conv2d(img2, window, padding=window_size // 2, groups=channel)\n",
    "\n",
    "    mu1_sq = mu1.pow(2)\n",
    "    mu2_sq = mu2.pow(2)\n",
    "    mu1_mu2 = mu1 * mu2\n",
    "\n",
    "    sigma1_sq = F.conv2d(img1 * img1, window, padding=window_size // 2, groups=channel) - mu1_sq\n",
    "    sigma2_sq = F.conv2d(img2 * img2, window, padding=window_size // 2, groups=channel) - mu2_sq\n",
    "    sigma12 = F.conv2d(img1 * img2, window, padding=window_size // 2, groups=channel) - mu1_mu2\n",
    "\n",
    "    C1 = 0.01 ** 2\n",
    "    C2 = 0.03 ** 2\n",
    "\n",
    "    ssim_map = ((2 * mu1_mu2 + C1) * (2 * sigma12 + C2)) / ((mu1_sq + mu2_sq + C1) * (sigma1_sq + sigma2_sq + C2))\n",
    "\n",
    "    if size_average:\n",
    "        return ssim_map.mean()\n",
    "    else:\n",
    "        return ssim_map.mean(1).mean(1).mean(1)\n",
    "\n",
    "\n",
    "class SSIM(torch.nn.Module):\n",
    "    def __init__(self, window_size=11, size_average=True):\n",
    "        super(SSIM, self).__init__()\n",
    "        self.window_size = window_size\n",
    "        self.size_average = size_average\n",
    "        self.channel = 1\n",
    "        self.window = create_window(window_size, self.channel)\n",
    "\n",
    "    def forward(self, img1, img2):\n",
    "        (_, channel, _, _) = img1.size()\n",
    "\n",
    "        if channel == self.channel and self.window.data.type() == img1.data.type():\n",
    "            window = self.window\n",
    "        else:\n",
    "            window = create_window(self.window_size, channel)\n",
    "\n",
    "            if img1.is_cuda:\n",
    "                window = window.cuda(img1.get_device())\n",
    "            window = window.type_as(img1)\n",
    "\n",
    "            self.window = window\n",
    "            self.channel = channel\n",
    "\n",
    "        return _ssim(img1, img2, window, self.window_size, channel, self.size_average)\n",
    "\n",
    "\n",
    "def ssim(img1, img2, window_size=11, size_average=True):\n",
    "    img1 = correctsize(img1)\n",
    "    img2 = correctsize(img2)\n",
    "    img1 = Variable(img1)\n",
    "    img2 = Variable(img2)\n",
    "    (_, channel, _, _) = img1.size()\n",
    "    window = create_window(window_size, channel)\n",
    "\n",
    "    if img1.is_cuda:\n",
    "        window = window.cuda(img1.get_device())\n",
    "    window = window.type_as(img1)\n",
    "\n",
    "    return _ssim(img1, img2, window, window_size, channel, size_average)\n",
    "\n",
    "def correctsize(img):\n",
    "    im = torch.from_numpy(img).float().permute(2,0,1).unsqueeze(0)\n",
    "    return im"
   ]
  },
  {
   "cell_type": "code",
   "execution_count": null,
   "metadata": {},
   "outputs": [],
   "source": [
    "orig_images_path=\"data/images/\"\n",
    "hazy_images_path=\"data/data/\"\n",
    "lr=0.0001\n",
    "weight_decay=0.0001\n",
    "grad_clip_norm=0.1\n",
    "num_epochs=2000\n",
    "train_batch_size=1\n",
    "val_batch_size=8\n",
    "num_workers=4\n",
    "display_iter=10\n",
    "snapshot_iter=200\n",
    "snapshots_folder=\"snapshots/\"\n",
    "sample_output_folder=\"samples/\""
   ]
  },
  {
   "cell_type": "code",
   "execution_count": null,
   "metadata": {},
   "outputs": [],
   "source": [
    "import os\n",
    "import sys\n",
    "\n",
    "import torch\n",
    "import torch.utils.data as data\n",
    "\n",
    "import numpy as np\n",
    "from PIL import Image\n",
    "import glob\n",
    "import random\n",
    "import cv2\n",
    "import math\n",
    "\n",
    "random.seed(1143)\n",
    "\n",
    "\n",
    "def DarkChannel(im, sz=15):\n",
    "    b, g, r = cv2.split(im)\n",
    "    dc = cv2.min(cv2.min(r, g), b)\n",
    "    kernel = cv2.getStructuringElement(cv2.MORPH_RECT, (sz, sz))\n",
    "    dark = cv2.erode(dc, kernel)\n",
    "    return dark\n",
    "def AtmLight(im, dark):\n",
    "    [h, w] = im.shape[:2]\n",
    "    imsz = h * w\n",
    "    numpx = int(max(math.floor(imsz / 1000), 1))\n",
    "    darkvec = dark.reshape(imsz, 1)\n",
    "    imvec = im.reshape(imsz, 3)\n",
    "\n",
    "    indices = darkvec.argsort()\n",
    "    indices = indices[imsz - numpx::]\n",
    "\n",
    "    atmsum = np.zeros([1, 3])\n",
    "    for ind in range(1, numpx):\n",
    "        atmsum = atmsum + imvec[indices[ind]]\n",
    "\n",
    "    A = atmsum / numpx\n",
    "    return A\n",
    "\n",
    "def get_params(origin_img, hazy_img):\n",
    "    J = origin_img.astype('float64') / 255\n",
    "    I = hazy_img.astype('float64') / 255\n",
    "    dc = DarkChannel(I)\n",
    "    A = AtmLight(I, dc)\n",
    "    t = (I - A[0]) / (J - A[0])\n",
    "    return t, A.mean()\n",
    "\n",
    "def populate_train_list_NYU2():\n",
    "\n",
    "\n",
    "\thazy_list = tuple([\"NYU2_water/haze/\"+ i for i in os.listdir(\"NYU2_water/haze/\")])\n",
    "\tclean_list = tuple([\"NYU2/images/\"+ i for i in os.listdir(\"NYU2/images/\")])\n",
    "\tpopulated_list = []\n",
    "\tfor i in range(1449):\n",
    "\t\tindex = str(i)\n",
    "\t\tfor j in range(4):\n",
    "\t\t\tpair = [\"NYU2/images/\"+str(i)+\".jpg\", \"NYU2_water/haze/\"+str(i)+\"_\"+str(j)+\".png\", \"NYU2_water/A/\"+str(i)+\"_\"+str(j)+\".npy\", \"NYU2_water/transmission/\"+str(i)+\"_\"+str(j)+\".npy\"]\n",
    "\t\t\tpopulated_list.append(pair)\n",
    "\n",
    "\trandom.shuffle(populated_list)\n",
    "\n",
    "\treturn populated_list\n",
    "\n",
    "def populate_train_list_CycleGAN():\n",
    "\n",
    "\n",
    "\thazy_list = tuple([\"dataset_water2/\"+ i for i in os.listdir(\"dataset_water2/\") if \"fake\" in i])\n",
    "\tclean_list = tuple([\"dataset_water2/\"+ i for i in os.listdir(\"dataset_water2/\") if \"real\" in i])\n",
    "\tpopulated_list = []\n",
    "\tfor i in range(len(hazy_list)):\n",
    "\t\tfor j in range(len(clean_list)):\n",
    "\t\t\tif hazy_list[i].split(\"_\")[1]==clean_list[j].split(\"_\")[1]:\n",
    "\t\t\t\tpopulated_list.append([clean_list[j], hazy_list[i], 0, 0])\n",
    "\t\t\t\tbreak\n",
    "\n",
    "\n",
    "\trandom.shuffle(populated_list)\n",
    "\n",
    "\treturn populated_list\n",
    "\n",
    "\t\n",
    "def populate_train_list(orig_images_path, hazy_images_path):\n",
    "    nyu_list = populate_train_list_NYU2()\n",
    "    cyclegan_list = populate_train_list_CycleGAN()\n",
    "    l = []\n",
    "    p = 0\n",
    "    q = 0\n",
    "    for i in range(min(len(nyu_list), len(cyclegan_list))):\n",
    "        if i % 4 ==0 or i % 4 ==1:\n",
    "            l.append(cyclegan_list[p])\n",
    "            p+=1\n",
    "        else:\n",
    "            l.append(nyu_list[q])\n",
    "            q+=1\n",
    "    return l\n",
    "\n",
    "class dehazing_loader(data.Dataset):\n",
    "\n",
    "\tdef __init__(self, orig_images_path, hazy_images_path, mode='train'):\n",
    "\n",
    "\t\tself.data_list = populate_train_list_CycleGAN()\n",
    "\n",
    "\t\t\n",
    "\n",
    "\tdef __getitem__(self, index):\n",
    "\t\tnetSize = 256\n",
    "        \n",
    "\t\tdata_orig_path, data_hazy_path, data_A_path, data_t_path = self.data_list[index]\n",
    "\n",
    "\t\tdata_orig = Image.open(data_orig_path)\n",
    "\t\tdata_hazy = Image.open(data_hazy_path)\n",
    "\t\t# est_t, est_A = get_params(np.asarray(data_orig), np.asarray(data_hazy))\n",
    "\t\t# derived = get_params(np.asarray(data_orig), np.asarray(data_hazy))\n",
    "\t\t# K = Image.fromarray(np.uint8(255*derived[0]))\n",
    "\t\t# b = Image.fromarray(np.uint8(255*derived[1]))\n",
    "\t\t# dc = DarkChannel(np.asarray(data_orig.astype('float64') / 255))\n",
    "\n",
    "\t\tdata_orig = data_orig.resize((netSize,netSize), Image.ANTIALIAS)\n",
    "\t\tdata_hazy = data_hazy.resize((netSize,netSize), Image.ANTIALIAS)\n",
    "\n",
    "\t\t# dc = dc.resize((480,640), Image.ANTIALIAS)\n",
    "\t\t# K = K.resize((480,640), Image.ANTIALIAS)\n",
    "\t\t# b = b.resize((480,640), Image.ANTIALIAS)\n",
    "\n",
    "\t\tdata_orig = (np.asarray(data_orig)/255.0)\n",
    "\t\tdata_hazy = (np.asarray(data_hazy)/255.0)\n",
    "\t\t# dc = (np.asarray(dc)/255.0) \n",
    "\t\t# K = (np.asarray(K)/255.0) \n",
    "\t\t# b = (np.asarray(data_hazy)/255.0)\n",
    "\t\t# test = K*data_hazy+b\n",
    "\t\t# if index == 0:\n",
    "\t\t# \tcv2.imshow(\"clear\",test)\n",
    "\t\t# \tcv2.waitKey()\n",
    "\n",
    "\t\tdata_orig = torch.from_numpy(data_orig).float()\n",
    "\t\tdata_hazy = torch.from_numpy(data_hazy).float()\n",
    "        \n",
    "\t\tdata_A = torch.ones(1).float()\n",
    "\t\tdata_t = torch.ones(1).float()\n",
    "        \n",
    "\t\tif data_A_path!=0:\n",
    "\t\t\tdata_A1 = np.load(data_A_path)\n",
    "\t\t\tb, g, r = cv2.split(data_A1)\n",
    "\t\t\tdata_A = cv2.merge([r, g, b])\n",
    "\t\t\tdata_A = cv2.resize(data_A, (netSize, netSize))\n",
    "\t\t\tdata_A = torch.from_numpy(data_A).float().permute(2,0,1)\n",
    "\t\t\tdata_t = np.load(data_t_path)\n",
    "\t\t\tb, g, r = cv2.split(data_t)\n",
    "\t\t\tdata_t = cv2.merge([r, g, b])\n",
    "\t\t\tdata_t = cv2.resize(data_t, (netSize, netSize))\n",
    "\t\t\tdata_t = torch.from_numpy(data_t).float().permute(2,0,1)\n",
    "\t\telse:\n",
    "\t\t\tdata_A = torch.Tensor([1.0]).float()\n",
    "\t\t# dc = torch.from_numpy(dc).float()\n",
    "\t\t# K = torch.from_numpy(K).float()\n",
    "\t\t# b = torch.from_numpy(b).float()\n",
    "\n",
    "\t\treturn data_orig.permute(2,0,1), data_hazy.permute(2,0,1), data_t, data_A\n",
    "\n",
    "\tdef __len__(self):\n",
    "\t\treturn len(self.data_list)"
   ]
  },
  {
   "cell_type": "code",
   "execution_count": null,
   "metadata": {},
   "outputs": [],
   "source": [
    "import torch\n",
    "import torch.nn as nn\n",
    "import torchvision\n",
    "import torch.backends.cudnn as cudnn\n",
    "import torch.optim\n",
    "import torch.nn.functional as F\n",
    "import os\n",
    "import sys\n",
    "import argparse\n",
    "import time\n",
    "import numpy as np\n",
    "import cv2\n",
    "from torchvision import transforms\n",
    "import matplotlib.pyplot as plt\n",
    "import torchvision.utils as vutils\n",
    "from visdom import Visdom\n",
    "\n",
    "from torch.autograd import Variable\n",
    "import torch.nn.functional as F\n",
    "import json\n",
    "import time\n",
    "\n",
    "import ipdb\n",
    "import matplotlib\n",
    "from tqdm import tqdm\n",
    "from torch.utils import data as data_\n",
    "from PIL import Image\n",
    "\n",
    "model_name = \"MSEMSSDTracking6BlocksDeHaze_Asynchrony_20210306\"\n",
    "\n",
    "one = torch.FloatTensor([1])\n",
    "zero = torch.FloatTensor([0])\n",
    "mone = one * -1\n",
    "beta1 = 0.5\n",
    "\n",
    "lambdaGAN = 0.35\n",
    "device=torch.device(\"cuda:1\")\n",
    "\n",
    "def weights_init(m):\n",
    "    classname = m.__class__.__name__\n",
    "    if classname.find('Conv') != -1:\n",
    "        m.weight.data.normal_(0.0, 0.02)\n",
    "    elif classname.find('BatchNorm') != -1:\n",
    "        m.weight.data.normal_(1.0, 0.02)\n",
    "        m.bias.data.fill_(0)\n",
    "\n",
    "def tensor_to_img(tensor):\n",
    "    # img = np.asarray(torchvision.transforms.ToPILImage()(tensor))\n",
    "    # print(tensor.shape)\n",
    "    img = tensor.cpu().detach().numpy().transpose((1, 2, 0))\n",
    "    return img\n",
    "\n",
    "def img_to_Tensor(img):\n",
    "    assert type(img) == np.ndarray,'the img type is {}, but ndarry expected'.format(type(img))\n",
    "    img = cv2.cvtColor(img, cv2.COLOR_BGR2RGB)\n",
    "    img = torch.from_numpy(img.transpose((2, 0, 1)))\n",
    "    return img.float().div(255).unsqueeze(0)\n",
    "\t\n",
    "def get_x_gradient(tensor):\n",
    "    img = tensor_to_img(tensor)\n",
    "    gradient = cv2.Sobel(img,cv2.CV_64F,1,0,ksize=-1)\n",
    "    return img_to_Tensor(gradient)\n",
    "\t\n",
    "def get_y_gradient(tensor):\n",
    "    img = tensor_to_img(tensor)\n",
    "    gradient = cv2.Sobel(img,cv2.CV_64F,0,1,ksize=-1)\n",
    "    return img_to_Tensor(gradient)\n",
    "\n",
    "def nmz(tensor):\n",
    "    shape = tensor.shape[2:]\n",
    "    r_mean = torch.randn(shape)\n",
    "    r_mean = r_mean.fill_(0.485).unsqueeze(0).to(device)\n",
    "    g_mean = torch.randn(shape)\n",
    "    g_mean = g_mean.fill_(0.456).unsqueeze(0).to(device)\n",
    "    b_mean = torch.randn(shape)\n",
    "    b_mean = b_mean.fill_(0.406).unsqueeze(0).to(device)\n",
    "    rgb_mean=torch.cat([r_mean, g_mean, b_mean], 0)\n",
    "    r_std = torch.randn(shape)\n",
    "    r_std = r_std.fill_(0.229).unsqueeze(0).to(device)\n",
    "    g_std = torch.randn(shape)\n",
    "    g_std = g_std.fill_(0.224).unsqueeze(0).to(device)\n",
    "    b_std = torch.randn(shape)\n",
    "    b_std = b_std.fill_(0.225).unsqueeze(0).to(device)\n",
    "    rgb_std=torch.cat([r_std, g_std, b_std], 0).unsqueeze(0)\n",
    "    tensor = (tensor-rgb_mean) / rgb_std\n",
    "    return tensor\n",
    "\n",
    "\n",
    "def train():\n",
    "    # Define Faster RCNN Constant\n",
    "    SSD_.device=device\n",
    "    dataset = SSD_.VOCDetection(\"VOCdevkit\", [('2007', 'trainval')], SSD_.SSDAugmentation(300, (104, 117, 123)), SSD_.VOCAnnotationTransform())\n",
    "    dataloader = data_.DataLoader(dataset, \\\n",
    "                                  batch_size=1, \\\n",
    "                                  shuffle=True, \\\n",
    "                                  # pin_memory=True,\n",
    "                                  num_workers=4)\n",
    "    SSD_net = SSD_.build_ssd('train', 300, 21)\n",
    "    SSD_net = SSD_net.to(device)\n",
    "    SSD_net.load_state_dict(torch.load(\"SSD/ssd300_mAP_77.43_v2.pth\"))\n",
    "    best_map = 0\n",
    "\n",
    "    for p in SSD_net.parameters():\n",
    "        p.requires_grad = False\n",
    "    \n",
    "    # Define Enhance Net Constant\n",
    "    criterionMSE = nn.MSELoss()\n",
    "    criterionSSIM = SSIM()\n",
    "    criterionTracking = SSD_.MultiBoxLoss(21, 0.5, True, True, 3, 0.5, False, True)\n",
    "    gamma = 0.001\n",
    "    \n",
    "    netEnhance = enhance_net()\n",
    "    netEnhance = netEnhance.to(device)\n",
    "    #netEnhance.load_state_dict(torch.load('snapshots/MSEMSSDTracking6BlocksDeHaze_Asynchrony_20210306_G_240.pth'))\n",
    "\n",
    "    iteration_length = len(dataloader)\n",
    "    optimizer_G = torch.optim.Adam(netEnhance.parameters(), lr=lr, betas=(beta1, 0.999))\n",
    "    scheduler = lr_scheduler.CosineAnnealingLR(optimizer_G, 50)\n",
    "    \n",
    "    #img_losses = []\n",
    "    #tracking_losses = []\n",
    "    with open(model_name+'_img_loss.txt', 'r') as f:\n",
    "        img_losses = json.loads(f.read())[:241]\n",
    "    with open(model_name+'_tracking_loss.txt', 'r') as f:\n",
    "        tracking_losses = json.loads(f.read())[:241]\n",
    "    \n",
    "    \n",
    "\n",
    "    for epoch in range(241, num_epochs+1):\n",
    "        # For each batch in the dataloader\n",
    "        img_avg_loss = 0\n",
    "        tracking_avg_loss = 0\n",
    "        start_time = time.time()\n",
    "        for iteration, (img_orig, img_haze, targets) in tqdm(enumerate(dataloader)):\n",
    "\n",
    "            img_orig = img_orig.to(device)\n",
    "            img_haze = img_haze.to(device)\n",
    "            \n",
    "            for flag in range(2):\n",
    "                if flag ==0:\n",
    "                    netEnhance.zero_grad()\n",
    "                    enhanced = netEnhance(img_haze)\n",
    "                    ssd_input = SSD_.ToSSDInput(enhanced)\n",
    "                    ssd_output = SSD_net(enhanced)\n",
    "                    img_loss = criterionMSE(enhanced, img_orig)\n",
    "                    loss_l, loss_c = criterionTracking(ssd_output, targets)\n",
    "                    tracking_loss = gamma * (loss_l + loss_c)\n",
    "                    tracking_avg_loss += tracking_loss.item() / iteration_length\n",
    "                    tracking_loss.backward()\n",
    "                    optimizer_G.step()\n",
    "                else:\n",
    "                    netEnhance.zero_grad()\n",
    "                    enhanced = netEnhance(img_haze)\n",
    "                    img_loss = 1 - criterionSSIM(enhanced, img_orig)\n",
    "                    img_avg_loss += img_loss.item() / iteration_length\n",
    "            \n",
    "                    img_loss.backward()\n",
    "\n",
    "                    optimizer_G.step()\n",
    "                    \n",
    "           # if iteration % 2 == 0:\n",
    "           #     ssd_input = SSD_.ToSSDInput(enhanced)\n",
    "           #     ssd_output = SSD_net(enhanced)\n",
    "           #     loss_l, loss_c = criterionTracking(ssd_output, targets)\n",
    "           #     tracking_loss = gamma * (loss_l + loss_c)\n",
    "           #     tracking_avg_loss += 2*tracking_loss.item() / iteration_length\n",
    "           #     tracking_loss.backward()\n",
    "           # else:\n",
    "                # Get Image Loss\n",
    "            #    img_loss = criterionMSE(enhanced, img_orig)\n",
    "            #    img_avg_loss += 2*img_loss.item() / iteration_length\n",
    "            \n",
    "                # Compute Image Loss Gradient\n",
    "            #    img_loss.backward()\n",
    "\n",
    "            #optimizer_G.step()\n",
    "            \n",
    "        end_time = time.time()\n",
    "        used_time = end_time - start_time\n",
    "        print('[%d/%d]\\t Image Loss: %10f | trackingLoss: %10f | used_time: %10f'\n",
    "            % (epoch, num_epochs, img_avg_loss, tracking_avg_loss, used_time))\n",
    "        img_losses.append(img_avg_loss)\n",
    "        tracking_losses.append(tracking_avg_loss)\n",
    "        if(epoch%20==0):\n",
    "            torch.save(netEnhance.state_dict(), snapshots_folder + model_name + \"_G_\"+str(epoch)+\".pth\")\n",
    "        with open(model_name+'_img_loss.txt', 'w') as f:\n",
    "            f.write(json.dumps(img_losses))\n",
    "            plt.cla()\n",
    "            plt.plot(list(range(len(img_losses))), img_losses, label=\"blue\", color=\"#ff0000\")\n",
    "            plt.savefig(model_name + '_img_loss' + '.png')\n",
    "        with open(model_name+'_tracking_loss.txt', 'w') as f:\n",
    "            f.write(json.dumps(tracking_losses))\n",
    "            plt.cla()\n",
    "            plt.plot(list(range(len(tracking_losses))), tracking_losses, label=\"blue\", color=\"#ff0000\")\n",
    "            plt.savefig(model_name + '_tracking_loss' + '.png')\n",
    "\n",
    "\n",
    "\n",
    "\n",
    "\n",
    "\n",
    "\n",
    "\n",
    "\n",
    "\n",
    "\n",
    "\n",
    "\n",
    "\n",
    "\n",
    "\n",
    "\t"
   ]
  },
  {
   "cell_type": "markdown",
   "metadata": {},
   "source": [
    "train()"
   ]
  },
  {
   "cell_type": "code",
   "execution_count": null,
   "metadata": {
    "scrolled": false
   },
   "outputs": [
    {
     "name": "stderr",
     "output_type": "stream",
     "text": [
      "0it [00:00, ?it/s]/usr/local/lib/python3.5/dist-packages/torch/nn/_reduction.py:43: UserWarning: size_average and reduce args will be deprecated, please use reduction='sum' instead.\n",
      "  warnings.warn(warning.format(ret))\n",
      "5011it [59:35,  1.40it/s]\n"
     ]
    },
    {
     "name": "stdout",
     "output_type": "stream",
     "text": [
      "[241/2000]\t Image Loss:   0.182760 | trackingLoss:   0.015050 | used_time: 3575.658669\n"
     ]
    },
    {
     "name": "stderr",
     "output_type": "stream",
     "text": [
      "5011it [59:34,  1.40it/s]\n"
     ]
    },
    {
     "name": "stdout",
     "output_type": "stream",
     "text": [
      "[242/2000]\t Image Loss:   0.182620 | trackingLoss:   0.015050 | used_time: 3574.241118\n"
     ]
    },
    {
     "name": "stderr",
     "output_type": "stream",
     "text": [
      "5011it [59:35,  1.40it/s]\n"
     ]
    },
    {
     "name": "stdout",
     "output_type": "stream",
     "text": [
      "[243/2000]\t Image Loss:   0.181685 | trackingLoss:   0.015051 | used_time: 3576.045523\n"
     ]
    },
    {
     "name": "stderr",
     "output_type": "stream",
     "text": [
      "5011it [59:33,  1.40it/s]\n"
     ]
    },
    {
     "name": "stdout",
     "output_type": "stream",
     "text": [
      "[244/2000]\t Image Loss:   0.182618 | trackingLoss:   0.015051 | used_time: 3573.673950\n"
     ]
    },
    {
     "name": "stderr",
     "output_type": "stream",
     "text": [
      "5011it [59:33,  1.40it/s]\n"
     ]
    },
    {
     "name": "stdout",
     "output_type": "stream",
     "text": [
      "[245/2000]\t Image Loss:   0.183088 | trackingLoss:   0.015051 | used_time: 3574.078561\n"
     ]
    },
    {
     "name": "stderr",
     "output_type": "stream",
     "text": [
      "5011it [59:35,  1.40it/s]\n"
     ]
    },
    {
     "name": "stdout",
     "output_type": "stream",
     "text": [
      "[246/2000]\t Image Loss:   0.183656 | trackingLoss:   0.015054 | used_time: 3575.181487\n"
     ]
    },
    {
     "name": "stderr",
     "output_type": "stream",
     "text": [
      "5011it [59:34,  1.40it/s]\n"
     ]
    },
    {
     "name": "stdout",
     "output_type": "stream",
     "text": [
      "[247/2000]\t Image Loss:   0.185921 | trackingLoss:   0.015063 | used_time: 3574.591711\n"
     ]
    },
    {
     "name": "stderr",
     "output_type": "stream",
     "text": [
      "5011it [59:35,  1.40it/s]\n"
     ]
    },
    {
     "name": "stdout",
     "output_type": "stream",
     "text": [
      "[248/2000]\t Image Loss:   0.186130 | trackingLoss:   0.015061 | used_time: 3576.014885\n"
     ]
    },
    {
     "name": "stderr",
     "output_type": "stream",
     "text": [
      "5011it [59:37,  1.40it/s]\n"
     ]
    },
    {
     "name": "stdout",
     "output_type": "stream",
     "text": [
      "[249/2000]\t Image Loss:   0.185650 | trackingLoss:   0.015057 | used_time: 3578.109252\n"
     ]
    },
    {
     "name": "stderr",
     "output_type": "stream",
     "text": [
      "5011it [59:34,  1.40it/s]\n"
     ]
    },
    {
     "name": "stdout",
     "output_type": "stream",
     "text": [
      "[250/2000]\t Image Loss:   0.185654 | trackingLoss:   0.015062 | used_time: 3574.915396\n"
     ]
    },
    {
     "name": "stderr",
     "output_type": "stream",
     "text": [
      "5011it [59:37,  1.40it/s]\n"
     ]
    },
    {
     "name": "stdout",
     "output_type": "stream",
     "text": [
      "[251/2000]\t Image Loss:   0.184837 | trackingLoss:   0.015061 | used_time: 3577.780752\n"
     ]
    },
    {
     "name": "stderr",
     "output_type": "stream",
     "text": [
      "5011it [59:34,  1.40it/s]\n"
     ]
    },
    {
     "name": "stdout",
     "output_type": "stream",
     "text": [
      "[252/2000]\t Image Loss:   0.183860 | trackingLoss:   0.015058 | used_time: 3574.585141\n"
     ]
    },
    {
     "name": "stderr",
     "output_type": "stream",
     "text": [
      "5011it [59:35,  1.40it/s]\n"
     ]
    },
    {
     "name": "stdout",
     "output_type": "stream",
     "text": [
      "[253/2000]\t Image Loss:   0.184126 | trackingLoss:   0.015058 | used_time: 3575.291915\n"
     ]
    },
    {
     "name": "stderr",
     "output_type": "stream",
     "text": [
      "5011it [1:01:26,  1.36it/s]\n"
     ]
    },
    {
     "name": "stdout",
     "output_type": "stream",
     "text": [
      "[254/2000]\t Image Loss:   0.184456 | trackingLoss:   0.015057 | used_time: 3686.289591\n"
     ]
    },
    {
     "name": "stderr",
     "output_type": "stream",
     "text": [
      "5011it [1:01:50,  1.35it/s]\n"
     ]
    },
    {
     "name": "stdout",
     "output_type": "stream",
     "text": [
      "[255/2000]\t Image Loss:   0.184849 | trackingLoss:   0.015060 | used_time: 3710.470926\n"
     ]
    },
    {
     "name": "stderr",
     "output_type": "stream",
     "text": [
      "5011it [1:01:45,  1.35it/s]\n"
     ]
    },
    {
     "name": "stdout",
     "output_type": "stream",
     "text": [
      "[256/2000]\t Image Loss:   0.185501 | trackingLoss:   0.015065 | used_time: 3705.639809\n"
     ]
    },
    {
     "name": "stderr",
     "output_type": "stream",
     "text": [
      "5011it [1:01:47,  1.35it/s]\n"
     ]
    },
    {
     "name": "stdout",
     "output_type": "stream",
     "text": [
      "[257/2000]\t Image Loss:   0.186626 | trackingLoss:   0.015058 | used_time: 3707.757561\n"
     ]
    },
    {
     "name": "stderr",
     "output_type": "stream",
     "text": [
      "5011it [1:01:43,  1.35it/s]\n"
     ]
    },
    {
     "name": "stdout",
     "output_type": "stream",
     "text": [
      "[258/2000]\t Image Loss:   0.186213 | trackingLoss:   0.015062 | used_time: 3703.699240\n"
     ]
    },
    {
     "name": "stderr",
     "output_type": "stream",
     "text": [
      "5011it [1:01:42,  1.35it/s]\n"
     ]
    },
    {
     "name": "stdout",
     "output_type": "stream",
     "text": [
      "[259/2000]\t Image Loss:   0.184583 | trackingLoss:   0.015058 | used_time: 3702.994826\n"
     ]
    },
    {
     "name": "stderr",
     "output_type": "stream",
     "text": [
      "5011it [1:01:50,  1.35it/s]\n"
     ]
    },
    {
     "name": "stdout",
     "output_type": "stream",
     "text": [
      "[260/2000]\t Image Loss:   0.186742 | trackingLoss:   0.015058 | used_time: 3710.470238\n"
     ]
    },
    {
     "name": "stderr",
     "output_type": "stream",
     "text": [
      "5011it [1:01:46,  1.35it/s]\n"
     ]
    },
    {
     "name": "stdout",
     "output_type": "stream",
     "text": [
      "[261/2000]\t Image Loss:   0.185921 | trackingLoss:   0.015062 | used_time: 3706.183568\n"
     ]
    },
    {
     "name": "stderr",
     "output_type": "stream",
     "text": [
      "5011it [1:01:46,  1.35it/s]\n"
     ]
    },
    {
     "name": "stdout",
     "output_type": "stream",
     "text": [
      "[262/2000]\t Image Loss:   0.185005 | trackingLoss:   0.015057 | used_time: 3706.187095\n"
     ]
    },
    {
     "name": "stderr",
     "output_type": "stream",
     "text": [
      "5011it [1:01:47,  1.35it/s]\n"
     ]
    },
    {
     "name": "stdout",
     "output_type": "stream",
     "text": [
      "[263/2000]\t Image Loss:   0.185543 | trackingLoss:   0.015060 | used_time: 3707.344270\n"
     ]
    },
    {
     "name": "stderr",
     "output_type": "stream",
     "text": [
      "5011it [1:01:47,  1.35it/s]\n"
     ]
    },
    {
     "name": "stdout",
     "output_type": "stream",
     "text": [
      "[264/2000]\t Image Loss:   0.187329 | trackingLoss:   0.015064 | used_time: 3707.456396\n"
     ]
    },
    {
     "name": "stderr",
     "output_type": "stream",
     "text": [
      "5011it [1:01:49,  1.35it/s]\n"
     ]
    },
    {
     "name": "stdout",
     "output_type": "stream",
     "text": [
      "[265/2000]\t Image Loss:   0.186762 | trackingLoss:   0.015062 | used_time: 3709.251346\n"
     ]
    },
    {
     "name": "stderr",
     "output_type": "stream",
     "text": [
      "5011it [1:01:44,  1.35it/s]\n"
     ]
    },
    {
     "name": "stdout",
     "output_type": "stream",
     "text": [
      "[266/2000]\t Image Loss:   0.187004 | trackingLoss:   0.015058 | used_time: 3704.713122\n"
     ]
    },
    {
     "name": "stderr",
     "output_type": "stream",
     "text": [
      "5011it [1:01:48,  1.35it/s]\n"
     ]
    },
    {
     "name": "stdout",
     "output_type": "stream",
     "text": [
      "[267/2000]\t Image Loss:   0.188086 | trackingLoss:   0.015063 | used_time: 3708.563491\n"
     ]
    },
    {
     "name": "stderr",
     "output_type": "stream",
     "text": [
      "5011it [1:01:45,  1.35it/s]\n"
     ]
    },
    {
     "name": "stdout",
     "output_type": "stream",
     "text": [
      "[268/2000]\t Image Loss:   0.187603 | trackingLoss:   0.015061 | used_time: 3705.481212\n"
     ]
    },
    {
     "name": "stderr",
     "output_type": "stream",
     "text": [
      "5011it [1:01:47,  1.35it/s]\n"
     ]
    },
    {
     "name": "stdout",
     "output_type": "stream",
     "text": [
      "[269/2000]\t Image Loss:   0.187541 | trackingLoss:   0.015064 | used_time: 3707.372231\n"
     ]
    },
    {
     "name": "stderr",
     "output_type": "stream",
     "text": [
      "5011it [1:01:44,  1.35it/s]\n"
     ]
    },
    {
     "name": "stdout",
     "output_type": "stream",
     "text": [
      "[270/2000]\t Image Loss:   0.186872 | trackingLoss:   0.015062 | used_time: 3704.701479\n"
     ]
    },
    {
     "name": "stderr",
     "output_type": "stream",
     "text": [
      "5011it [1:01:49,  1.35it/s]\n"
     ]
    },
    {
     "name": "stdout",
     "output_type": "stream",
     "text": [
      "[271/2000]\t Image Loss:   0.186140 | trackingLoss:   0.015058 | used_time: 3709.468244\n"
     ]
    },
    {
     "name": "stderr",
     "output_type": "stream",
     "text": [
      "5011it [1:01:50,  1.35it/s]\n"
     ]
    },
    {
     "name": "stdout",
     "output_type": "stream",
     "text": [
      "[272/2000]\t Image Loss:   0.186592 | trackingLoss:   0.015061 | used_time: 3710.836102\n"
     ]
    },
    {
     "name": "stderr",
     "output_type": "stream",
     "text": [
      "5011it [1:01:52,  1.35it/s]\n"
     ]
    },
    {
     "name": "stdout",
     "output_type": "stream",
     "text": [
      "[273/2000]\t Image Loss:   0.186922 | trackingLoss:   0.015059 | used_time: 3712.800315\n"
     ]
    },
    {
     "name": "stderr",
     "output_type": "stream",
     "text": [
      "5011it [1:01:56,  1.35it/s]\n"
     ]
    },
    {
     "name": "stdout",
     "output_type": "stream",
     "text": [
      "[274/2000]\t Image Loss:   0.186594 | trackingLoss:   0.015062 | used_time: 3716.596060\n"
     ]
    },
    {
     "name": "stderr",
     "output_type": "stream",
     "text": [
      "5011it [1:01:50,  1.35it/s]\n"
     ]
    },
    {
     "name": "stdout",
     "output_type": "stream",
     "text": [
      "[275/2000]\t Image Loss:   0.185931 | trackingLoss:   0.015065 | used_time: 3710.844544\n"
     ]
    },
    {
     "name": "stderr",
     "output_type": "stream",
     "text": [
      "5011it [1:01:51,  1.35it/s]\n"
     ]
    },
    {
     "name": "stdout",
     "output_type": "stream",
     "text": [
      "[276/2000]\t Image Loss:   0.187883 | trackingLoss:   0.015064 | used_time: 3711.850003\n"
     ]
    },
    {
     "name": "stderr",
     "output_type": "stream",
     "text": [
      "5011it [1:01:47,  1.35it/s]\n"
     ]
    },
    {
     "name": "stdout",
     "output_type": "stream",
     "text": [
      "[277/2000]\t Image Loss:   0.187637 | trackingLoss:   0.015062 | used_time: 3708.161419\n"
     ]
    },
    {
     "name": "stderr",
     "output_type": "stream",
     "text": [
      "5011it [1:01:49,  1.35it/s]\n"
     ]
    },
    {
     "name": "stdout",
     "output_type": "stream",
     "text": [
      "[278/2000]\t Image Loss:   0.186828 | trackingLoss:   0.015064 | used_time: 3709.172196\n"
     ]
    },
    {
     "name": "stderr",
     "output_type": "stream",
     "text": [
      "5011it [1:01:47,  1.35it/s]\n"
     ]
    },
    {
     "name": "stdout",
     "output_type": "stream",
     "text": [
      "[279/2000]\t Image Loss:   0.187192 | trackingLoss:   0.015062 | used_time: 3707.451040\n"
     ]
    },
    {
     "name": "stderr",
     "output_type": "stream",
     "text": [
      "5011it [1:01:52,  1.35it/s]\n"
     ]
    },
    {
     "name": "stdout",
     "output_type": "stream",
     "text": [
      "[280/2000]\t Image Loss:   0.187508 | trackingLoss:   0.015066 | used_time: 3713.024657\n"
     ]
    },
    {
     "name": "stderr",
     "output_type": "stream",
     "text": [
      "5011it [1:01:47,  1.35it/s]\n"
     ]
    },
    {
     "name": "stdout",
     "output_type": "stream",
     "text": [
      "[281/2000]\t Image Loss:   0.187945 | trackingLoss:   0.015065 | used_time: 3707.233310\n"
     ]
    },
    {
     "name": "stderr",
     "output_type": "stream",
     "text": [
      "5011it [1:01:55,  1.35it/s]\n"
     ]
    },
    {
     "name": "stdout",
     "output_type": "stream",
     "text": [
      "[282/2000]\t Image Loss:   0.188063 | trackingLoss:   0.015063 | used_time: 3715.266875\n"
     ]
    },
    {
     "name": "stderr",
     "output_type": "stream",
     "text": [
      "5011it [1:01:45,  1.35it/s]\n"
     ]
    },
    {
     "name": "stdout",
     "output_type": "stream",
     "text": [
      "[283/2000]\t Image Loss:   0.188956 | trackingLoss:   0.015064 | used_time: 3705.301326\n"
     ]
    },
    {
     "name": "stderr",
     "output_type": "stream",
     "text": [
      "5011it [1:01:48,  1.35it/s]\n"
     ]
    },
    {
     "name": "stdout",
     "output_type": "stream",
     "text": [
      "[284/2000]\t Image Loss:   0.190317 | trackingLoss:   0.015069 | used_time: 3708.889138\n"
     ]
    },
    {
     "name": "stderr",
     "output_type": "stream",
     "text": [
      "5011it [1:01:47,  1.35it/s]\n"
     ]
    },
    {
     "name": "stdout",
     "output_type": "stream",
     "text": [
      "[285/2000]\t Image Loss:   0.190429 | trackingLoss:   0.015073 | used_time: 3707.851366\n"
     ]
    },
    {
     "name": "stderr",
     "output_type": "stream",
     "text": [
      "5011it [1:01:47,  1.35it/s]\n"
     ]
    },
    {
     "name": "stdout",
     "output_type": "stream",
     "text": [
      "[286/2000]\t Image Loss:   0.190262 | trackingLoss:   0.015073 | used_time: 3707.301852\n"
     ]
    },
    {
     "name": "stderr",
     "output_type": "stream",
     "text": [
      "5011it [1:01:50,  1.35it/s]\n"
     ]
    },
    {
     "name": "stdout",
     "output_type": "stream",
     "text": [
      "[287/2000]\t Image Loss:   0.189892 | trackingLoss:   0.015065 | used_time: 3710.501069\n"
     ]
    },
    {
     "name": "stderr",
     "output_type": "stream",
     "text": [
      "5011it [1:01:48,  1.35it/s]\n"
     ]
    },
    {
     "name": "stdout",
     "output_type": "stream",
     "text": [
      "[288/2000]\t Image Loss:   0.189074 | trackingLoss:   0.015066 | used_time: 3709.141114\n"
     ]
    },
    {
     "name": "stderr",
     "output_type": "stream",
     "text": [
      "5011it [1:01:51,  1.35it/s]\n"
     ]
    },
    {
     "name": "stdout",
     "output_type": "stream",
     "text": [
      "[289/2000]\t Image Loss:   0.188373 | trackingLoss:   0.015069 | used_time: 3711.767772\n"
     ]
    },
    {
     "name": "stderr",
     "output_type": "stream",
     "text": [
      "5011it [1:01:44,  1.35it/s]\n"
     ]
    },
    {
     "name": "stdout",
     "output_type": "stream",
     "text": [
      "[290/2000]\t Image Loss:   0.189280 | trackingLoss:   0.015070 | used_time: 3704.596253\n"
     ]
    },
    {
     "name": "stderr",
     "output_type": "stream",
     "text": [
      "5011it [1:01:49,  1.35it/s]\n"
     ]
    },
    {
     "name": "stdout",
     "output_type": "stream",
     "text": [
      "[291/2000]\t Image Loss:   0.189372 | trackingLoss:   0.015070 | used_time: 3709.508751\n"
     ]
    },
    {
     "name": "stderr",
     "output_type": "stream",
     "text": [
      "5011it [1:01:40,  1.35it/s]\n"
     ]
    },
    {
     "name": "stdout",
     "output_type": "stream",
     "text": [
      "[292/2000]\t Image Loss:   0.189424 | trackingLoss:   0.015071 | used_time: 3700.376367\n"
     ]
    },
    {
     "name": "stderr",
     "output_type": "stream",
     "text": [
      "5011it [1:01:44,  1.35it/s]\n"
     ]
    },
    {
     "name": "stdout",
     "output_type": "stream",
     "text": [
      "[293/2000]\t Image Loss:   0.188139 | trackingLoss:   0.015065 | used_time: 3704.760394\n"
     ]
    },
    {
     "name": "stderr",
     "output_type": "stream",
     "text": [
      "5011it [1:01:49,  1.35it/s]\n"
     ]
    },
    {
     "name": "stdout",
     "output_type": "stream",
     "text": [
      "[294/2000]\t Image Loss:   0.187322 | trackingLoss:   0.015066 | used_time: 3709.301045\n"
     ]
    },
    {
     "name": "stderr",
     "output_type": "stream",
     "text": [
      "5011it [1:01:51,  1.35it/s]\n"
     ]
    },
    {
     "name": "stdout",
     "output_type": "stream",
     "text": [
      "[295/2000]\t Image Loss:   0.188253 | trackingLoss:   0.015069 | used_time: 3711.308476\n"
     ]
    },
    {
     "name": "stderr",
     "output_type": "stream",
     "text": [
      "5011it [1:01:52,  1.35it/s]\n"
     ]
    },
    {
     "name": "stdout",
     "output_type": "stream",
     "text": [
      "[296/2000]\t Image Loss:   0.187370 | trackingLoss:   0.015069 | used_time: 3712.230788\n"
     ]
    },
    {
     "name": "stderr",
     "output_type": "stream",
     "text": [
      "5011it [1:01:47,  1.35it/s]\n"
     ]
    },
    {
     "name": "stdout",
     "output_type": "stream",
     "text": [
      "[297/2000]\t Image Loss:   0.187686 | trackingLoss:   0.015067 | used_time: 3708.121650\n"
     ]
    },
    {
     "name": "stderr",
     "output_type": "stream",
     "text": [
      "5011it [1:01:44,  1.35it/s]\n"
     ]
    },
    {
     "name": "stdout",
     "output_type": "stream",
     "text": [
      "[298/2000]\t Image Loss:   0.186869 | trackingLoss:   0.015064 | used_time: 3705.160537\n"
     ]
    },
    {
     "name": "stderr",
     "output_type": "stream",
     "text": [
      "5011it [1:01:22,  1.36it/s]\n"
     ]
    },
    {
     "name": "stdout",
     "output_type": "stream",
     "text": [
      "[299/2000]\t Image Loss:   0.187651 | trackingLoss:   0.015066 | used_time: 3682.669164\n"
     ]
    },
    {
     "name": "stderr",
     "output_type": "stream",
     "text": [
      "5011it [1:01:11,  1.36it/s]\n"
     ]
    },
    {
     "name": "stdout",
     "output_type": "stream",
     "text": [
      "[300/2000]\t Image Loss:   0.186984 | trackingLoss:   0.015070 | used_time: 3671.995415\n"
     ]
    },
    {
     "name": "stderr",
     "output_type": "stream",
     "text": [
      "5011it [1:01:17,  1.36it/s]\n"
     ]
    },
    {
     "name": "stdout",
     "output_type": "stream",
     "text": [
      "[301/2000]\t Image Loss:   0.187541 | trackingLoss:   0.015070 | used_time: 3678.075235\n"
     ]
    },
    {
     "name": "stderr",
     "output_type": "stream",
     "text": [
      "5011it [1:01:16,  1.36it/s]\n"
     ]
    },
    {
     "name": "stdout",
     "output_type": "stream",
     "text": [
      "[302/2000]\t Image Loss:   0.187898 | trackingLoss:   0.015069 | used_time: 3676.472431\n"
     ]
    },
    {
     "name": "stderr",
     "output_type": "stream",
     "text": [
      "5011it [1:01:14,  1.36it/s]\n"
     ]
    },
    {
     "name": "stdout",
     "output_type": "stream",
     "text": [
      "[303/2000]\t Image Loss:   0.188380 | trackingLoss:   0.015071 | used_time: 3674.768164\n"
     ]
    },
    {
     "name": "stderr",
     "output_type": "stream",
     "text": [
      "5011it [1:01:10,  1.37it/s]\n"
     ]
    },
    {
     "name": "stdout",
     "output_type": "stream",
     "text": [
      "[304/2000]\t Image Loss:   0.188540 | trackingLoss:   0.015068 | used_time: 3670.336117\n"
     ]
    },
    {
     "name": "stderr",
     "output_type": "stream",
     "text": [
      "5011it [1:01:19,  1.36it/s]\n"
     ]
    },
    {
     "name": "stdout",
     "output_type": "stream",
     "text": [
      "[305/2000]\t Image Loss:   0.187633 | trackingLoss:   0.015068 | used_time: 3679.568425\n"
     ]
    },
    {
     "name": "stderr",
     "output_type": "stream",
     "text": [
      "5011it [1:00:50,  1.37it/s]\n"
     ]
    },
    {
     "name": "stdout",
     "output_type": "stream",
     "text": [
      "[306/2000]\t Image Loss:   0.186698 | trackingLoss:   0.015064 | used_time: 3651.030149\n"
     ]
    },
    {
     "name": "stderr",
     "output_type": "stream",
     "text": [
      "5011it [59:34,  1.40it/s]\n"
     ]
    },
    {
     "name": "stdout",
     "output_type": "stream",
     "text": [
      "[307/2000]\t Image Loss:   0.187666 | trackingLoss:   0.015071 | used_time: 3574.622773\n"
     ]
    },
    {
     "name": "stderr",
     "output_type": "stream",
     "text": [
      "5011it [59:34,  1.40it/s]\n"
     ]
    },
    {
     "name": "stdout",
     "output_type": "stream",
     "text": [
      "[308/2000]\t Image Loss:   0.186423 | trackingLoss:   0.015064 | used_time: 3575.045760\n"
     ]
    },
    {
     "name": "stderr",
     "output_type": "stream",
     "text": [
      "5011it [59:37,  1.40it/s]\n"
     ]
    },
    {
     "name": "stdout",
     "output_type": "stream",
     "text": [
      "[309/2000]\t Image Loss:   0.187028 | trackingLoss:   0.015067 | used_time: 3577.804423\n"
     ]
    },
    {
     "name": "stderr",
     "output_type": "stream",
     "text": [
      "5011it [59:36,  1.40it/s]\n"
     ]
    },
    {
     "name": "stdout",
     "output_type": "stream",
     "text": [
      "[310/2000]\t Image Loss:   0.187390 | trackingLoss:   0.015068 | used_time: 3576.622038\n"
     ]
    },
    {
     "name": "stderr",
     "output_type": "stream",
     "text": [
      "5011it [59:40,  1.40it/s]\n"
     ]
    },
    {
     "name": "stdout",
     "output_type": "stream",
     "text": [
      "[311/2000]\t Image Loss:   0.187385 | trackingLoss:   0.015066 | used_time: 3580.227743\n"
     ]
    },
    {
     "name": "stderr",
     "output_type": "stream",
     "text": [
      "5011it [59:40,  1.40it/s]\n"
     ]
    },
    {
     "name": "stdout",
     "output_type": "stream",
     "text": [
      "[312/2000]\t Image Loss:   0.186512 | trackingLoss:   0.015065 | used_time: 3581.097160\n"
     ]
    },
    {
     "name": "stderr",
     "output_type": "stream",
     "text": [
      "5011it [59:39,  1.40it/s]\n"
     ]
    },
    {
     "name": "stdout",
     "output_type": "stream",
     "text": [
      "[313/2000]\t Image Loss:   0.186430 | trackingLoss:   0.015066 | used_time: 3579.386809\n"
     ]
    },
    {
     "name": "stderr",
     "output_type": "stream",
     "text": [
      "5011it [59:34,  1.40it/s]\n"
     ]
    },
    {
     "name": "stdout",
     "output_type": "stream",
     "text": [
      "[314/2000]\t Image Loss:   0.186437 | trackingLoss:   0.015064 | used_time: 3574.396111\n"
     ]
    },
    {
     "name": "stderr",
     "output_type": "stream",
     "text": [
      "5011it [59:35,  1.40it/s]\n"
     ]
    },
    {
     "name": "stdout",
     "output_type": "stream",
     "text": [
      "[315/2000]\t Image Loss:   0.186017 | trackingLoss:   0.015066 | used_time: 3575.411017\n"
     ]
    },
    {
     "name": "stderr",
     "output_type": "stream",
     "text": [
      "5011it [59:32,  1.40it/s]\n"
     ]
    },
    {
     "name": "stdout",
     "output_type": "stream",
     "text": [
      "[316/2000]\t Image Loss:   0.186084 | trackingLoss:   0.015069 | used_time: 3572.744895\n"
     ]
    },
    {
     "name": "stderr",
     "output_type": "stream",
     "text": [
      "5011it [59:31,  1.40it/s]\n"
     ]
    },
    {
     "name": "stdout",
     "output_type": "stream",
     "text": [
      "[317/2000]\t Image Loss:   0.186448 | trackingLoss:   0.015065 | used_time: 3572.021907\n"
     ]
    },
    {
     "name": "stderr",
     "output_type": "stream",
     "text": [
      "5011it [59:33,  1.40it/s]\n"
     ]
    },
    {
     "name": "stdout",
     "output_type": "stream",
     "text": [
      "[318/2000]\t Image Loss:   0.185822 | trackingLoss:   0.015066 | used_time: 3574.088533\n"
     ]
    },
    {
     "name": "stderr",
     "output_type": "stream",
     "text": [
      "5011it [59:36,  1.40it/s]\n"
     ]
    },
    {
     "name": "stdout",
     "output_type": "stream",
     "text": [
      "[319/2000]\t Image Loss:   0.185327 | trackingLoss:   0.015068 | used_time: 3576.770356\n"
     ]
    },
    {
     "name": "stderr",
     "output_type": "stream",
     "text": [
      "5011it [59:34,  1.40it/s]\n"
     ]
    },
    {
     "name": "stdout",
     "output_type": "stream",
     "text": [
      "[320/2000]\t Image Loss:   0.185344 | trackingLoss:   0.015064 | used_time: 3574.861410\n"
     ]
    },
    {
     "name": "stderr",
     "output_type": "stream",
     "text": [
      "5011it [59:34,  1.40it/s]\n"
     ]
    },
    {
     "name": "stdout",
     "output_type": "stream",
     "text": [
      "[321/2000]\t Image Loss:   0.185237 | trackingLoss:   0.015067 | used_time: 3574.589546\n"
     ]
    },
    {
     "name": "stderr",
     "output_type": "stream",
     "text": [
      "5011it [59:32,  1.40it/s]\n"
     ]
    },
    {
     "name": "stdout",
     "output_type": "stream",
     "text": [
      "[322/2000]\t Image Loss:   0.185519 | trackingLoss:   0.015069 | used_time: 3572.367533\n"
     ]
    },
    {
     "name": "stderr",
     "output_type": "stream",
     "text": [
      "5011it [59:29,  1.40it/s]\n"
     ]
    },
    {
     "name": "stdout",
     "output_type": "stream",
     "text": [
      "[323/2000]\t Image Loss:   0.186071 | trackingLoss:   0.015062 | used_time: 3570.115500\n"
     ]
    },
    {
     "name": "stderr",
     "output_type": "stream",
     "text": [
      "5011it [59:31,  1.40it/s]\n"
     ]
    },
    {
     "name": "stdout",
     "output_type": "stream",
     "text": [
      "[324/2000]\t Image Loss:   0.186653 | trackingLoss:   0.015068 | used_time: 3571.577727\n"
     ]
    },
    {
     "name": "stderr",
     "output_type": "stream",
     "text": [
      "5011it [59:36,  1.40it/s]\n"
     ]
    },
    {
     "name": "stdout",
     "output_type": "stream",
     "text": [
      "[325/2000]\t Image Loss:   0.187217 | trackingLoss:   0.015068 | used_time: 3576.579068\n"
     ]
    },
    {
     "name": "stderr",
     "output_type": "stream",
     "text": [
      "5011it [59:34,  1.40it/s]\n"
     ]
    },
    {
     "name": "stdout",
     "output_type": "stream",
     "text": [
      "[326/2000]\t Image Loss:   0.186721 | trackingLoss:   0.015070 | used_time: 3574.483672\n"
     ]
    },
    {
     "name": "stderr",
     "output_type": "stream",
     "text": [
      "5011it [59:33,  1.40it/s]\n"
     ]
    },
    {
     "name": "stdout",
     "output_type": "stream",
     "text": [
      "[327/2000]\t Image Loss:   0.186197 | trackingLoss:   0.015066 | used_time: 3573.599515\n"
     ]
    },
    {
     "name": "stderr",
     "output_type": "stream",
     "text": [
      "5011it [59:35,  1.40it/s]\n"
     ]
    },
    {
     "name": "stdout",
     "output_type": "stream",
     "text": [
      "[328/2000]\t Image Loss:   0.186626 | trackingLoss:   0.015067 | used_time: 3575.148368\n"
     ]
    },
    {
     "name": "stderr",
     "output_type": "stream",
     "text": [
      "5011it [59:30,  1.40it/s]\n"
     ]
    },
    {
     "name": "stdout",
     "output_type": "stream",
     "text": [
      "[329/2000]\t Image Loss:   0.187138 | trackingLoss:   0.015067 | used_time: 3571.033412\n"
     ]
    },
    {
     "name": "stderr",
     "output_type": "stream",
     "text": [
      "5011it [59:32,  1.40it/s]\n"
     ]
    },
    {
     "name": "stdout",
     "output_type": "stream",
     "text": [
      "[330/2000]\t Image Loss:   0.186375 | trackingLoss:   0.015066 | used_time: 3572.940369\n"
     ]
    },
    {
     "name": "stderr",
     "output_type": "stream",
     "text": [
      "5011it [59:35,  1.40it/s]\n"
     ]
    },
    {
     "name": "stdout",
     "output_type": "stream",
     "text": [
      "[331/2000]\t Image Loss:   0.185413 | trackingLoss:   0.015061 | used_time: 3575.371425\n"
     ]
    },
    {
     "name": "stderr",
     "output_type": "stream",
     "text": [
      "5011it [59:35,  1.40it/s]\n"
     ]
    },
    {
     "name": "stdout",
     "output_type": "stream",
     "text": [
      "[332/2000]\t Image Loss:   0.184998 | trackingLoss:   0.015064 | used_time: 3575.574276\n"
     ]
    },
    {
     "name": "stderr",
     "output_type": "stream",
     "text": [
      "5011it [59:31,  1.40it/s]\n"
     ]
    },
    {
     "name": "stdout",
     "output_type": "stream",
     "text": [
      "[333/2000]\t Image Loss:   0.184665 | trackingLoss:   0.015062 | used_time: 3571.703411\n"
     ]
    },
    {
     "name": "stderr",
     "output_type": "stream",
     "text": [
      "5011it [59:35,  1.40it/s]\n"
     ]
    },
    {
     "name": "stdout",
     "output_type": "stream",
     "text": [
      "[334/2000]\t Image Loss:   0.185190 | trackingLoss:   0.015063 | used_time: 3575.866559\n"
     ]
    },
    {
     "name": "stderr",
     "output_type": "stream",
     "text": [
      "5011it [59:35,  1.40it/s]\n"
     ]
    },
    {
     "name": "stdout",
     "output_type": "stream",
     "text": [
      "[335/2000]\t Image Loss:   0.185603 | trackingLoss:   0.015064 | used_time: 3575.130282\n"
     ]
    },
    {
     "name": "stderr",
     "output_type": "stream",
     "text": [
      "5011it [59:33,  1.40it/s]\n"
     ]
    },
    {
     "name": "stdout",
     "output_type": "stream",
     "text": [
      "[336/2000]\t Image Loss:   0.185711 | trackingLoss:   0.015062 | used_time: 3573.930087\n"
     ]
    },
    {
     "name": "stderr",
     "output_type": "stream",
     "text": [
      "5011it [59:32,  1.40it/s]\n"
     ]
    },
    {
     "name": "stdout",
     "output_type": "stream",
     "text": [
      "[337/2000]\t Image Loss:   0.184917 | trackingLoss:   0.015064 | used_time: 3572.906260\n"
     ]
    },
    {
     "name": "stderr",
     "output_type": "stream",
     "text": [
      "5011it [59:35,  1.40it/s]\n"
     ]
    },
    {
     "name": "stdout",
     "output_type": "stream",
     "text": [
      "[338/2000]\t Image Loss:   0.186052 | trackingLoss:   0.015062 | used_time: 3575.217319\n"
     ]
    },
    {
     "name": "stderr",
     "output_type": "stream",
     "text": [
      "5011it [59:35,  1.40it/s]\n"
     ]
    },
    {
     "name": "stdout",
     "output_type": "stream",
     "text": [
      "[339/2000]\t Image Loss:   0.186823 | trackingLoss:   0.015067 | used_time: 3575.749533\n"
     ]
    },
    {
     "name": "stderr",
     "output_type": "stream",
     "text": [
      "5011it [59:35,  1.40it/s]\n"
     ]
    },
    {
     "name": "stdout",
     "output_type": "stream",
     "text": [
      "[340/2000]\t Image Loss:   0.186714 | trackingLoss:   0.015067 | used_time: 3575.835149\n"
     ]
    },
    {
     "name": "stderr",
     "output_type": "stream",
     "text": [
      "5011it [59:37,  1.40it/s]\n"
     ]
    },
    {
     "name": "stdout",
     "output_type": "stream",
     "text": [
      "[341/2000]\t Image Loss:   0.187360 | trackingLoss:   0.015072 | used_time: 3577.252830\n"
     ]
    },
    {
     "name": "stderr",
     "output_type": "stream",
     "text": [
      "5011it [59:32,  1.40it/s]\n"
     ]
    },
    {
     "name": "stdout",
     "output_type": "stream",
     "text": [
      "[342/2000]\t Image Loss:   0.186132 | trackingLoss:   0.015067 | used_time: 3573.035406\n"
     ]
    },
    {
     "name": "stderr",
     "output_type": "stream",
     "text": [
      "5011it [59:33,  1.40it/s]\n"
     ]
    },
    {
     "name": "stdout",
     "output_type": "stream",
     "text": [
      "[343/2000]\t Image Loss:   0.185580 | trackingLoss:   0.015068 | used_time: 3574.031459\n"
     ]
    },
    {
     "name": "stderr",
     "output_type": "stream",
     "text": [
      "5011it [59:32,  1.40it/s]\n"
     ]
    },
    {
     "name": "stdout",
     "output_type": "stream",
     "text": [
      "[344/2000]\t Image Loss:   0.186388 | trackingLoss:   0.015064 | used_time: 3573.040056\n"
     ]
    },
    {
     "name": "stderr",
     "output_type": "stream",
     "text": [
      "5011it [59:34,  1.40it/s]\n"
     ]
    },
    {
     "name": "stdout",
     "output_type": "stream",
     "text": [
      "[345/2000]\t Image Loss:   0.186432 | trackingLoss:   0.015064 | used_time: 3574.497970\n"
     ]
    },
    {
     "name": "stderr",
     "output_type": "stream",
     "text": [
      "5011it [59:33,  1.40it/s]\n"
     ]
    },
    {
     "name": "stdout",
     "output_type": "stream",
     "text": [
      "[346/2000]\t Image Loss:   0.185840 | trackingLoss:   0.015065 | used_time: 3573.285387\n"
     ]
    },
    {
     "name": "stderr",
     "output_type": "stream",
     "text": [
      "5011it [59:35,  1.40it/s]\n"
     ]
    },
    {
     "name": "stdout",
     "output_type": "stream",
     "text": [
      "[347/2000]\t Image Loss:   0.186321 | trackingLoss:   0.015066 | used_time: 3576.114639\n"
     ]
    },
    {
     "name": "stderr",
     "output_type": "stream",
     "text": [
      "5011it [59:34,  1.40it/s]\n"
     ]
    },
    {
     "name": "stdout",
     "output_type": "stream",
     "text": [
      "[348/2000]\t Image Loss:   0.185721 | trackingLoss:   0.015067 | used_time: 3574.979197\n"
     ]
    },
    {
     "name": "stderr",
     "output_type": "stream",
     "text": [
      "5011it [59:34,  1.40it/s]\n"
     ]
    },
    {
     "name": "stdout",
     "output_type": "stream",
     "text": [
      "[349/2000]\t Image Loss:   0.186110 | trackingLoss:   0.015064 | used_time: 3575.032634\n"
     ]
    },
    {
     "name": "stderr",
     "output_type": "stream",
     "text": [
      "5011it [59:34,  1.40it/s]\n"
     ]
    },
    {
     "name": "stdout",
     "output_type": "stream",
     "text": [
      "[350/2000]\t Image Loss:   0.187920 | trackingLoss:   0.015074 | used_time: 3574.660590\n"
     ]
    },
    {
     "name": "stderr",
     "output_type": "stream",
     "text": [
      "5011it [59:35,  1.40it/s]\n"
     ]
    },
    {
     "name": "stdout",
     "output_type": "stream",
     "text": [
      "[351/2000]\t Image Loss:   0.187566 | trackingLoss:   0.015068 | used_time: 3575.319918\n"
     ]
    },
    {
     "name": "stderr",
     "output_type": "stream",
     "text": [
      "5011it [59:32,  1.40it/s]\n"
     ]
    },
    {
     "name": "stdout",
     "output_type": "stream",
     "text": [
      "[352/2000]\t Image Loss:   0.187930 | trackingLoss:   0.015070 | used_time: 3572.258757\n"
     ]
    },
    {
     "name": "stderr",
     "output_type": "stream",
     "text": [
      "5011it [59:29,  1.40it/s]\n"
     ]
    },
    {
     "name": "stdout",
     "output_type": "stream",
     "text": [
      "[353/2000]\t Image Loss:   0.189154 | trackingLoss:   0.015073 | used_time: 3569.664265\n"
     ]
    },
    {
     "name": "stderr",
     "output_type": "stream",
     "text": [
      "5011it [59:35,  1.40it/s]\n"
     ]
    },
    {
     "name": "stdout",
     "output_type": "stream",
     "text": [
      "[354/2000]\t Image Loss:   0.189620 | trackingLoss:   0.015072 | used_time: 3575.439712\n"
     ]
    },
    {
     "name": "stderr",
     "output_type": "stream",
     "text": [
      "5011it [59:36,  1.40it/s]\n"
     ]
    },
    {
     "name": "stdout",
     "output_type": "stream",
     "text": [
      "[355/2000]\t Image Loss:   0.190624 | trackingLoss:   0.015079 | used_time: 3576.886964\n"
     ]
    },
    {
     "name": "stderr",
     "output_type": "stream",
     "text": [
      "5011it [59:31,  1.40it/s]\n"
     ]
    },
    {
     "name": "stdout",
     "output_type": "stream",
     "text": [
      "[356/2000]\t Image Loss:   0.190005 | trackingLoss:   0.015069 | used_time: 3571.996401\n"
     ]
    },
    {
     "name": "stderr",
     "output_type": "stream",
     "text": [
      "5011it [59:35,  1.40it/s]\n"
     ]
    },
    {
     "name": "stdout",
     "output_type": "stream",
     "text": [
      "[357/2000]\t Image Loss:   0.189707 | trackingLoss:   0.015072 | used_time: 3575.621740\n"
     ]
    },
    {
     "name": "stderr",
     "output_type": "stream",
     "text": [
      "5011it [59:33,  1.40it/s]\n"
     ]
    },
    {
     "name": "stdout",
     "output_type": "stream",
     "text": [
      "[358/2000]\t Image Loss:   0.187889 | trackingLoss:   0.015074 | used_time: 3573.262412\n"
     ]
    },
    {
     "name": "stderr",
     "output_type": "stream",
     "text": [
      "5011it [59:33,  1.40it/s]\n"
     ]
    },
    {
     "name": "stdout",
     "output_type": "stream",
     "text": [
      "[359/2000]\t Image Loss:   0.187612 | trackingLoss:   0.015072 | used_time: 3574.085823\n"
     ]
    },
    {
     "name": "stderr",
     "output_type": "stream",
     "text": [
      "5011it [59:34,  1.40it/s]\n"
     ]
    },
    {
     "name": "stdout",
     "output_type": "stream",
     "text": [
      "[360/2000]\t Image Loss:   0.188647 | trackingLoss:   0.015071 | used_time: 3574.523504\n"
     ]
    },
    {
     "name": "stderr",
     "output_type": "stream",
     "text": [
      "5011it [59:31,  1.40it/s]\n"
     ]
    },
    {
     "name": "stdout",
     "output_type": "stream",
     "text": [
      "[361/2000]\t Image Loss:   0.188133 | trackingLoss:   0.015071 | used_time: 3571.355013\n"
     ]
    },
    {
     "name": "stderr",
     "output_type": "stream",
     "text": [
      "5011it [59:35,  1.40it/s]\n"
     ]
    },
    {
     "name": "stdout",
     "output_type": "stream",
     "text": [
      "[362/2000]\t Image Loss:   0.187305 | trackingLoss:   0.015066 | used_time: 3575.651586\n"
     ]
    },
    {
     "name": "stderr",
     "output_type": "stream",
     "text": [
      "5011it [59:32,  1.40it/s]\n"
     ]
    },
    {
     "name": "stdout",
     "output_type": "stream",
     "text": [
      "[363/2000]\t Image Loss:   0.186805 | trackingLoss:   0.015066 | used_time: 3572.786885\n"
     ]
    },
    {
     "name": "stderr",
     "output_type": "stream",
     "text": [
      "5011it [59:32,  1.40it/s]\n"
     ]
    },
    {
     "name": "stdout",
     "output_type": "stream",
     "text": [
      "[364/2000]\t Image Loss:   0.186447 | trackingLoss:   0.015066 | used_time: 3572.716481\n"
     ]
    },
    {
     "name": "stderr",
     "output_type": "stream",
     "text": [
      "5011it [59:30,  1.40it/s]\n"
     ]
    },
    {
     "name": "stdout",
     "output_type": "stream",
     "text": [
      "[365/2000]\t Image Loss:   0.185943 | trackingLoss:   0.015061 | used_time: 3570.763195\n"
     ]
    },
    {
     "name": "stderr",
     "output_type": "stream",
     "text": [
      "5011it [59:34,  1.40it/s]\n"
     ]
    },
    {
     "name": "stdout",
     "output_type": "stream",
     "text": [
      "[366/2000]\t Image Loss:   0.186588 | trackingLoss:   0.015064 | used_time: 3574.318958\n"
     ]
    },
    {
     "name": "stderr",
     "output_type": "stream",
     "text": [
      "5011it [59:34,  1.40it/s]\n"
     ]
    },
    {
     "name": "stdout",
     "output_type": "stream",
     "text": [
      "[367/2000]\t Image Loss:   0.186670 | trackingLoss:   0.015062 | used_time: 3574.760843\n"
     ]
    },
    {
     "name": "stderr",
     "output_type": "stream",
     "text": [
      "5011it [59:32,  1.40it/s]\n"
     ]
    },
    {
     "name": "stdout",
     "output_type": "stream",
     "text": [
      "[368/2000]\t Image Loss:   0.186430 | trackingLoss:   0.015065 | used_time: 3572.135006\n"
     ]
    },
    {
     "name": "stderr",
     "output_type": "stream",
     "text": [
      "5011it [59:32,  1.40it/s]\n"
     ]
    },
    {
     "name": "stdout",
     "output_type": "stream",
     "text": [
      "[369/2000]\t Image Loss:   0.186680 | trackingLoss:   0.015065 | used_time: 3572.305573\n"
     ]
    },
    {
     "name": "stderr",
     "output_type": "stream",
     "text": [
      "5011it [59:35,  1.40it/s]\n"
     ]
    },
    {
     "name": "stdout",
     "output_type": "stream",
     "text": [
      "[370/2000]\t Image Loss:   0.186915 | trackingLoss:   0.015066 | used_time: 3575.137337\n"
     ]
    },
    {
     "name": "stderr",
     "output_type": "stream",
     "text": [
      "5011it [59:31,  1.40it/s]\n"
     ]
    },
    {
     "name": "stdout",
     "output_type": "stream",
     "text": [
      "[371/2000]\t Image Loss:   0.186561 | trackingLoss:   0.015068 | used_time: 3571.967655\n"
     ]
    },
    {
     "name": "stderr",
     "output_type": "stream",
     "text": [
      "5011it [59:36,  1.40it/s]\n"
     ]
    },
    {
     "name": "stdout",
     "output_type": "stream",
     "text": [
      "[372/2000]\t Image Loss:   0.186749 | trackingLoss:   0.015066 | used_time: 3576.765184\n"
     ]
    },
    {
     "name": "stderr",
     "output_type": "stream",
     "text": [
      "5011it [59:32,  1.40it/s]\n"
     ]
    },
    {
     "name": "stdout",
     "output_type": "stream",
     "text": [
      "[373/2000]\t Image Loss:   0.186393 | trackingLoss:   0.015065 | used_time: 3573.010183\n"
     ]
    },
    {
     "name": "stderr",
     "output_type": "stream",
     "text": [
      "5011it [59:31,  1.40it/s]\n"
     ]
    },
    {
     "name": "stdout",
     "output_type": "stream",
     "text": [
      "[374/2000]\t Image Loss:   0.186087 | trackingLoss:   0.015066 | used_time: 3571.531676\n"
     ]
    },
    {
     "name": "stderr",
     "output_type": "stream",
     "text": [
      "5011it [59:33,  1.40it/s]\n"
     ]
    },
    {
     "name": "stdout",
     "output_type": "stream",
     "text": [
      "[375/2000]\t Image Loss:   0.187628 | trackingLoss:   0.015070 | used_time: 3573.477058\n"
     ]
    },
    {
     "name": "stderr",
     "output_type": "stream",
     "text": [
      "5011it [59:33,  1.40it/s]\n"
     ]
    },
    {
     "name": "stdout",
     "output_type": "stream",
     "text": [
      "[376/2000]\t Image Loss:   0.187238 | trackingLoss:   0.015069 | used_time: 3573.892992\n"
     ]
    },
    {
     "name": "stderr",
     "output_type": "stream",
     "text": [
      "5011it [59:32,  1.40it/s]\n"
     ]
    },
    {
     "name": "stdout",
     "output_type": "stream",
     "text": [
      "[377/2000]\t Image Loss:   0.187360 | trackingLoss:   0.015070 | used_time: 3572.468086\n"
     ]
    },
    {
     "name": "stderr",
     "output_type": "stream",
     "text": [
      "5011it [59:34,  1.40it/s]\n"
     ]
    },
    {
     "name": "stdout",
     "output_type": "stream",
     "text": [
      "[378/2000]\t Image Loss:   0.187012 | trackingLoss:   0.015065 | used_time: 3574.258848\n"
     ]
    },
    {
     "name": "stderr",
     "output_type": "stream",
     "text": [
      "5011it [59:41,  1.40it/s]\n"
     ]
    },
    {
     "name": "stdout",
     "output_type": "stream",
     "text": [
      "[379/2000]\t Image Loss:   0.187113 | trackingLoss:   0.015068 | used_time: 3581.210292\n"
     ]
    },
    {
     "name": "stderr",
     "output_type": "stream",
     "text": [
      "5011it [59:39,  1.40it/s]\n"
     ]
    },
    {
     "name": "stdout",
     "output_type": "stream",
     "text": [
      "[380/2000]\t Image Loss:   0.187527 | trackingLoss:   0.015071 | used_time: 3579.774517\n"
     ]
    },
    {
     "name": "stderr",
     "output_type": "stream",
     "text": [
      "5011it [59:41,  1.40it/s]\n"
     ]
    },
    {
     "name": "stdout",
     "output_type": "stream",
     "text": [
      "[381/2000]\t Image Loss:   0.188545 | trackingLoss:   0.015073 | used_time: 3581.393923\n"
     ]
    },
    {
     "name": "stderr",
     "output_type": "stream",
     "text": [
      "5011it [59:40,  1.40it/s]\n"
     ]
    },
    {
     "name": "stdout",
     "output_type": "stream",
     "text": [
      "[382/2000]\t Image Loss:   0.188323 | trackingLoss:   0.015073 | used_time: 3580.806740\n"
     ]
    },
    {
     "name": "stderr",
     "output_type": "stream",
     "text": [
      "5011it [59:41,  1.40it/s]\n"
     ]
    },
    {
     "name": "stdout",
     "output_type": "stream",
     "text": [
      "[383/2000]\t Image Loss:   0.188172 | trackingLoss:   0.015068 | used_time: 3581.994163\n"
     ]
    },
    {
     "name": "stderr",
     "output_type": "stream",
     "text": [
      "5011it [59:44,  1.40it/s]\n"
     ]
    },
    {
     "name": "stdout",
     "output_type": "stream",
     "text": [
      "[384/2000]\t Image Loss:   0.187039 | trackingLoss:   0.015069 | used_time: 3584.672793\n"
     ]
    },
    {
     "name": "stderr",
     "output_type": "stream",
     "text": [
      "5011it [59:33,  1.40it/s]\n"
     ]
    },
    {
     "name": "stdout",
     "output_type": "stream",
     "text": [
      "[385/2000]\t Image Loss:   0.186972 | trackingLoss:   0.015069 | used_time: 3573.841295\n"
     ]
    },
    {
     "name": "stderr",
     "output_type": "stream",
     "text": [
      "5011it [59:32,  1.40it/s]\n"
     ]
    },
    {
     "name": "stdout",
     "output_type": "stream",
     "text": [
      "[386/2000]\t Image Loss:   0.187298 | trackingLoss:   0.015071 | used_time: 3573.073498\n"
     ]
    },
    {
     "name": "stderr",
     "output_type": "stream",
     "text": [
      "5011it [59:37,  1.40it/s]\n"
     ]
    },
    {
     "name": "stdout",
     "output_type": "stream",
     "text": [
      "[387/2000]\t Image Loss:   0.187288 | trackingLoss:   0.015067 | used_time: 3577.194991\n"
     ]
    },
    {
     "name": "stderr",
     "output_type": "stream",
     "text": [
      "5011it [59:33,  1.40it/s]\n"
     ]
    },
    {
     "name": "stdout",
     "output_type": "stream",
     "text": [
      "[388/2000]\t Image Loss:   0.187338 | trackingLoss:   0.015068 | used_time: 3573.538001\n"
     ]
    },
    {
     "name": "stderr",
     "output_type": "stream",
     "text": [
      "5011it [59:34,  1.40it/s]\n"
     ]
    },
    {
     "name": "stdout",
     "output_type": "stream",
     "text": [
      "[389/2000]\t Image Loss:   0.186263 | trackingLoss:   0.015067 | used_time: 3574.845845\n"
     ]
    },
    {
     "name": "stderr",
     "output_type": "stream",
     "text": [
      "5011it [59:33,  1.40it/s]\n"
     ]
    },
    {
     "name": "stdout",
     "output_type": "stream",
     "text": [
      "[390/2000]\t Image Loss:   0.186656 | trackingLoss:   0.015069 | used_time: 3573.288484\n"
     ]
    },
    {
     "name": "stderr",
     "output_type": "stream",
     "text": [
      "5011it [59:31,  1.40it/s]\n"
     ]
    },
    {
     "name": "stdout",
     "output_type": "stream",
     "text": [
      "[391/2000]\t Image Loss:   0.187006 | trackingLoss:   0.015067 | used_time: 3571.156622\n"
     ]
    },
    {
     "name": "stderr",
     "output_type": "stream",
     "text": [
      "5011it [59:30,  1.40it/s]\n"
     ]
    },
    {
     "name": "stdout",
     "output_type": "stream",
     "text": [
      "[392/2000]\t Image Loss:   0.185932 | trackingLoss:   0.015065 | used_time: 3570.543767\n"
     ]
    },
    {
     "name": "stderr",
     "output_type": "stream",
     "text": [
      "5011it [59:29,  1.40it/s]\n"
     ]
    },
    {
     "name": "stdout",
     "output_type": "stream",
     "text": [
      "[393/2000]\t Image Loss:   0.186018 | trackingLoss:   0.015067 | used_time: 3569.627255\n"
     ]
    },
    {
     "name": "stderr",
     "output_type": "stream",
     "text": [
      "5011it [59:31,  1.40it/s]\n"
     ]
    },
    {
     "name": "stdout",
     "output_type": "stream",
     "text": [
      "[394/2000]\t Image Loss:   0.185980 | trackingLoss:   0.015064 | used_time: 3571.153075\n"
     ]
    },
    {
     "name": "stderr",
     "output_type": "stream",
     "text": [
      "5011it [59:30,  1.40it/s]\n"
     ]
    },
    {
     "name": "stdout",
     "output_type": "stream",
     "text": [
      "[395/2000]\t Image Loss:   0.186614 | trackingLoss:   0.015071 | used_time: 3570.705312\n"
     ]
    },
    {
     "name": "stderr",
     "output_type": "stream",
     "text": [
      "5011it [59:33,  1.40it/s]\n"
     ]
    },
    {
     "name": "stdout",
     "output_type": "stream",
     "text": [
      "[396/2000]\t Image Loss:   0.186146 | trackingLoss:   0.015064 | used_time: 3573.587107\n"
     ]
    },
    {
     "name": "stderr",
     "output_type": "stream",
     "text": [
      "5011it [59:29,  1.40it/s]\n"
     ]
    },
    {
     "name": "stdout",
     "output_type": "stream",
     "text": [
      "[397/2000]\t Image Loss:   0.186547 | trackingLoss:   0.015065 | used_time: 3569.582923\n"
     ]
    },
    {
     "name": "stderr",
     "output_type": "stream",
     "text": [
      "5011it [59:43,  1.40it/s]\n"
     ]
    },
    {
     "name": "stdout",
     "output_type": "stream",
     "text": [
      "[398/2000]\t Image Loss:   0.187001 | trackingLoss:   0.015073 | used_time: 3583.981971\n"
     ]
    },
    {
     "name": "stderr",
     "output_type": "stream",
     "text": [
      "5011it [1:00:56,  1.37it/s]\n"
     ]
    },
    {
     "name": "stdout",
     "output_type": "stream",
     "text": [
      "[399/2000]\t Image Loss:   0.186507 | trackingLoss:   0.015068 | used_time: 3657.081872\n"
     ]
    },
    {
     "name": "stderr",
     "output_type": "stream",
     "text": [
      "5011it [59:35,  1.40it/s]\n"
     ]
    },
    {
     "name": "stdout",
     "output_type": "stream",
     "text": [
      "[400/2000]\t Image Loss:   0.186812 | trackingLoss:   0.015067 | used_time: 3576.096334\n"
     ]
    },
    {
     "name": "stderr",
     "output_type": "stream",
     "text": [
      "5011it [59:34,  1.40it/s]\n"
     ]
    },
    {
     "name": "stdout",
     "output_type": "stream",
     "text": [
      "[401/2000]\t Image Loss:   0.187149 | trackingLoss:   0.015068 | used_time: 3574.303085\n"
     ]
    },
    {
     "name": "stderr",
     "output_type": "stream",
     "text": [
      "5011it [59:36,  1.40it/s]\n"
     ]
    },
    {
     "name": "stdout",
     "output_type": "stream",
     "text": [
      "[402/2000]\t Image Loss:   0.186915 | trackingLoss:   0.015067 | used_time: 3576.941622\n"
     ]
    },
    {
     "name": "stderr",
     "output_type": "stream",
     "text": [
      "5011it [59:35,  1.40it/s]\n"
     ]
    },
    {
     "name": "stdout",
     "output_type": "stream",
     "text": [
      "[403/2000]\t Image Loss:   0.186481 | trackingLoss:   0.015068 | used_time: 3575.689985\n"
     ]
    },
    {
     "name": "stderr",
     "output_type": "stream",
     "text": [
      "5011it [59:33,  1.40it/s]\n"
     ]
    },
    {
     "name": "stdout",
     "output_type": "stream",
     "text": [
      "[404/2000]\t Image Loss:   0.185698 | trackingLoss:   0.015067 | used_time: 3573.432708\n"
     ]
    },
    {
     "name": "stderr",
     "output_type": "stream",
     "text": [
      "5011it [59:39,  1.40it/s]\n"
     ]
    },
    {
     "name": "stdout",
     "output_type": "stream",
     "text": [
      "[405/2000]\t Image Loss:   0.186088 | trackingLoss:   0.015069 | used_time: 3579.542937\n"
     ]
    },
    {
     "name": "stderr",
     "output_type": "stream",
     "text": [
      "5011it [59:38,  1.40it/s]\n"
     ]
    },
    {
     "name": "stdout",
     "output_type": "stream",
     "text": [
      "[406/2000]\t Image Loss:   0.187543 | trackingLoss:   0.015070 | used_time: 3578.732620\n"
     ]
    },
    {
     "name": "stderr",
     "output_type": "stream",
     "text": [
      "5011it [59:37,  1.40it/s]\n"
     ]
    },
    {
     "name": "stdout",
     "output_type": "stream",
     "text": [
      "[407/2000]\t Image Loss:   0.188241 | trackingLoss:   0.015071 | used_time: 3577.142312\n"
     ]
    },
    {
     "name": "stderr",
     "output_type": "stream",
     "text": [
      "5011it [59:37,  1.40it/s]\n"
     ]
    },
    {
     "name": "stdout",
     "output_type": "stream",
     "text": [
      "[408/2000]\t Image Loss:   0.187930 | trackingLoss:   0.015067 | used_time: 3577.156690\n"
     ]
    },
    {
     "name": "stderr",
     "output_type": "stream",
     "text": [
      "5011it [59:34,  1.40it/s]\n"
     ]
    },
    {
     "name": "stdout",
     "output_type": "stream",
     "text": [
      "[409/2000]\t Image Loss:   0.187440 | trackingLoss:   0.015070 | used_time: 3574.709743\n"
     ]
    },
    {
     "name": "stderr",
     "output_type": "stream",
     "text": [
      "5011it [59:35,  1.40it/s]\n"
     ]
    },
    {
     "name": "stdout",
     "output_type": "stream",
     "text": [
      "[410/2000]\t Image Loss:   0.188579 | trackingLoss:   0.015071 | used_time: 3576.116312\n"
     ]
    },
    {
     "name": "stderr",
     "output_type": "stream",
     "text": [
      "5011it [59:34,  1.40it/s]\n"
     ]
    },
    {
     "name": "stdout",
     "output_type": "stream",
     "text": [
      "[411/2000]\t Image Loss:   0.187808 | trackingLoss:   0.015069 | used_time: 3574.817992\n"
     ]
    },
    {
     "name": "stderr",
     "output_type": "stream",
     "text": [
      "5011it [59:34,  1.40it/s]\n"
     ]
    },
    {
     "name": "stdout",
     "output_type": "stream",
     "text": [
      "[412/2000]\t Image Loss:   0.186804 | trackingLoss:   0.015069 | used_time: 3574.514783\n"
     ]
    },
    {
     "name": "stderr",
     "output_type": "stream",
     "text": [
      "5011it [59:31,  1.40it/s]\n"
     ]
    },
    {
     "name": "stdout",
     "output_type": "stream",
     "text": [
      "[413/2000]\t Image Loss:   0.188048 | trackingLoss:   0.015070 | used_time: 3572.063878\n"
     ]
    },
    {
     "name": "stderr",
     "output_type": "stream",
     "text": [
      "5011it [59:33,  1.40it/s]\n"
     ]
    },
    {
     "name": "stdout",
     "output_type": "stream",
     "text": [
      "[414/2000]\t Image Loss:   0.189073 | trackingLoss:   0.015074 | used_time: 3573.599985\n"
     ]
    },
    {
     "name": "stderr",
     "output_type": "stream",
     "text": [
      "5011it [59:31,  1.40it/s]\n"
     ]
    },
    {
     "name": "stdout",
     "output_type": "stream",
     "text": [
      "[415/2000]\t Image Loss:   0.189779 | trackingLoss:   0.015076 | used_time: 3571.633549\n"
     ]
    },
    {
     "name": "stderr",
     "output_type": "stream",
     "text": [
      "5011it [59:32,  1.40it/s]\n"
     ]
    },
    {
     "name": "stdout",
     "output_type": "stream",
     "text": [
      "[416/2000]\t Image Loss:   0.188561 | trackingLoss:   0.015068 | used_time: 3572.255251\n"
     ]
    },
    {
     "name": "stderr",
     "output_type": "stream",
     "text": [
      "5011it [59:35,  1.40it/s]\n"
     ]
    },
    {
     "name": "stdout",
     "output_type": "stream",
     "text": [
      "[417/2000]\t Image Loss:   0.188647 | trackingLoss:   0.015073 | used_time: 3575.155121\n"
     ]
    },
    {
     "name": "stderr",
     "output_type": "stream",
     "text": [
      "5011it [59:34,  1.40it/s]\n"
     ]
    },
    {
     "name": "stdout",
     "output_type": "stream",
     "text": [
      "[418/2000]\t Image Loss:   0.189893 | trackingLoss:   0.015073 | used_time: 3574.723133\n"
     ]
    },
    {
     "name": "stderr",
     "output_type": "stream",
     "text": [
      "5011it [59:33,  1.40it/s]\n"
     ]
    },
    {
     "name": "stdout",
     "output_type": "stream",
     "text": [
      "[419/2000]\t Image Loss:   0.188947 | trackingLoss:   0.015069 | used_time: 3574.088898\n"
     ]
    },
    {
     "name": "stderr",
     "output_type": "stream",
     "text": [
      "5011it [59:32,  1.40it/s]\n"
     ]
    },
    {
     "name": "stdout",
     "output_type": "stream",
     "text": [
      "[420/2000]\t Image Loss:   0.188769 | trackingLoss:   0.015070 | used_time: 3572.212914\n"
     ]
    },
    {
     "name": "stderr",
     "output_type": "stream",
     "text": [
      "5011it [59:33,  1.40it/s]\n"
     ]
    },
    {
     "name": "stdout",
     "output_type": "stream",
     "text": [
      "[421/2000]\t Image Loss:   0.189046 | trackingLoss:   0.015072 | used_time: 3573.405895\n"
     ]
    },
    {
     "name": "stderr",
     "output_type": "stream",
     "text": [
      "5011it [59:33,  1.40it/s]\n"
     ]
    },
    {
     "name": "stdout",
     "output_type": "stream",
     "text": [
      "[422/2000]\t Image Loss:   0.188175 | trackingLoss:   0.015067 | used_time: 3573.919136\n"
     ]
    },
    {
     "name": "stderr",
     "output_type": "stream",
     "text": [
      "5011it [59:32,  1.40it/s]\n"
     ]
    },
    {
     "name": "stdout",
     "output_type": "stream",
     "text": [
      "[423/2000]\t Image Loss:   0.188177 | trackingLoss:   0.015068 | used_time: 3572.349899\n"
     ]
    },
    {
     "name": "stderr",
     "output_type": "stream",
     "text": [
      "5011it [59:33,  1.40it/s]\n"
     ]
    },
    {
     "name": "stdout",
     "output_type": "stream",
     "text": [
      "[424/2000]\t Image Loss:   0.188401 | trackingLoss:   0.015064 | used_time: 3573.621475\n"
     ]
    },
    {
     "name": "stderr",
     "output_type": "stream",
     "text": [
      "5011it [59:32,  1.40it/s]\n"
     ]
    },
    {
     "name": "stdout",
     "output_type": "stream",
     "text": [
      "[425/2000]\t Image Loss:   0.188462 | trackingLoss:   0.015068 | used_time: 3572.445211\n"
     ]
    },
    {
     "name": "stderr",
     "output_type": "stream",
     "text": [
      "5011it [59:33,  1.40it/s]\n"
     ]
    },
    {
     "name": "stdout",
     "output_type": "stream",
     "text": [
      "[426/2000]\t Image Loss:   0.188044 | trackingLoss:   0.015065 | used_time: 3574.079261\n"
     ]
    },
    {
     "name": "stderr",
     "output_type": "stream",
     "text": [
      "5011it [59:34,  1.40it/s]\n"
     ]
    },
    {
     "name": "stdout",
     "output_type": "stream",
     "text": [
      "[427/2000]\t Image Loss:   0.188992 | trackingLoss:   0.015071 | used_time: 3574.265789\n"
     ]
    },
    {
     "name": "stderr",
     "output_type": "stream",
     "text": [
      "5011it [59:34,  1.40it/s]\n"
     ]
    },
    {
     "name": "stdout",
     "output_type": "stream",
     "text": [
      "[428/2000]\t Image Loss:   0.188754 | trackingLoss:   0.015070 | used_time: 3574.128134\n"
     ]
    },
    {
     "name": "stderr",
     "output_type": "stream",
     "text": [
      "5011it [59:34,  1.40it/s]\n"
     ]
    },
    {
     "name": "stdout",
     "output_type": "stream",
     "text": [
      "[429/2000]\t Image Loss:   0.188256 | trackingLoss:   0.015077 | used_time: 3574.914730\n"
     ]
    },
    {
     "name": "stderr",
     "output_type": "stream",
     "text": [
      "5011it [59:31,  1.40it/s]\n"
     ]
    },
    {
     "name": "stdout",
     "output_type": "stream",
     "text": [
      "[430/2000]\t Image Loss:   0.187222 | trackingLoss:   0.015072 | used_time: 3571.358149\n"
     ]
    },
    {
     "name": "stderr",
     "output_type": "stream",
     "text": [
      "5011it [59:33,  1.40it/s]\n"
     ]
    },
    {
     "name": "stdout",
     "output_type": "stream",
     "text": [
      "[431/2000]\t Image Loss:   0.188015 | trackingLoss:   0.015075 | used_time: 3574.102792\n"
     ]
    },
    {
     "name": "stderr",
     "output_type": "stream",
     "text": [
      "5011it [59:33,  1.40it/s]\n"
     ]
    },
    {
     "name": "stdout",
     "output_type": "stream",
     "text": [
      "[432/2000]\t Image Loss:   0.188137 | trackingLoss:   0.015073 | used_time: 3573.749690\n"
     ]
    },
    {
     "name": "stderr",
     "output_type": "stream",
     "text": [
      "5011it [59:34,  1.40it/s]\n"
     ]
    },
    {
     "name": "stdout",
     "output_type": "stream",
     "text": [
      "[433/2000]\t Image Loss:   0.187572 | trackingLoss:   0.015069 | used_time: 3574.991256\n"
     ]
    },
    {
     "name": "stderr",
     "output_type": "stream",
     "text": [
      "5011it [59:31,  1.40it/s]\n"
     ]
    },
    {
     "name": "stdout",
     "output_type": "stream",
     "text": [
      "[434/2000]\t Image Loss:   0.187964 | trackingLoss:   0.015068 | used_time: 3572.117320\n"
     ]
    },
    {
     "name": "stderr",
     "output_type": "stream",
     "text": [
      "5011it [59:32,  1.40it/s]\n"
     ]
    },
    {
     "name": "stdout",
     "output_type": "stream",
     "text": [
      "[435/2000]\t Image Loss:   0.186554 | trackingLoss:   0.015070 | used_time: 3572.781546\n"
     ]
    },
    {
     "name": "stderr",
     "output_type": "stream",
     "text": [
      "5011it [59:35,  1.40it/s]\n"
     ]
    },
    {
     "name": "stdout",
     "output_type": "stream",
     "text": [
      "[436/2000]\t Image Loss:   0.187516 | trackingLoss:   0.015070 | used_time: 3575.154274\n"
     ]
    },
    {
     "name": "stderr",
     "output_type": "stream",
     "text": [
      "5011it [59:34,  1.40it/s]\n"
     ]
    },
    {
     "name": "stdout",
     "output_type": "stream",
     "text": [
      "[437/2000]\t Image Loss:   0.186249 | trackingLoss:   0.015065 | used_time: 3574.372695\n"
     ]
    },
    {
     "name": "stderr",
     "output_type": "stream",
     "text": [
      "5011it [59:34,  1.40it/s]\n"
     ]
    },
    {
     "name": "stdout",
     "output_type": "stream",
     "text": [
      "[438/2000]\t Image Loss:   0.187142 | trackingLoss:   0.015070 | used_time: 3574.149858\n"
     ]
    },
    {
     "name": "stderr",
     "output_type": "stream",
     "text": [
      "5011it [59:33,  1.40it/s]\n"
     ]
    },
    {
     "name": "stdout",
     "output_type": "stream",
     "text": [
      "[439/2000]\t Image Loss:   0.185869 | trackingLoss:   0.015066 | used_time: 3574.092852\n"
     ]
    },
    {
     "name": "stderr",
     "output_type": "stream",
     "text": [
      "5011it [59:32,  1.40it/s]\n"
     ]
    },
    {
     "name": "stdout",
     "output_type": "stream",
     "text": [
      "[440/2000]\t Image Loss:   0.186370 | trackingLoss:   0.015068 | used_time: 3572.573348\n"
     ]
    },
    {
     "name": "stderr",
     "output_type": "stream",
     "text": [
      "5011it [59:35,  1.40it/s]\n"
     ]
    },
    {
     "name": "stdout",
     "output_type": "stream",
     "text": [
      "[441/2000]\t Image Loss:   0.186882 | trackingLoss:   0.015066 | used_time: 3575.351490\n"
     ]
    },
    {
     "name": "stderr",
     "output_type": "stream",
     "text": [
      "5011it [59:32,  1.40it/s]\n"
     ]
    },
    {
     "name": "stdout",
     "output_type": "stream",
     "text": [
      "[442/2000]\t Image Loss:   0.185909 | trackingLoss:   0.015070 | used_time: 3572.985428\n"
     ]
    },
    {
     "name": "stderr",
     "output_type": "stream",
     "text": [
      "5011it [59:36,  1.40it/s]\n"
     ]
    },
    {
     "name": "stdout",
     "output_type": "stream",
     "text": [
      "[443/2000]\t Image Loss:   0.186934 | trackingLoss:   0.015070 | used_time: 3576.307425\n"
     ]
    },
    {
     "name": "stderr",
     "output_type": "stream",
     "text": [
      "5011it [59:41,  1.40it/s]\n"
     ]
    },
    {
     "name": "stdout",
     "output_type": "stream",
     "text": [
      "[444/2000]\t Image Loss:   0.186517 | trackingLoss:   0.015064 | used_time: 3581.958100\n"
     ]
    },
    {
     "name": "stderr",
     "output_type": "stream",
     "text": [
      "5011it [59:43,  1.40it/s]\n"
     ]
    },
    {
     "name": "stdout",
     "output_type": "stream",
     "text": [
      "[445/2000]\t Image Loss:   0.186762 | trackingLoss:   0.015067 | used_time: 3583.939849\n"
     ]
    },
    {
     "name": "stderr",
     "output_type": "stream",
     "text": [
      "5011it [59:46,  1.40it/s]\n"
     ]
    },
    {
     "name": "stdout",
     "output_type": "stream",
     "text": [
      "[446/2000]\t Image Loss:   0.187601 | trackingLoss:   0.015072 | used_time: 3587.044145\n"
     ]
    },
    {
     "name": "stderr",
     "output_type": "stream",
     "text": [
      "5011it [59:49,  1.40it/s]\n"
     ]
    },
    {
     "name": "stdout",
     "output_type": "stream",
     "text": [
      "[447/2000]\t Image Loss:   0.187357 | trackingLoss:   0.015067 | used_time: 3590.009222\n"
     ]
    },
    {
     "name": "stderr",
     "output_type": "stream",
     "text": [
      "5011it [59:48,  1.40it/s]\n"
     ]
    },
    {
     "name": "stdout",
     "output_type": "stream",
     "text": [
      "[448/2000]\t Image Loss:   0.186109 | trackingLoss:   0.015064 | used_time: 3588.806264\n"
     ]
    },
    {
     "name": "stderr",
     "output_type": "stream",
     "text": [
      "5011it [59:53,  1.39it/s]\n"
     ]
    },
    {
     "name": "stdout",
     "output_type": "stream",
     "text": [
      "[449/2000]\t Image Loss:   0.186436 | trackingLoss:   0.015068 | used_time: 3594.046875\n"
     ]
    },
    {
     "name": "stderr",
     "output_type": "stream",
     "text": [
      "5011it [59:57,  1.39it/s]\n"
     ]
    },
    {
     "name": "stdout",
     "output_type": "stream",
     "text": [
      "[450/2000]\t Image Loss:   0.187109 | trackingLoss:   0.015066 | used_time: 3597.269920\n"
     ]
    },
    {
     "name": "stderr",
     "output_type": "stream",
     "text": [
      "5011it [59:59,  1.39it/s]\n"
     ]
    },
    {
     "name": "stdout",
     "output_type": "stream",
     "text": [
      "[451/2000]\t Image Loss:   0.186244 | trackingLoss:   0.015065 | used_time: 3599.341284\n"
     ]
    },
    {
     "name": "stderr",
     "output_type": "stream",
     "text": [
      "5011it [1:00:00,  1.39it/s]\n"
     ]
    },
    {
     "name": "stdout",
     "output_type": "stream",
     "text": [
      "[452/2000]\t Image Loss:   0.186850 | trackingLoss:   0.015067 | used_time: 3600.124954\n"
     ]
    },
    {
     "name": "stderr",
     "output_type": "stream",
     "text": [
      "5011it [1:00:01,  1.39it/s]\n"
     ]
    },
    {
     "name": "stdout",
     "output_type": "stream",
     "text": [
      "[453/2000]\t Image Loss:   0.185940 | trackingLoss:   0.015068 | used_time: 3601.173491\n"
     ]
    },
    {
     "name": "stderr",
     "output_type": "stream",
     "text": [
      "5011it [59:58,  1.39it/s]\n"
     ]
    },
    {
     "name": "stdout",
     "output_type": "stream",
     "text": [
      "[454/2000]\t Image Loss:   0.188017 | trackingLoss:   0.015067 | used_time: 3599.044528\n"
     ]
    },
    {
     "name": "stderr",
     "output_type": "stream",
     "text": [
      "5011it [59:59,  1.39it/s]\n"
     ]
    },
    {
     "name": "stdout",
     "output_type": "stream",
     "text": [
      "[455/2000]\t Image Loss:   0.187101 | trackingLoss:   0.015073 | used_time: 3600.039138\n"
     ]
    },
    {
     "name": "stderr",
     "output_type": "stream",
     "text": [
      "5011it [59:57,  1.39it/s]\n"
     ]
    },
    {
     "name": "stdout",
     "output_type": "stream",
     "text": [
      "[456/2000]\t Image Loss:   0.185700 | trackingLoss:   0.015070 | used_time: 3597.726487\n"
     ]
    },
    {
     "name": "stderr",
     "output_type": "stream",
     "text": [
      "5011it [1:00:01,  1.39it/s]\n"
     ]
    },
    {
     "name": "stdout",
     "output_type": "stream",
     "text": [
      "[457/2000]\t Image Loss:   0.185918 | trackingLoss:   0.015069 | used_time: 3601.742599\n"
     ]
    },
    {
     "name": "stderr",
     "output_type": "stream",
     "text": [
      "5011it [1:00:01,  1.39it/s]\n"
     ]
    },
    {
     "name": "stdout",
     "output_type": "stream",
     "text": [
      "[458/2000]\t Image Loss:   0.186239 | trackingLoss:   0.015069 | used_time: 3601.276083\n"
     ]
    },
    {
     "name": "stderr",
     "output_type": "stream",
     "text": [
      "5011it [59:58,  1.39it/s]\n"
     ]
    },
    {
     "name": "stdout",
     "output_type": "stream",
     "text": [
      "[459/2000]\t Image Loss:   0.186094 | trackingLoss:   0.015070 | used_time: 3598.771522\n"
     ]
    },
    {
     "name": "stderr",
     "output_type": "stream",
     "text": [
      "5011it [59:57,  1.39it/s]\n"
     ]
    },
    {
     "name": "stdout",
     "output_type": "stream",
     "text": [
      "[460/2000]\t Image Loss:   0.187383 | trackingLoss:   0.015071 | used_time: 3597.391698\n"
     ]
    },
    {
     "name": "stderr",
     "output_type": "stream",
     "text": [
      "5011it [59:57,  1.39it/s]\n"
     ]
    },
    {
     "name": "stdout",
     "output_type": "stream",
     "text": [
      "[461/2000]\t Image Loss:   0.186639 | trackingLoss:   0.015071 | used_time: 3597.724910\n"
     ]
    },
    {
     "name": "stderr",
     "output_type": "stream",
     "text": [
      "5011it [59:56,  1.39it/s]\n"
     ]
    },
    {
     "name": "stdout",
     "output_type": "stream",
     "text": [
      "[462/2000]\t Image Loss:   0.187113 | trackingLoss:   0.015074 | used_time: 3596.233436\n"
     ]
    },
    {
     "name": "stderr",
     "output_type": "stream",
     "text": [
      "5011it [59:55,  1.39it/s]\n"
     ]
    },
    {
     "name": "stdout",
     "output_type": "stream",
     "text": [
      "[463/2000]\t Image Loss:   0.188162 | trackingLoss:   0.015073 | used_time: 3595.850502\n"
     ]
    },
    {
     "name": "stderr",
     "output_type": "stream",
     "text": [
      "5011it [59:56,  1.39it/s]\n"
     ]
    },
    {
     "name": "stdout",
     "output_type": "stream",
     "text": [
      "[464/2000]\t Image Loss:   0.186140 | trackingLoss:   0.015069 | used_time: 3596.372188\n"
     ]
    },
    {
     "name": "stderr",
     "output_type": "stream",
     "text": [
      "5011it [59:54,  1.39it/s]\n"
     ]
    },
    {
     "name": "stdout",
     "output_type": "stream",
     "text": [
      "[465/2000]\t Image Loss:   0.186088 | trackingLoss:   0.015071 | used_time: 3594.958441\n"
     ]
    },
    {
     "name": "stderr",
     "output_type": "stream",
     "text": [
      "5011it [59:50,  1.40it/s]\n"
     ]
    },
    {
     "name": "stdout",
     "output_type": "stream",
     "text": [
      "[466/2000]\t Image Loss:   0.186815 | trackingLoss:   0.015068 | used_time: 3590.244731\n"
     ]
    },
    {
     "name": "stderr",
     "output_type": "stream",
     "text": [
      "5011it [59:47,  1.40it/s]\n"
     ]
    },
    {
     "name": "stdout",
     "output_type": "stream",
     "text": [
      "[467/2000]\t Image Loss:   0.186440 | trackingLoss:   0.015070 | used_time: 3588.063816\n"
     ]
    },
    {
     "name": "stderr",
     "output_type": "stream",
     "text": [
      "5011it [59:49,  1.40it/s]\n"
     ]
    },
    {
     "name": "stdout",
     "output_type": "stream",
     "text": [
      "[468/2000]\t Image Loss:   0.185733 | trackingLoss:   0.015067 | used_time: 3589.447185\n"
     ]
    },
    {
     "name": "stderr",
     "output_type": "stream",
     "text": [
      "5011it [59:49,  1.40it/s]\n"
     ]
    },
    {
     "name": "stdout",
     "output_type": "stream",
     "text": [
      "[469/2000]\t Image Loss:   0.185768 | trackingLoss:   0.015072 | used_time: 3589.724586\n"
     ]
    },
    {
     "name": "stderr",
     "output_type": "stream",
     "text": [
      "5011it [59:54,  1.39it/s]\n"
     ]
    },
    {
     "name": "stdout",
     "output_type": "stream",
     "text": [
      "[470/2000]\t Image Loss:   0.186268 | trackingLoss:   0.015073 | used_time: 3594.662853\n"
     ]
    },
    {
     "name": "stderr",
     "output_type": "stream",
     "text": [
      "5011it [59:55,  1.39it/s]\n"
     ]
    },
    {
     "name": "stdout",
     "output_type": "stream",
     "text": [
      "[471/2000]\t Image Loss:   0.186719 | trackingLoss:   0.015069 | used_time: 3596.080081\n"
     ]
    },
    {
     "name": "stderr",
     "output_type": "stream",
     "text": [
      "5011it [59:57,  1.39it/s]\n"
     ]
    },
    {
     "name": "stdout",
     "output_type": "stream",
     "text": [
      "[472/2000]\t Image Loss:   0.186434 | trackingLoss:   0.015068 | used_time: 3598.063894\n"
     ]
    },
    {
     "name": "stderr",
     "output_type": "stream",
     "text": [
      "5011it [1:00:26,  1.38it/s]\n"
     ]
    },
    {
     "name": "stdout",
     "output_type": "stream",
     "text": [
      "[473/2000]\t Image Loss:   0.185724 | trackingLoss:   0.015068 | used_time: 3626.450585\n"
     ]
    },
    {
     "name": "stderr",
     "output_type": "stream",
     "text": [
      "5011it [1:00:04,  1.39it/s]\n"
     ]
    },
    {
     "name": "stdout",
     "output_type": "stream",
     "text": [
      "[474/2000]\t Image Loss:   0.185442 | trackingLoss:   0.015070 | used_time: 3604.830139\n"
     ]
    },
    {
     "name": "stderr",
     "output_type": "stream",
     "text": [
      "5011it [1:00:18,  1.38it/s]\n"
     ]
    },
    {
     "name": "stdout",
     "output_type": "stream",
     "text": [
      "[475/2000]\t Image Loss:   0.186277 | trackingLoss:   0.015070 | used_time: 3619.030224\n"
     ]
    },
    {
     "name": "stderr",
     "output_type": "stream",
     "text": [
      "5011it [1:00:02,  1.39it/s]\n"
     ]
    },
    {
     "name": "stdout",
     "output_type": "stream",
     "text": [
      "[476/2000]\t Image Loss:   0.186155 | trackingLoss:   0.015076 | used_time: 3602.615022\n"
     ]
    },
    {
     "name": "stderr",
     "output_type": "stream",
     "text": [
      "5011it [1:00:03,  1.39it/s]\n"
     ]
    },
    {
     "name": "stdout",
     "output_type": "stream",
     "text": [
      "[477/2000]\t Image Loss:   0.186041 | trackingLoss:   0.015075 | used_time: 3603.880541\n"
     ]
    },
    {
     "name": "stderr",
     "output_type": "stream",
     "text": [
      "5011it [1:00:02,  1.39it/s]\n"
     ]
    },
    {
     "name": "stdout",
     "output_type": "stream",
     "text": [
      "[478/2000]\t Image Loss:   0.185139 | trackingLoss:   0.015075 | used_time: 3603.020443\n"
     ]
    },
    {
     "name": "stderr",
     "output_type": "stream",
     "text": [
      "5011it [59:55,  1.39it/s]\n"
     ]
    },
    {
     "name": "stdout",
     "output_type": "stream",
     "text": [
      "[479/2000]\t Image Loss:   0.185595 | trackingLoss:   0.015073 | used_time: 3595.358404\n"
     ]
    },
    {
     "name": "stderr",
     "output_type": "stream",
     "text": [
      "5011it [1:00:05,  1.39it/s]\n"
     ]
    },
    {
     "name": "stdout",
     "output_type": "stream",
     "text": [
      "[480/2000]\t Image Loss:   0.186368 | trackingLoss:   0.015072 | used_time: 3605.627000\n"
     ]
    },
    {
     "name": "stderr",
     "output_type": "stream",
     "text": [
      "5011it [1:00:00,  1.39it/s]\n"
     ]
    },
    {
     "name": "stdout",
     "output_type": "stream",
     "text": [
      "[481/2000]\t Image Loss:   0.185994 | trackingLoss:   0.015063 | used_time: 3600.959972\n"
     ]
    },
    {
     "name": "stderr",
     "output_type": "stream",
     "text": [
      "5011it [59:56,  1.39it/s]\n"
     ]
    },
    {
     "name": "stdout",
     "output_type": "stream",
     "text": [
      "[482/2000]\t Image Loss:   0.185417 | trackingLoss:   0.015070 | used_time: 3596.438901\n"
     ]
    },
    {
     "name": "stderr",
     "output_type": "stream",
     "text": [
      "5011it [59:59,  1.39it/s]\n"
     ]
    },
    {
     "name": "stdout",
     "output_type": "stream",
     "text": [
      "[483/2000]\t Image Loss:   0.185215 | trackingLoss:   0.015069 | used_time: 3599.204251\n"
     ]
    },
    {
     "name": "stderr",
     "output_type": "stream",
     "text": [
      "5011it [59:57,  1.39it/s]\n"
     ]
    },
    {
     "name": "stdout",
     "output_type": "stream",
     "text": [
      "[484/2000]\t Image Loss:   0.185452 | trackingLoss:   0.015072 | used_time: 3597.259100\n"
     ]
    },
    {
     "name": "stderr",
     "output_type": "stream",
     "text": [
      "5011it [59:54,  1.39it/s]\n"
     ]
    },
    {
     "name": "stdout",
     "output_type": "stream",
     "text": [
      "[485/2000]\t Image Loss:   0.185716 | trackingLoss:   0.015073 | used_time: 3594.746284\n"
     ]
    },
    {
     "name": "stderr",
     "output_type": "stream",
     "text": [
      "5011it [59:53,  1.39it/s]\n"
     ]
    },
    {
     "name": "stdout",
     "output_type": "stream",
     "text": [
      "[486/2000]\t Image Loss:   0.186521 | trackingLoss:   0.015076 | used_time: 3593.859299\n"
     ]
    },
    {
     "name": "stderr",
     "output_type": "stream",
     "text": [
      "5011it [59:52,  1.39it/s]\n"
     ]
    },
    {
     "name": "stdout",
     "output_type": "stream",
     "text": [
      "[487/2000]\t Image Loss:   0.186217 | trackingLoss:   0.015075 | used_time: 3592.802661\n"
     ]
    },
    {
     "name": "stderr",
     "output_type": "stream",
     "text": [
      "5011it [59:52,  1.39it/s]\n"
     ]
    },
    {
     "name": "stdout",
     "output_type": "stream",
     "text": [
      "[488/2000]\t Image Loss:   0.188188 | trackingLoss:   0.015077 | used_time: 3592.501319\n"
     ]
    },
    {
     "name": "stderr",
     "output_type": "stream",
     "text": [
      "5011it [59:52,  1.39it/s]\n"
     ]
    },
    {
     "name": "stdout",
     "output_type": "stream",
     "text": [
      "[489/2000]\t Image Loss:   0.187853 | trackingLoss:   0.015076 | used_time: 3592.682310\n"
     ]
    },
    {
     "name": "stderr",
     "output_type": "stream",
     "text": [
      "5011it [59:54,  1.39it/s]\n"
     ]
    },
    {
     "name": "stdout",
     "output_type": "stream",
     "text": [
      "[490/2000]\t Image Loss:   0.187190 | trackingLoss:   0.015070 | used_time: 3594.381185\n"
     ]
    },
    {
     "name": "stderr",
     "output_type": "stream",
     "text": [
      "5011it [59:58,  1.39it/s]\n"
     ]
    },
    {
     "name": "stdout",
     "output_type": "stream",
     "text": [
      "[491/2000]\t Image Loss:   0.185820 | trackingLoss:   0.015071 | used_time: 3598.865102\n"
     ]
    },
    {
     "name": "stderr",
     "output_type": "stream",
     "text": [
      "5011it [1:00:07,  1.39it/s]\n"
     ]
    },
    {
     "name": "stdout",
     "output_type": "stream",
     "text": [
      "[492/2000]\t Image Loss:   0.185464 | trackingLoss:   0.015070 | used_time: 3607.566135\n"
     ]
    },
    {
     "name": "stderr",
     "output_type": "stream",
     "text": [
      "5011it [1:00:07,  1.39it/s]\n"
     ]
    },
    {
     "name": "stdout",
     "output_type": "stream",
     "text": [
      "[493/2000]\t Image Loss:   0.185990 | trackingLoss:   0.015073 | used_time: 3607.919662\n"
     ]
    },
    {
     "name": "stderr",
     "output_type": "stream",
     "text": [
      "5011it [1:00:08,  1.39it/s]\n"
     ]
    },
    {
     "name": "stdout",
     "output_type": "stream",
     "text": [
      "[494/2000]\t Image Loss:   0.185889 | trackingLoss:   0.015072 | used_time: 3608.611807\n"
     ]
    },
    {
     "name": "stderr",
     "output_type": "stream",
     "text": [
      "5011it [1:00:08,  1.39it/s]\n"
     ]
    },
    {
     "name": "stdout",
     "output_type": "stream",
     "text": [
      "[495/2000]\t Image Loss:   0.185406 | trackingLoss:   0.015070 | used_time: 3608.586674\n"
     ]
    },
    {
     "name": "stderr",
     "output_type": "stream",
     "text": [
      "5011it [1:00:10,  1.39it/s]\n"
     ]
    },
    {
     "name": "stdout",
     "output_type": "stream",
     "text": [
      "[496/2000]\t Image Loss:   0.186243 | trackingLoss:   0.015074 | used_time: 3610.757905\n"
     ]
    },
    {
     "name": "stderr",
     "output_type": "stream",
     "text": [
      "5011it [1:00:13,  1.39it/s]\n"
     ]
    },
    {
     "name": "stdout",
     "output_type": "stream",
     "text": [
      "[497/2000]\t Image Loss:   0.187022 | trackingLoss:   0.015074 | used_time: 3613.539817\n"
     ]
    },
    {
     "name": "stderr",
     "output_type": "stream",
     "text": [
      "5011it [1:00:16,  1.39it/s]\n"
     ]
    },
    {
     "name": "stdout",
     "output_type": "stream",
     "text": [
      "[498/2000]\t Image Loss:   0.186474 | trackingLoss:   0.015073 | used_time: 3616.582609\n"
     ]
    },
    {
     "name": "stderr",
     "output_type": "stream",
     "text": [
      "5011it [1:00:17,  1.39it/s]\n"
     ]
    },
    {
     "name": "stdout",
     "output_type": "stream",
     "text": [
      "[499/2000]\t Image Loss:   0.186456 | trackingLoss:   0.015072 | used_time: 3617.722146\n"
     ]
    },
    {
     "name": "stderr",
     "output_type": "stream",
     "text": [
      "5011it [1:00:07,  1.39it/s]\n"
     ]
    },
    {
     "name": "stdout",
     "output_type": "stream",
     "text": [
      "[500/2000]\t Image Loss:   0.186539 | trackingLoss:   0.015072 | used_time: 3607.359030\n"
     ]
    },
    {
     "name": "stderr",
     "output_type": "stream",
     "text": [
      "5011it [1:00:16,  1.39it/s]\n"
     ]
    },
    {
     "name": "stdout",
     "output_type": "stream",
     "text": [
      "[501/2000]\t Image Loss:   0.185891 | trackingLoss:   0.015077 | used_time: 3616.858901\n"
     ]
    },
    {
     "name": "stderr",
     "output_type": "stream",
     "text": [
      "5011it [1:00:15,  1.39it/s]\n"
     ]
    },
    {
     "name": "stdout",
     "output_type": "stream",
     "text": [
      "[502/2000]\t Image Loss:   0.185996 | trackingLoss:   0.015071 | used_time: 3615.181398\n"
     ]
    },
    {
     "name": "stderr",
     "output_type": "stream",
     "text": [
      "5011it [1:00:17,  1.39it/s]\n"
     ]
    },
    {
     "name": "stdout",
     "output_type": "stream",
     "text": [
      "[503/2000]\t Image Loss:   0.185651 | trackingLoss:   0.015075 | used_time: 3617.996712\n"
     ]
    },
    {
     "name": "stderr",
     "output_type": "stream",
     "text": [
      "5011it [1:00:18,  1.38it/s]\n"
     ]
    },
    {
     "name": "stdout",
     "output_type": "stream",
     "text": [
      "[504/2000]\t Image Loss:   0.185652 | trackingLoss:   0.015074 | used_time: 3619.081549\n"
     ]
    },
    {
     "name": "stderr",
     "output_type": "stream",
     "text": [
      "5011it [1:00:20,  1.38it/s]\n"
     ]
    },
    {
     "name": "stdout",
     "output_type": "stream",
     "text": [
      "[505/2000]\t Image Loss:   0.185944 | trackingLoss:   0.015077 | used_time: 3621.128086\n"
     ]
    },
    {
     "name": "stderr",
     "output_type": "stream",
     "text": [
      "5011it [1:00:22,  1.38it/s]\n"
     ]
    },
    {
     "name": "stdout",
     "output_type": "stream",
     "text": [
      "[506/2000]\t Image Loss:   0.185723 | trackingLoss:   0.015071 | used_time: 3622.404815\n"
     ]
    },
    {
     "name": "stderr",
     "output_type": "stream",
     "text": [
      "5011it [1:00:21,  1.38it/s]\n"
     ]
    },
    {
     "name": "stdout",
     "output_type": "stream",
     "text": [
      "[507/2000]\t Image Loss:   0.185161 | trackingLoss:   0.015071 | used_time: 3621.336000\n"
     ]
    },
    {
     "name": "stderr",
     "output_type": "stream",
     "text": [
      "5011it [1:00:16,  1.39it/s]\n"
     ]
    },
    {
     "name": "stdout",
     "output_type": "stream",
     "text": [
      "[508/2000]\t Image Loss:   0.184160 | trackingLoss:   0.015066 | used_time: 3616.737665\n"
     ]
    },
    {
     "name": "stderr",
     "output_type": "stream",
     "text": [
      "5011it [1:00:16,  1.39it/s]\n"
     ]
    },
    {
     "name": "stdout",
     "output_type": "stream",
     "text": [
      "[509/2000]\t Image Loss:   0.185516 | trackingLoss:   0.015071 | used_time: 3616.270765\n"
     ]
    },
    {
     "name": "stderr",
     "output_type": "stream",
     "text": [
      "5011it [1:00:14,  1.39it/s]\n"
     ]
    },
    {
     "name": "stdout",
     "output_type": "stream",
     "text": [
      "[510/2000]\t Image Loss:   0.185508 | trackingLoss:   0.015073 | used_time: 3614.820749\n"
     ]
    },
    {
     "name": "stderr",
     "output_type": "stream",
     "text": [
      "5011it [1:00:12,  1.39it/s]\n"
     ]
    },
    {
     "name": "stdout",
     "output_type": "stream",
     "text": [
      "[511/2000]\t Image Loss:   0.184852 | trackingLoss:   0.015075 | used_time: 3612.690892\n"
     ]
    },
    {
     "name": "stderr",
     "output_type": "stream",
     "text": [
      "5011it [1:00:10,  1.39it/s]\n"
     ]
    },
    {
     "name": "stdout",
     "output_type": "stream",
     "text": [
      "[512/2000]\t Image Loss:   0.185374 | trackingLoss:   0.015073 | used_time: 3610.317607\n"
     ]
    },
    {
     "name": "stderr",
     "output_type": "stream",
     "text": [
      "5011it [1:00:10,  1.39it/s]\n"
     ]
    },
    {
     "name": "stdout",
     "output_type": "stream",
     "text": [
      "[513/2000]\t Image Loss:   0.184855 | trackingLoss:   0.015072 | used_time: 3610.890079\n"
     ]
    },
    {
     "name": "stderr",
     "output_type": "stream",
     "text": [
      "5011it [1:00:15,  1.39it/s]\n"
     ]
    },
    {
     "name": "stdout",
     "output_type": "stream",
     "text": [
      "[514/2000]\t Image Loss:   0.186029 | trackingLoss:   0.015071 | used_time: 3615.267473\n"
     ]
    },
    {
     "name": "stderr",
     "output_type": "stream",
     "text": [
      "5011it [1:00:11,  1.39it/s]\n"
     ]
    },
    {
     "name": "stdout",
     "output_type": "stream",
     "text": [
      "[515/2000]\t Image Loss:   0.184720 | trackingLoss:   0.015071 | used_time: 3612.010539\n"
     ]
    },
    {
     "name": "stderr",
     "output_type": "stream",
     "text": [
      "5011it [1:00:13,  1.39it/s]\n"
     ]
    },
    {
     "name": "stdout",
     "output_type": "stream",
     "text": [
      "[516/2000]\t Image Loss:   0.186308 | trackingLoss:   0.015074 | used_time: 3613.761784\n"
     ]
    },
    {
     "name": "stderr",
     "output_type": "stream",
     "text": [
      "5011it [1:00:14,  1.39it/s]\n"
     ]
    },
    {
     "name": "stdout",
     "output_type": "stream",
     "text": [
      "[517/2000]\t Image Loss:   0.185286 | trackingLoss:   0.015070 | used_time: 3614.663995\n"
     ]
    },
    {
     "name": "stderr",
     "output_type": "stream",
     "text": [
      "5011it [1:00:12,  1.39it/s]\n"
     ]
    },
    {
     "name": "stdout",
     "output_type": "stream",
     "text": [
      "[518/2000]\t Image Loss:   0.185688 | trackingLoss:   0.015074 | used_time: 3612.675097\n"
     ]
    },
    {
     "name": "stderr",
     "output_type": "stream",
     "text": [
      "5011it [1:00:11,  1.39it/s]\n"
     ]
    },
    {
     "name": "stdout",
     "output_type": "stream",
     "text": [
      "[519/2000]\t Image Loss:   0.185122 | trackingLoss:   0.015073 | used_time: 3611.287755\n"
     ]
    },
    {
     "name": "stderr",
     "output_type": "stream",
     "text": [
      "5011it [1:00:12,  1.39it/s]\n"
     ]
    },
    {
     "name": "stdout",
     "output_type": "stream",
     "text": [
      "[520/2000]\t Image Loss:   0.184581 | trackingLoss:   0.015069 | used_time: 3612.157012\n"
     ]
    },
    {
     "name": "stderr",
     "output_type": "stream",
     "text": [
      "5011it [1:00:16,  1.39it/s]\n"
     ]
    },
    {
     "name": "stdout",
     "output_type": "stream",
     "text": [
      "[521/2000]\t Image Loss:   0.184614 | trackingLoss:   0.015072 | used_time: 3616.446437\n"
     ]
    },
    {
     "name": "stderr",
     "output_type": "stream",
     "text": [
      "5011it [1:00:19,  1.38it/s]\n"
     ]
    },
    {
     "name": "stdout",
     "output_type": "stream",
     "text": [
      "[522/2000]\t Image Loss:   0.184610 | trackingLoss:   0.015070 | used_time: 3619.785419\n"
     ]
    },
    {
     "name": "stderr",
     "output_type": "stream",
     "text": [
      "5011it [1:00:20,  1.38it/s]\n"
     ]
    },
    {
     "name": "stdout",
     "output_type": "stream",
     "text": [
      "[523/2000]\t Image Loss:   0.184136 | trackingLoss:   0.015072 | used_time: 3621.107737\n"
     ]
    },
    {
     "name": "stderr",
     "output_type": "stream",
     "text": [
      "5011it [1:00:12,  1.39it/s]\n"
     ]
    },
    {
     "name": "stdout",
     "output_type": "stream",
     "text": [
      "[524/2000]\t Image Loss:   0.184647 | trackingLoss:   0.015072 | used_time: 3612.667629\n"
     ]
    },
    {
     "name": "stderr",
     "output_type": "stream",
     "text": [
      "5011it [1:00:10,  1.39it/s]\n"
     ]
    },
    {
     "name": "stdout",
     "output_type": "stream",
     "text": [
      "[525/2000]\t Image Loss:   0.184666 | trackingLoss:   0.015073 | used_time: 3611.109943\n"
     ]
    },
    {
     "name": "stderr",
     "output_type": "stream",
     "text": [
      "5011it [1:00:23,  1.38it/s]\n"
     ]
    },
    {
     "name": "stdout",
     "output_type": "stream",
     "text": [
      "[526/2000]\t Image Loss:   0.184353 | trackingLoss:   0.015073 | used_time: 3624.108778\n"
     ]
    },
    {
     "name": "stderr",
     "output_type": "stream",
     "text": [
      "5011it [1:00:23,  1.38it/s]\n"
     ]
    },
    {
     "name": "stdout",
     "output_type": "stream",
     "text": [
      "[527/2000]\t Image Loss:   0.184782 | trackingLoss:   0.015071 | used_time: 3623.831154\n"
     ]
    },
    {
     "name": "stderr",
     "output_type": "stream",
     "text": [
      "5011it [1:00:24,  1.38it/s]\n"
     ]
    },
    {
     "name": "stdout",
     "output_type": "stream",
     "text": [
      "[528/2000]\t Image Loss:   0.184454 | trackingLoss:   0.015071 | used_time: 3624.693346\n"
     ]
    },
    {
     "name": "stderr",
     "output_type": "stream",
     "text": [
      "5011it [1:00:24,  1.38it/s]\n"
     ]
    },
    {
     "name": "stdout",
     "output_type": "stream",
     "text": [
      "[529/2000]\t Image Loss:   0.184096 | trackingLoss:   0.015073 | used_time: 3624.333017\n"
     ]
    },
    {
     "name": "stderr",
     "output_type": "stream",
     "text": [
      "5011it [1:00:25,  1.38it/s]\n"
     ]
    },
    {
     "name": "stdout",
     "output_type": "stream",
     "text": [
      "[530/2000]\t Image Loss:   0.183974 | trackingLoss:   0.015074 | used_time: 3625.939727\n"
     ]
    },
    {
     "name": "stderr",
     "output_type": "stream",
     "text": [
      "5011it [1:00:25,  1.38it/s]\n"
     ]
    },
    {
     "name": "stdout",
     "output_type": "stream",
     "text": [
      "[531/2000]\t Image Loss:   0.184451 | trackingLoss:   0.015074 | used_time: 3626.105424\n"
     ]
    },
    {
     "name": "stderr",
     "output_type": "stream",
     "text": [
      "5011it [1:00:26,  1.38it/s]\n"
     ]
    },
    {
     "name": "stdout",
     "output_type": "stream",
     "text": [
      "[532/2000]\t Image Loss:   0.184473 | trackingLoss:   0.015072 | used_time: 3626.669955\n"
     ]
    },
    {
     "name": "stderr",
     "output_type": "stream",
     "text": [
      "5011it [1:00:21,  1.38it/s]\n"
     ]
    },
    {
     "name": "stdout",
     "output_type": "stream",
     "text": [
      "[533/2000]\t Image Loss:   0.183807 | trackingLoss:   0.015072 | used_time: 3621.974925\n"
     ]
    },
    {
     "name": "stderr",
     "output_type": "stream",
     "text": [
      "5011it [1:00:20,  1.38it/s]\n"
     ]
    },
    {
     "name": "stdout",
     "output_type": "stream",
     "text": [
      "[534/2000]\t Image Loss:   0.183501 | trackingLoss:   0.015070 | used_time: 3620.943740\n"
     ]
    },
    {
     "name": "stderr",
     "output_type": "stream",
     "text": [
      "5011it [1:00:21,  1.38it/s]\n"
     ]
    },
    {
     "name": "stdout",
     "output_type": "stream",
     "text": [
      "[535/2000]\t Image Loss:   0.183809 | trackingLoss:   0.015073 | used_time: 3621.918154\n"
     ]
    },
    {
     "name": "stderr",
     "output_type": "stream",
     "text": [
      "5011it [1:00:21,  1.38it/s]\n"
     ]
    },
    {
     "name": "stdout",
     "output_type": "stream",
     "text": [
      "[536/2000]\t Image Loss:   0.183726 | trackingLoss:   0.015073 | used_time: 3621.411234\n"
     ]
    },
    {
     "name": "stderr",
     "output_type": "stream",
     "text": [
      "5011it [1:00:25,  1.38it/s]\n"
     ]
    },
    {
     "name": "stdout",
     "output_type": "stream",
     "text": [
      "[537/2000]\t Image Loss:   0.184066 | trackingLoss:   0.015072 | used_time: 3625.444545\n"
     ]
    },
    {
     "name": "stderr",
     "output_type": "stream",
     "text": [
      "5011it [1:00:24,  1.38it/s]\n"
     ]
    },
    {
     "name": "stdout",
     "output_type": "stream",
     "text": [
      "[538/2000]\t Image Loss:   0.184242 | trackingLoss:   0.015079 | used_time: 3624.685937\n"
     ]
    },
    {
     "name": "stderr",
     "output_type": "stream",
     "text": [
      "5011it [1:00:26,  1.38it/s]\n"
     ]
    },
    {
     "name": "stdout",
     "output_type": "stream",
     "text": [
      "[539/2000]\t Image Loss:   0.184123 | trackingLoss:   0.015078 | used_time: 3626.773939\n"
     ]
    },
    {
     "name": "stderr",
     "output_type": "stream",
     "text": [
      "5011it [1:00:28,  1.38it/s]\n"
     ]
    },
    {
     "name": "stdout",
     "output_type": "stream",
     "text": [
      "[540/2000]\t Image Loss:   0.183820 | trackingLoss:   0.015074 | used_time: 3628.356847\n"
     ]
    },
    {
     "name": "stderr",
     "output_type": "stream",
     "text": [
      "5011it [1:00:29,  1.38it/s]\n"
     ]
    },
    {
     "name": "stdout",
     "output_type": "stream",
     "text": [
      "[541/2000]\t Image Loss:   0.184430 | trackingLoss:   0.015075 | used_time: 3630.114730\n"
     ]
    },
    {
     "name": "stderr",
     "output_type": "stream",
     "text": [
      "5011it [1:00:29,  1.38it/s]\n"
     ]
    },
    {
     "name": "stdout",
     "output_type": "stream",
     "text": [
      "[542/2000]\t Image Loss:   0.184719 | trackingLoss:   0.015076 | used_time: 3629.613948\n"
     ]
    },
    {
     "name": "stderr",
     "output_type": "stream",
     "text": [
      "5011it [1:00:30,  1.38it/s]\n"
     ]
    },
    {
     "name": "stdout",
     "output_type": "stream",
     "text": [
      "[543/2000]\t Image Loss:   0.184539 | trackingLoss:   0.015074 | used_time: 3630.746156\n"
     ]
    },
    {
     "name": "stderr",
     "output_type": "stream",
     "text": [
      "5011it [1:00:25,  1.38it/s]\n"
     ]
    },
    {
     "name": "stdout",
     "output_type": "stream",
     "text": [
      "[544/2000]\t Image Loss:   0.183386 | trackingLoss:   0.015071 | used_time: 3625.121746\n"
     ]
    },
    {
     "name": "stderr",
     "output_type": "stream",
     "text": [
      "5011it [1:00:20,  1.38it/s]\n"
     ]
    },
    {
     "name": "stdout",
     "output_type": "stream",
     "text": [
      "[545/2000]\t Image Loss:   0.183853 | trackingLoss:   0.015073 | used_time: 3620.454101\n"
     ]
    },
    {
     "name": "stderr",
     "output_type": "stream",
     "text": [
      "5011it [1:00:17,  1.39it/s]\n"
     ]
    },
    {
     "name": "stdout",
     "output_type": "stream",
     "text": [
      "[546/2000]\t Image Loss:   0.184122 | trackingLoss:   0.015076 | used_time: 3617.522474\n"
     ]
    },
    {
     "name": "stderr",
     "output_type": "stream",
     "text": [
      "5011it [1:00:16,  1.39it/s]\n"
     ]
    },
    {
     "name": "stdout",
     "output_type": "stream",
     "text": [
      "[547/2000]\t Image Loss:   0.184820 | trackingLoss:   0.015078 | used_time: 3616.328364\n"
     ]
    },
    {
     "name": "stderr",
     "output_type": "stream",
     "text": [
      "5011it [1:00:03,  1.39it/s]\n"
     ]
    },
    {
     "name": "stdout",
     "output_type": "stream",
     "text": [
      "[548/2000]\t Image Loss:   0.184024 | trackingLoss:   0.015074 | used_time: 3603.479980\n"
     ]
    },
    {
     "name": "stderr",
     "output_type": "stream",
     "text": [
      "5011it [59:54,  1.39it/s]\n"
     ]
    },
    {
     "name": "stdout",
     "output_type": "stream",
     "text": [
      "[549/2000]\t Image Loss:   0.183909 | trackingLoss:   0.015074 | used_time: 3594.966688\n"
     ]
    },
    {
     "name": "stderr",
     "output_type": "stream",
     "text": [
      "5011it [59:59,  1.39it/s]\n"
     ]
    },
    {
     "name": "stdout",
     "output_type": "stream",
     "text": [
      "[550/2000]\t Image Loss:   0.183080 | trackingLoss:   0.015075 | used_time: 3599.679445\n"
     ]
    },
    {
     "name": "stderr",
     "output_type": "stream",
     "text": [
      "5011it [1:00:01,  1.39it/s]\n"
     ]
    },
    {
     "name": "stdout",
     "output_type": "stream",
     "text": [
      "[551/2000]\t Image Loss:   0.183385 | trackingLoss:   0.015073 | used_time: 3601.140325\n"
     ]
    },
    {
     "name": "stderr",
     "output_type": "stream",
     "text": [
      "5011it [1:00:05,  1.39it/s]\n"
     ]
    },
    {
     "name": "stdout",
     "output_type": "stream",
     "text": [
      "[552/2000]\t Image Loss:   0.183221 | trackingLoss:   0.015073 | used_time: 3605.684345\n"
     ]
    },
    {
     "name": "stderr",
     "output_type": "stream",
     "text": [
      "5011it [1:00:07,  1.39it/s]\n"
     ]
    },
    {
     "name": "stdout",
     "output_type": "stream",
     "text": [
      "[553/2000]\t Image Loss:   0.183372 | trackingLoss:   0.015076 | used_time: 3607.300040\n"
     ]
    },
    {
     "name": "stderr",
     "output_type": "stream",
     "text": [
      "5011it [1:00:14,  1.39it/s]\n"
     ]
    },
    {
     "name": "stdout",
     "output_type": "stream",
     "text": [
      "[554/2000]\t Image Loss:   0.183405 | trackingLoss:   0.015075 | used_time: 3614.532561\n"
     ]
    },
    {
     "name": "stderr",
     "output_type": "stream",
     "text": [
      "5011it [1:00:09,  1.39it/s]\n"
     ]
    },
    {
     "name": "stdout",
     "output_type": "stream",
     "text": [
      "[555/2000]\t Image Loss:   0.183391 | trackingLoss:   0.015070 | used_time: 3609.604643\n"
     ]
    },
    {
     "name": "stderr",
     "output_type": "stream",
     "text": [
      "5011it [1:00:07,  1.39it/s]\n"
     ]
    },
    {
     "name": "stdout",
     "output_type": "stream",
     "text": [
      "[556/2000]\t Image Loss:   0.183935 | trackingLoss:   0.015073 | used_time: 3608.027911\n"
     ]
    },
    {
     "name": "stderr",
     "output_type": "stream",
     "text": [
      "5011it [1:00:07,  1.39it/s]\n"
     ]
    },
    {
     "name": "stdout",
     "output_type": "stream",
     "text": [
      "[557/2000]\t Image Loss:   0.185093 | trackingLoss:   0.015078 | used_time: 3607.227075\n"
     ]
    },
    {
     "name": "stderr",
     "output_type": "stream",
     "text": [
      "5011it [1:00:04,  1.39it/s]\n"
     ]
    },
    {
     "name": "stdout",
     "output_type": "stream",
     "text": [
      "[558/2000]\t Image Loss:   0.183440 | trackingLoss:   0.015073 | used_time: 3604.210776\n"
     ]
    },
    {
     "name": "stderr",
     "output_type": "stream",
     "text": [
      "5011it [1:00:05,  1.39it/s]\n"
     ]
    },
    {
     "name": "stdout",
     "output_type": "stream",
     "text": [
      "[559/2000]\t Image Loss:   0.183407 | trackingLoss:   0.015074 | used_time: 3605.477838\n"
     ]
    },
    {
     "name": "stderr",
     "output_type": "stream",
     "text": [
      "5011it [1:00:04,  1.39it/s]\n"
     ]
    },
    {
     "name": "stdout",
     "output_type": "stream",
     "text": [
      "[560/2000]\t Image Loss:   0.183954 | trackingLoss:   0.015075 | used_time: 3604.977462\n"
     ]
    },
    {
     "name": "stderr",
     "output_type": "stream",
     "text": [
      "5011it [1:00:00,  1.39it/s]\n"
     ]
    },
    {
     "name": "stdout",
     "output_type": "stream",
     "text": [
      "[561/2000]\t Image Loss:   0.183580 | trackingLoss:   0.015073 | used_time: 3600.899662\n"
     ]
    },
    {
     "name": "stderr",
     "output_type": "stream",
     "text": [
      "5011it [59:58,  1.39it/s]\n"
     ]
    },
    {
     "name": "stdout",
     "output_type": "stream",
     "text": [
      "[562/2000]\t Image Loss:   0.183599 | trackingLoss:   0.015076 | used_time: 3598.872876\n"
     ]
    },
    {
     "name": "stderr",
     "output_type": "stream",
     "text": [
      "5011it [59:58,  1.39it/s]\n"
     ]
    },
    {
     "name": "stdout",
     "output_type": "stream",
     "text": [
      "[563/2000]\t Image Loss:   0.184292 | trackingLoss:   0.015075 | used_time: 3598.423047\n"
     ]
    },
    {
     "name": "stderr",
     "output_type": "stream",
     "text": [
      "5011it [59:56,  1.39it/s]\n"
     ]
    },
    {
     "name": "stdout",
     "output_type": "stream",
     "text": [
      "[564/2000]\t Image Loss:   0.183372 | trackingLoss:   0.015074 | used_time: 3596.972229\n"
     ]
    },
    {
     "name": "stderr",
     "output_type": "stream",
     "text": [
      "5011it [59:58,  1.39it/s]\n"
     ]
    },
    {
     "name": "stdout",
     "output_type": "stream",
     "text": [
      "[565/2000]\t Image Loss:   0.184026 | trackingLoss:   0.015070 | used_time: 3598.870286\n"
     ]
    },
    {
     "name": "stderr",
     "output_type": "stream",
     "text": [
      "5011it [59:54,  1.39it/s]\n"
     ]
    },
    {
     "name": "stdout",
     "output_type": "stream",
     "text": [
      "[566/2000]\t Image Loss:   0.183380 | trackingLoss:   0.015072 | used_time: 3595.037046\n"
     ]
    },
    {
     "name": "stderr",
     "output_type": "stream",
     "text": [
      "5011it [59:52,  1.39it/s]\n"
     ]
    },
    {
     "name": "stdout",
     "output_type": "stream",
     "text": [
      "[567/2000]\t Image Loss:   0.184595 | trackingLoss:   0.015078 | used_time: 3592.513899\n"
     ]
    },
    {
     "name": "stderr",
     "output_type": "stream",
     "text": [
      "5011it [59:51,  1.40it/s]\n"
     ]
    },
    {
     "name": "stdout",
     "output_type": "stream",
     "text": [
      "[568/2000]\t Image Loss:   0.183771 | trackingLoss:   0.015075 | used_time: 3591.265333\n"
     ]
    },
    {
     "name": "stderr",
     "output_type": "stream",
     "text": [
      "5011it [59:51,  1.40it/s]\n"
     ]
    },
    {
     "name": "stdout",
     "output_type": "stream",
     "text": [
      "[569/2000]\t Image Loss:   0.183244 | trackingLoss:   0.015072 | used_time: 3591.190351\n"
     ]
    },
    {
     "name": "stderr",
     "output_type": "stream",
     "text": [
      "5011it [59:58,  1.39it/s]\n"
     ]
    },
    {
     "name": "stdout",
     "output_type": "stream",
     "text": [
      "[570/2000]\t Image Loss:   0.183426 | trackingLoss:   0.015076 | used_time: 3598.949411\n"
     ]
    },
    {
     "name": "stderr",
     "output_type": "stream",
     "text": [
      "5011it [1:00:00,  1.39it/s]\n"
     ]
    },
    {
     "name": "stdout",
     "output_type": "stream",
     "text": [
      "[571/2000]\t Image Loss:   0.183414 | trackingLoss:   0.015075 | used_time: 3600.495324\n"
     ]
    },
    {
     "name": "stderr",
     "output_type": "stream",
     "text": [
      "5011it [59:59,  1.39it/s]\n"
     ]
    },
    {
     "name": "stdout",
     "output_type": "stream",
     "text": [
      "[572/2000]\t Image Loss:   0.183646 | trackingLoss:   0.015077 | used_time: 3599.782997\n"
     ]
    },
    {
     "name": "stderr",
     "output_type": "stream",
     "text": [
      "5011it [1:00:02,  1.39it/s]\n"
     ]
    },
    {
     "name": "stdout",
     "output_type": "stream",
     "text": [
      "[573/2000]\t Image Loss:   0.183151 | trackingLoss:   0.015077 | used_time: 3602.292515\n"
     ]
    },
    {
     "name": "stderr",
     "output_type": "stream",
     "text": [
      "5011it [59:57,  1.39it/s]\n"
     ]
    },
    {
     "name": "stdout",
     "output_type": "stream",
     "text": [
      "[574/2000]\t Image Loss:   0.183820 | trackingLoss:   0.015079 | used_time: 3597.627409\n"
     ]
    },
    {
     "name": "stderr",
     "output_type": "stream",
     "text": [
      "5011it [59:54,  1.39it/s]\n"
     ]
    },
    {
     "name": "stdout",
     "output_type": "stream",
     "text": [
      "[575/2000]\t Image Loss:   0.183534 | trackingLoss:   0.015077 | used_time: 3594.914685\n"
     ]
    },
    {
     "name": "stderr",
     "output_type": "stream",
     "text": [
      "5011it [59:47,  1.40it/s]\n"
     ]
    },
    {
     "name": "stdout",
     "output_type": "stream",
     "text": [
      "[576/2000]\t Image Loss:   0.183845 | trackingLoss:   0.015079 | used_time: 3587.191469\n"
     ]
    },
    {
     "name": "stderr",
     "output_type": "stream",
     "text": [
      "5011it [59:50,  1.40it/s]\n"
     ]
    },
    {
     "name": "stdout",
     "output_type": "stream",
     "text": [
      "[577/2000]\t Image Loss:   0.184170 | trackingLoss:   0.015077 | used_time: 3590.285438\n"
     ]
    },
    {
     "name": "stderr",
     "output_type": "stream",
     "text": [
      "5011it [59:53,  1.39it/s]\n"
     ]
    },
    {
     "name": "stdout",
     "output_type": "stream",
     "text": [
      "[578/2000]\t Image Loss:   0.183905 | trackingLoss:   0.015079 | used_time: 3594.100343\n"
     ]
    },
    {
     "name": "stderr",
     "output_type": "stream",
     "text": [
      "5011it [59:53,  1.39it/s]\n"
     ]
    },
    {
     "name": "stdout",
     "output_type": "stream",
     "text": [
      "[579/2000]\t Image Loss:   0.183066 | trackingLoss:   0.015073 | used_time: 3593.490527\n"
     ]
    },
    {
     "name": "stderr",
     "output_type": "stream",
     "text": [
      "5011it [59:55,  1.39it/s]\n"
     ]
    },
    {
     "name": "stdout",
     "output_type": "stream",
     "text": [
      "[580/2000]\t Image Loss:   0.182674 | trackingLoss:   0.015076 | used_time: 3595.356840\n"
     ]
    },
    {
     "name": "stderr",
     "output_type": "stream",
     "text": [
      "5011it [59:53,  1.39it/s]\n"
     ]
    },
    {
     "name": "stdout",
     "output_type": "stream",
     "text": [
      "[581/2000]\t Image Loss:   0.183230 | trackingLoss:   0.015078 | used_time: 3593.859346\n"
     ]
    },
    {
     "name": "stderr",
     "output_type": "stream",
     "text": [
      "5011it [59:52,  1.39it/s]\n"
     ]
    },
    {
     "name": "stdout",
     "output_type": "stream",
     "text": [
      "[582/2000]\t Image Loss:   0.182858 | trackingLoss:   0.015074 | used_time: 3592.238381\n"
     ]
    },
    {
     "name": "stderr",
     "output_type": "stream",
     "text": [
      "5011it [59:47,  1.40it/s]\n"
     ]
    },
    {
     "name": "stdout",
     "output_type": "stream",
     "text": [
      "[583/2000]\t Image Loss:   0.183159 | trackingLoss:   0.015077 | used_time: 3587.383001\n"
     ]
    },
    {
     "name": "stderr",
     "output_type": "stream",
     "text": [
      "5011it [59:47,  1.40it/s]\n"
     ]
    },
    {
     "name": "stdout",
     "output_type": "stream",
     "text": [
      "[584/2000]\t Image Loss:   0.183127 | trackingLoss:   0.015076 | used_time: 3587.236255\n"
     ]
    },
    {
     "name": "stderr",
     "output_type": "stream",
     "text": [
      "5011it [59:40,  1.40it/s]\n"
     ]
    },
    {
     "name": "stdout",
     "output_type": "stream",
     "text": [
      "[585/2000]\t Image Loss:   0.183501 | trackingLoss:   0.015079 | used_time: 3580.866888\n"
     ]
    },
    {
     "name": "stderr",
     "output_type": "stream",
     "text": [
      "5011it [59:43,  1.40it/s]\n"
     ]
    },
    {
     "name": "stdout",
     "output_type": "stream",
     "text": [
      "[586/2000]\t Image Loss:   0.182728 | trackingLoss:   0.015075 | used_time: 3583.940770\n"
     ]
    },
    {
     "name": "stderr",
     "output_type": "stream",
     "text": [
      "5011it [59:48,  1.40it/s]\n"
     ]
    },
    {
     "name": "stdout",
     "output_type": "stream",
     "text": [
      "[587/2000]\t Image Loss:   0.183328 | trackingLoss:   0.015075 | used_time: 3588.178720\n"
     ]
    },
    {
     "name": "stderr",
     "output_type": "stream",
     "text": [
      "5011it [59:56,  1.39it/s]\n"
     ]
    },
    {
     "name": "stdout",
     "output_type": "stream",
     "text": [
      "[588/2000]\t Image Loss:   0.183001 | trackingLoss:   0.015075 | used_time: 3597.008230\n"
     ]
    },
    {
     "name": "stderr",
     "output_type": "stream",
     "text": [
      "5011it [59:52,  1.39it/s]\n"
     ]
    },
    {
     "name": "stdout",
     "output_type": "stream",
     "text": [
      "[589/2000]\t Image Loss:   0.182180 | trackingLoss:   0.015072 | used_time: 3592.882254\n"
     ]
    },
    {
     "name": "stderr",
     "output_type": "stream",
     "text": [
      "5011it [59:50,  1.40it/s]\n"
     ]
    },
    {
     "name": "stdout",
     "output_type": "stream",
     "text": [
      "[590/2000]\t Image Loss:   0.182114 | trackingLoss:   0.015073 | used_time: 3590.591641\n"
     ]
    },
    {
     "name": "stderr",
     "output_type": "stream",
     "text": [
      "5011it [1:00:01,  1.39it/s]\n"
     ]
    },
    {
     "name": "stdout",
     "output_type": "stream",
     "text": [
      "[591/2000]\t Image Loss:   0.182012 | trackingLoss:   0.015075 | used_time: 3601.311784\n"
     ]
    },
    {
     "name": "stderr",
     "output_type": "stream",
     "text": [
      "5011it [1:00:07,  1.39it/s]\n"
     ]
    },
    {
     "name": "stdout",
     "output_type": "stream",
     "text": [
      "[592/2000]\t Image Loss:   0.183164 | trackingLoss:   0.015075 | used_time: 3607.616078\n"
     ]
    },
    {
     "name": "stderr",
     "output_type": "stream",
     "text": [
      "5011it [1:00:02,  1.39it/s]\n"
     ]
    },
    {
     "name": "stdout",
     "output_type": "stream",
     "text": [
      "[593/2000]\t Image Loss:   0.182822 | trackingLoss:   0.015077 | used_time: 3603.007714\n"
     ]
    },
    {
     "name": "stderr",
     "output_type": "stream",
     "text": [
      "5011it [59:57,  1.39it/s]\n"
     ]
    },
    {
     "name": "stdout",
     "output_type": "stream",
     "text": [
      "[594/2000]\t Image Loss:   0.182368 | trackingLoss:   0.015075 | used_time: 3598.067832\n"
     ]
    },
    {
     "name": "stderr",
     "output_type": "stream",
     "text": [
      "5011it [59:59,  1.39it/s]\n"
     ]
    },
    {
     "name": "stdout",
     "output_type": "stream",
     "text": [
      "[595/2000]\t Image Loss:   0.182582 | trackingLoss:   0.015078 | used_time: 3600.056289\n"
     ]
    },
    {
     "name": "stderr",
     "output_type": "stream",
     "text": [
      "5011it [59:56,  1.39it/s]\n"
     ]
    },
    {
     "name": "stdout",
     "output_type": "stream",
     "text": [
      "[596/2000]\t Image Loss:   0.181684 | trackingLoss:   0.015073 | used_time: 3596.567603\n"
     ]
    },
    {
     "name": "stderr",
     "output_type": "stream",
     "text": [
      "5011it [59:55,  1.39it/s]\n"
     ]
    },
    {
     "name": "stdout",
     "output_type": "stream",
     "text": [
      "[597/2000]\t Image Loss:   0.181826 | trackingLoss:   0.015077 | used_time: 3596.066048\n"
     ]
    },
    {
     "name": "stderr",
     "output_type": "stream",
     "text": [
      "5011it [59:56,  1.39it/s]\n"
     ]
    },
    {
     "name": "stdout",
     "output_type": "stream",
     "text": [
      "[598/2000]\t Image Loss:   0.181532 | trackingLoss:   0.015078 | used_time: 3596.557463\n"
     ]
    },
    {
     "name": "stderr",
     "output_type": "stream",
     "text": [
      "5011it [59:58,  1.39it/s]\n"
     ]
    },
    {
     "name": "stdout",
     "output_type": "stream",
     "text": [
      "[599/2000]\t Image Loss:   0.182792 | trackingLoss:   0.015075 | used_time: 3598.196409\n"
     ]
    },
    {
     "name": "stderr",
     "output_type": "stream",
     "text": [
      "5011it [59:59,  1.39it/s]\n"
     ]
    },
    {
     "name": "stdout",
     "output_type": "stream",
     "text": [
      "[600/2000]\t Image Loss:   0.182686 | trackingLoss:   0.015078 | used_time: 3599.546827\n"
     ]
    },
    {
     "name": "stderr",
     "output_type": "stream",
     "text": [
      "5011it [1:00:02,  1.39it/s]\n"
     ]
    },
    {
     "name": "stdout",
     "output_type": "stream",
     "text": [
      "[601/2000]\t Image Loss:   0.181665 | trackingLoss:   0.015073 | used_time: 3602.827769\n"
     ]
    },
    {
     "name": "stderr",
     "output_type": "stream",
     "text": [
      "5011it [59:59,  1.39it/s]\n"
     ]
    },
    {
     "name": "stdout",
     "output_type": "stream",
     "text": [
      "[602/2000]\t Image Loss:   0.182130 | trackingLoss:   0.015073 | used_time: 3600.110031\n"
     ]
    },
    {
     "name": "stderr",
     "output_type": "stream",
     "text": [
      "5011it [59:57,  1.39it/s]\n"
     ]
    },
    {
     "name": "stdout",
     "output_type": "stream",
     "text": [
      "[603/2000]\t Image Loss:   0.181921 | trackingLoss:   0.015077 | used_time: 3597.425967\n"
     ]
    },
    {
     "name": "stderr",
     "output_type": "stream",
     "text": [
      "5011it [59:58,  1.39it/s]\n"
     ]
    },
    {
     "name": "stdout",
     "output_type": "stream",
     "text": [
      "[604/2000]\t Image Loss:   0.181823 | trackingLoss:   0.015076 | used_time: 3598.759778\n"
     ]
    },
    {
     "name": "stderr",
     "output_type": "stream",
     "text": [
      "5011it [59:54,  1.39it/s]\n"
     ]
    },
    {
     "name": "stdout",
     "output_type": "stream",
     "text": [
      "[605/2000]\t Image Loss:   0.181671 | trackingLoss:   0.015077 | used_time: 3594.190365\n"
     ]
    },
    {
     "name": "stderr",
     "output_type": "stream",
     "text": [
      "5011it [59:52,  1.40it/s]\n"
     ]
    },
    {
     "name": "stdout",
     "output_type": "stream",
     "text": [
      "[606/2000]\t Image Loss:   0.181291 | trackingLoss:   0.015075 | used_time: 3592.158562\n"
     ]
    },
    {
     "name": "stderr",
     "output_type": "stream",
     "text": [
      "5011it [59:49,  1.40it/s]\n"
     ]
    },
    {
     "name": "stdout",
     "output_type": "stream",
     "text": [
      "[607/2000]\t Image Loss:   0.181339 | trackingLoss:   0.015078 | used_time: 3590.021786\n"
     ]
    },
    {
     "name": "stderr",
     "output_type": "stream",
     "text": [
      "5011it [59:52,  1.39it/s]\n"
     ]
    },
    {
     "name": "stdout",
     "output_type": "stream",
     "text": [
      "[608/2000]\t Image Loss:   0.181526 | trackingLoss:   0.015079 | used_time: 3592.676522\n"
     ]
    },
    {
     "name": "stderr",
     "output_type": "stream",
     "text": [
      "5011it [59:51,  1.40it/s]\n"
     ]
    },
    {
     "name": "stdout",
     "output_type": "stream",
     "text": [
      "[609/2000]\t Image Loss:   0.181951 | trackingLoss:   0.015082 | used_time: 3591.651064\n"
     ]
    },
    {
     "name": "stderr",
     "output_type": "stream",
     "text": [
      "5011it [59:54,  1.39it/s]\n"
     ]
    },
    {
     "name": "stdout",
     "output_type": "stream",
     "text": [
      "[610/2000]\t Image Loss:   0.183010 | trackingLoss:   0.015080 | used_time: 3594.691733\n"
     ]
    },
    {
     "name": "stderr",
     "output_type": "stream",
     "text": [
      "5011it [59:56,  1.39it/s]\n"
     ]
    },
    {
     "name": "stdout",
     "output_type": "stream",
     "text": [
      "[611/2000]\t Image Loss:   0.180679 | trackingLoss:   0.015077 | used_time: 3596.922053\n"
     ]
    },
    {
     "name": "stderr",
     "output_type": "stream",
     "text": [
      "5011it [59:58,  1.39it/s]\n"
     ]
    },
    {
     "name": "stdout",
     "output_type": "stream",
     "text": [
      "[612/2000]\t Image Loss:   0.180990 | trackingLoss:   0.015078 | used_time: 3598.784811\n"
     ]
    },
    {
     "name": "stderr",
     "output_type": "stream",
     "text": [
      "5011it [1:00:03,  1.39it/s]\n"
     ]
    },
    {
     "name": "stdout",
     "output_type": "stream",
     "text": [
      "[613/2000]\t Image Loss:   0.181049 | trackingLoss:   0.015074 | used_time: 3603.449525\n"
     ]
    },
    {
     "name": "stderr",
     "output_type": "stream",
     "text": [
      "5011it [59:59,  1.39it/s]\n"
     ]
    },
    {
     "name": "stdout",
     "output_type": "stream",
     "text": [
      "[614/2000]\t Image Loss:   0.181232 | trackingLoss:   0.015079 | used_time: 3599.455190\n"
     ]
    },
    {
     "name": "stderr",
     "output_type": "stream",
     "text": [
      "5011it [59:59,  1.39it/s]\n"
     ]
    },
    {
     "name": "stdout",
     "output_type": "stream",
     "text": [
      "[615/2000]\t Image Loss:   0.180606 | trackingLoss:   0.015075 | used_time: 3599.819387\n"
     ]
    },
    {
     "name": "stderr",
     "output_type": "stream",
     "text": [
      "2629it [31:27,  1.40it/s]"
     ]
    }
   ],
   "source": [
    "train()"
   ]
  },
  {
   "cell_type": "code",
   "execution_count": null,
   "metadata": {},
   "outputs": [],
   "source": []
  }
 ],
 "metadata": {
  "kernelspec": {
   "display_name": "Python 3",
   "language": "python",
   "name": "python3"
  },
  "language_info": {
   "codemirror_mode": {
    "name": "ipython",
    "version": 3
   },
   "file_extension": ".py",
   "mimetype": "text/x-python",
   "name": "python",
   "nbconvert_exporter": "python",
   "pygments_lexer": "ipython3",
   "version": "3.9.7"
  }
 },
 "nbformat": 4,
 "nbformat_minor": 2
}
