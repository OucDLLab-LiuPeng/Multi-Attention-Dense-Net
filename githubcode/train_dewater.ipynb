{
 "cells": [
  {
   "cell_type": "code",
   "execution_count": 1,
   "metadata": {},
   "outputs": [],
   "source": [
    "import SSD_"
   ]
  },
  {
   "cell_type": "code",
   "execution_count": 2,
   "metadata": {},
   "outputs": [
    {
     "name": "stdout",
     "output_type": "stream",
     "text": [
      "pass\n"
     ]
    }
   ],
   "source": [
    "print(\"pass\")"
   ]
  },
  {
   "cell_type": "code",
   "execution_count": 3,
   "metadata": {},
   "outputs": [],
   "source": [
    "# Trained From NewEMEnhanceWithTrans_1114_G_340\n",
    "# Trained From NewEMEnhanceWithTrans_1126_G_80\n",
    "import torch\n",
    "import torch.nn as nn\n",
    "import math\n",
    "import torch.nn.functional as F\n",
    "from torch.utils.checkpoint import checkpoint\n",
    "from torch.nn import init\n",
    "import functools\n",
    "from torch.optim import lr_scheduler\n",
    "\n",
    "# Actually we don't use Single Dense Layer in this model.\n",
    "class SingleDenseLayer(nn.Module):\n",
    "\tdef __init__(self, input_dim=3, growthRate=12):\n",
    "\t\tsuper(SingleDenseLayer, self).__init__()\n",
    "\t\tself.activation = nn.ELU(inplace=True)\n",
    "\t\tself.bn = nn.BatchNorm2d(num_features=input_dim)\n",
    "\t\tself.conv1 = nn.Conv2d(in_channels=input_dim,out_channels=growthRate,kernel_size=3,stride=1,padding=1,bias=False)\n",
    "\tdef forward(self, x):\n",
    "\t\toutput = self.conv1(self.activation(self.bn(x)))\n",
    "\t\toutput = torch.cat((x,output),1)\n",
    "\t\treturn output\n",
    "\n",
    "# Each Dense Block in our model is made of 5 Bottle Neck Layers.\n",
    "class BottleNeckLayer(nn.Module):\n",
    "\tdef __init__(self, input_dim=3, growthRate=12):\n",
    "\t\tsuper(BottleNeckLayer, self).__init__()\n",
    "\t\tself.activation = nn.ReLU(inplace=True)\n",
    "\t\t# self.activation = nn.ELU(inplace=True)\n",
    "\t\tself.bn = nn.BatchNorm2d(num_features=int(input_dim))\n",
    "\t\tself.conv1 = nn.Conv2d(in_channels=input_dim,out_channels=4*growthRate,kernel_size=1,stride=1,padding=0,bias=False)\n",
    "\t\tself.conv2 = nn.Conv2d(in_channels=4*growthRate,out_channels=growthRate,kernel_size=3,stride=1,padding=1,bias=False)\n",
    "\tdef forward(self, x):\n",
    "\t\toutput = self.conv1(self.activation(self.bn(x)))\n",
    "\t\toutput = self.conv2(output)\n",
    "\t\toutput = torch.cat((x,output),1)\n",
    "\t\treturn output\n",
    "\n",
    "# The Transition Layer connects 2 Dense block.\n",
    "class TransitionLayer(nn.Module):\n",
    "\tdef __init__(self, input_dim, output_dim, is_pool=False):\n",
    "\t\tsuper(TransitionLayer, self).__init__()\n",
    "\t\tself.activation = nn.ReLU(inplace=True)\n",
    "\t\tself.bn = nn.BatchNorm2d(num_features=input_dim)\n",
    "\t\tself.conv = nn.Conv2d(in_channels=input_dim,out_channels=output_dim,kernel_size=1,stride=1,padding=0,bias=False)\n",
    "\t\tself.pool = nn.AvgPool2d(kernel_size=2,stride=2)\n",
    "\t\tself.is_pool = is_pool\n",
    "\tdef forward(self, x):\n",
    "\t\tresult = self.conv(self.activation(self.bn(x)))\n",
    "\t\tif(self.is_pool):\n",
    "\t\t\tresult = self.pool(result)\n",
    "\t\treturn result\n",
    "\n",
    "class DenseBlock(nn.Module):\n",
    "\tdef __init__(self, input_dim=3, growthRate=12, num_dense_layers=5):\n",
    "\t\tsuper(DenseBlock, self).__init__()\n",
    "\t\t\n",
    "\t\tself.im = input_dim\n",
    "\t\tlayers = []\n",
    "\t\tfor i in range(num_dense_layers):\n",
    "\t\t\tlayers.append(BottleNeckLayer(input_dim+i*growthRate,growthRate))\n",
    "\t\tself.dense = nn.Sequential(*layers)\n",
    "\t\n",
    "\tdef forward(self, x):\n",
    "\t\treturn self.dense(x)\n",
    "\n",
    "# ****** Define Unet ******\n",
    "class DoubleConv(nn.Module):\n",
    "    \"\"\"(convolution => [BN] => ReLU) * 2\"\"\"\n",
    "\n",
    "    def __init__(self, in_channels, out_channels):\n",
    "        super(DoubleConv, self).__init__()\n",
    "        self.double_conv = nn.Sequential(\n",
    "            nn.Conv2d(in_channels, out_channels, kernel_size=3, padding=1),\n",
    "            nn.BatchNorm2d(out_channels),\n",
    "            nn.ReLU(inplace=True),\n",
    "            nn.Conv2d(out_channels, out_channels, kernel_size=3, padding=1),\n",
    "            nn.BatchNorm2d(out_channels),\n",
    "            nn.ReLU(inplace=True)\n",
    "        )\n",
    "\n",
    "    def forward(self, x):\n",
    "        return self.double_conv(x)\n",
    "\n",
    "\n",
    "class Down(nn.Module):\n",
    "    \"\"\"Downscaling with maxpool then double conv\"\"\"\n",
    "\n",
    "    def __init__(self, in_channels, out_channels):\n",
    "        super(Down, self).__init__()\n",
    "        self.maxpool_conv = nn.Sequential(\n",
    "            nn.MaxPool2d(2),\n",
    "            DoubleConv(in_channels, out_channels)\n",
    "        )\n",
    "\n",
    "    def forward(self, x):\n",
    "        return self.maxpool_conv(x)\n",
    "\n",
    "\n",
    "class Up(nn.Module):\n",
    "    \"\"\"Upscaling then double conv\"\"\"\n",
    "\n",
    "    def __init__(self, in_channels, out_channels, bilinear=True):\n",
    "        super(Up, self).__init__()\n",
    "\n",
    "        # if bilinear, use the normal convolutions to reduce the number of channels\n",
    "        if bilinear:\n",
    "            self.up = nn.Upsample(scale_factor=2, mode='bilinear', align_corners=True)\n",
    "        else:\n",
    "            self.up = nn.ConvTranspose2d(in_channels // 2, in_channels // 2, kernel_size=2, stride=2)\n",
    "\n",
    "        self.conv = DoubleConv(in_channels, out_channels)\n",
    "\n",
    "    def forward(self, x1, x2):\n",
    "        x1 = self.up(x1)\n",
    "        # input is CHW\n",
    "        diffY = torch.tensor([x2.size()[2] - x1.size()[2]])\n",
    "        diffX = torch.tensor([x2.size()[3] - x1.size()[3]])\n",
    "\n",
    "        x1 = F.pad(x1, [diffX // 2, diffX - diffX // 2,\n",
    "                        diffY // 2, diffY - diffY // 2])\n",
    "        x = torch.cat([x2, x1], dim=1)\n",
    "        return self.conv(x)\n",
    "\n",
    "\n",
    "class OutConv(nn.Module):\n",
    "    def __init__(self, in_channels, out_channels):\n",
    "        super(OutConv, self).__init__()\n",
    "        self.conv = nn.Conv2d(in_channels, out_channels, kernel_size=1)\n",
    "\n",
    "    def forward(self, x):\n",
    "        return self.conv(x)\n",
    "\t\t\n",
    "class UNet(nn.Module):\n",
    "    def __init__(self, n_channels, n_classes, bilinear=True):\n",
    "        super(UNet, self).__init__()\n",
    "        self.n_channels = n_channels\n",
    "        self.n_classes = n_classes\n",
    "        self.bilinear = bilinear\n",
    "\n",
    "        self.inc = DoubleConv(n_channels, 64)\n",
    "        self.down1 = Down(64, 128)\n",
    "        self.down2 = Down(128, 256)\n",
    "        self.down3 = Down(256, 512)\n",
    "        self.down4 = Down(512, 512)\n",
    "        self.up1 = Up(1024, 256, bilinear)\n",
    "        self.up2 = Up(512, 128, bilinear)\n",
    "        self.up3 = Up(256, 64, bilinear)\n",
    "        self.up4 = Up(128, 64, bilinear)\n",
    "        self.outc = OutConv(64, n_classes)\n",
    "\n",
    "    def forward(self, x):\n",
    "        x1 = self.inc(x)\n",
    "        x2 = self.down1(x1)\n",
    "        x3 = self.down2(x2)\n",
    "        x4 = self.down3(x3)\n",
    "        x5 = self.down4(x4)\n",
    "        x = self.up1(x5, x4)\n",
    "        x = self.up2(x, x3)\n",
    "        x = self.up3(x, x2)\n",
    "        x = self.up4(x, x1)\n",
    "        logits = self.outc(x)\n",
    "        return logits\n",
    "\n",
    "# ****** Define FCN-8 ******\n",
    "\n",
    "class FCN8(nn.Module):\n",
    "\n",
    "    def __init__(self, in_channel=3, numclass=3):\n",
    "        super(FCN8, self).__init__()\n",
    "        self.conv11 = nn.Conv2d(in_channels=in_channel, out_channels=64, kernel_size=3, padding=1)\n",
    "        self.conv12 = nn.Conv2d(in_channels=64, out_channels=64, kernel_size=3, padding=1)\n",
    "        self.pool1 = nn.MaxPool2d(kernel_size=2, stride=2)\n",
    "\n",
    "        self.conv21 = nn.Conv2d(in_channels=64, out_channels=128, kernel_size=3, padding=1)\n",
    "        self.conv22 = nn.Conv2d(in_channels=128, out_channels=128, kernel_size=3, padding=1)\n",
    "        self.pool2 = nn.MaxPool2d(kernel_size=2, stride=2)\n",
    "\n",
    "        self.conv31 = nn.Conv2d(in_channels=128, out_channels=256, kernel_size=3, padding=1)\n",
    "        self.conv32 = nn.Conv2d(in_channels=256, out_channels=256, kernel_size=3, padding=1)\n",
    "        self.conv33 = nn.Conv2d(in_channels=256, out_channels=256, kernel_size=3, padding=1)\n",
    "        self.pool3 = nn.MaxPool2d(kernel_size=2, stride=2)\n",
    "\n",
    "        self.conv41 = nn.Conv2d(in_channels=256, out_channels=512, kernel_size=3, padding=1)\n",
    "        self.conv42 = nn.Conv2d(in_channels=512, out_channels=512, kernel_size=3, padding=1)\n",
    "        self.conv43 = nn.Conv2d(in_channels=512, out_channels=512, kernel_size=3, padding=1)\n",
    "        self.pool4 = nn.MaxPool2d(kernel_size=2, stride=2, padding=1)\n",
    "\n",
    "        self.conv51 = nn.Conv2d(in_channels=512, out_channels=512, kernel_size=3, padding=1)\n",
    "        self.conv52 = nn.Conv2d(in_channels=512, out_channels=512, kernel_size=3, padding=1)\n",
    "        self.conv53 = nn.Conv2d(in_channels=512, out_channels=512, kernel_size=3, padding=1)\n",
    "        self.pool5 = nn.MaxPool2d(kernel_size=2, stride=2)\n",
    "\n",
    "        self.conv6 = nn.Conv2d(in_channels=512, out_channels=4096, kernel_size=7, padding=3)\n",
    "        self.dropout1 = nn.Dropout(0.85)\n",
    "\n",
    "        self.conv7 = nn.Conv2d(in_channels=4096, out_channels=4096, kernel_size=1)\n",
    "        self.dropout2 = nn.Dropout(0.85)\n",
    "\n",
    "        self.conv8 = nn.Conv2d(in_channels=4096, out_channels=numclass, kernel_size=1)\n",
    "\n",
    "        self.tranconv1 = nn.ConvTranspose2d(in_channels=numclass, out_channels=512, kernel_size=4, stride=2, padding=1)\n",
    "\n",
    "        self.tranconv2 = nn.ConvTranspose2d(in_channels=512, out_channels=256, kernel_size=4, stride=2, padding=2, output_padding=1)\n",
    "\n",
    "        self.tranconv3 = nn.ConvTranspose2d(in_channels=256, out_channels=numclass, kernel_size=16, stride=8, padding=4)\n",
    "\n",
    "    def forward(self, x):\n",
    "        x = self.conv12(self.conv11(x))\n",
    "        x = self.pool1(x)\n",
    "        x = self.pool2(self.conv22(self.conv21(x)))\n",
    "        x1 = self.pool3(self.conv33(self.conv32(self.conv31(x))))\n",
    "        x2 = self.pool4(self.conv43(self.conv42(self.conv41(x1))))\n",
    "        x = self.pool5(self.conv53(self.conv52(self.conv51(x2))))\n",
    "        x = self.dropout1(self.conv6(x))\n",
    "        x = self.dropout2(self.conv7(x))\n",
    "        x = self.conv8(x)\n",
    "        x = self.tranconv1(x)\n",
    "        x = x2 + x\n",
    "        x = self.tranconv2(x)\n",
    "        x = x1 + x\n",
    "        x = self.tranconv3(x)\n",
    "        return x\n",
    "\n",
    "\n",
    "class Downsample(nn.Module):\n",
    "\tdef __init__(self, in_channels, out_channels, scale):\n",
    "\t\tsuper(Downsample, self).__init__()\n",
    "\t\tlayers = []\n",
    "\t\tnum_channels = in_channels\n",
    "\t\tfor i in range(int(math.log(scale, 2))-1):\n",
    "\t\t\tlayers.append(Down(num_channels, num_channels*2))\n",
    "\t\t\tnum_channels = num_channels * 2\n",
    "\t\tlayers.append(Down(num_channels, out_channels))\n",
    "\t\tself.downsample = nn.Sequential(*layers)\n",
    "\t\t\n",
    "\n",
    "\tdef forward(self, x):\n",
    "\t\treturn self.downsample(x)\n",
    "class Upsample(nn.Module):\n",
    "\tdef __init__(self, in_channels, out_channels, scale):\n",
    "\t\tsuper(Upsample, self).__init__()\n",
    "\t\tlayers = []\n",
    "\t\tnum_channels = in_channels\n",
    "\t\tfor i in range(int(math.log(scale, 2))-1):\n",
    "\t\t\tlayers.append(nn.ConvTranspose2d(in_channels=num_channels, out_channels=num_channels//2, kernel_size=4, stride=2, padding=1))\n",
    "\t\t\tnum_channels = num_channels // 2\n",
    "\t\tlayers.append(nn.ConvTranspose2d(in_channels=num_channels, out_channels=out_channels, kernel_size=4, stride=2, padding=1))\n",
    "\t\tself.upsample = nn.Sequential(*layers)\n",
    "\t\t\n",
    "\n",
    "\tdef forward(self, x):\n",
    "\t\treturn self.upsample(x)\n",
    "\n",
    "class PALayer(nn.Module):\n",
    "    def __init__(self, channel):\n",
    "        super(PALayer, self).__init__()\n",
    "        self.activation = nn.ReLU(inplace=True)\n",
    "        self.sigmoid = nn.Sigmoid()\n",
    "        self.conv00 = nn.Conv2d(in_channels=channel, out_channels=channel, kernel_size=3, padding=1, bias=True)\n",
    "        self.conv01 = nn.Conv2d(in_channels=channel, out_channels=channel, kernel_size=3, padding=1, bias=True)\n",
    "\n",
    "        self.down1 = nn.MaxPool2d(2)\n",
    "        self.conv11 = nn.Conv2d(in_channels=channel, out_channels=channel, kernel_size=3, padding=1, bias=True)\n",
    "        self.up11 = Upsample(channel, channel, 2)\n",
    "        self.down2 = nn.MaxPool2d(2)\n",
    "        self.conv21 = nn.Conv2d(in_channels=channel, out_channels=channel, kernel_size=3, padding=1, bias=True)\n",
    "        self.up21 = Upsample(channel, channel, 4)\n",
    "        self.conv_out = nn.Conv2d(in_channels=3*channel, out_channels=channel, kernel_size=3, padding=1, bias=True)\n",
    "    def forward(self, x):\n",
    "        x00 = self.activation(self.conv00(x)) # 16\n",
    "        x01 = self.activation(self.conv01(x00)) # 16\n",
    "        x0_out = self.sigmoid(x01)\n",
    "        x0_out = x * x0_out\n",
    "        \n",
    "        x11 = self.down1(x00) # 16\n",
    "        x11 = self.activation(self.conv11(x11)) # 16\n",
    "        x1_out = self.up11(x11) # 16\n",
    "        x1_out = self.sigmoid(x1_out)\n",
    "        x1_out = x * x1_out\n",
    "        x21 = self.down2(x11) # 16\n",
    "        x21 = self.activation(self.conv21(x21)) # 16\n",
    "        x2_out = self.up21(x21) # 16\n",
    "        x2_out = self.sigmoid(x2_out)\n",
    "        x2_out = x * x2_out\n",
    "        y = torch.cat([x0_out, x1_out, x2_out], dim=1)\n",
    "        y = self.activation(self.conv_out(y)) # 16\n",
    "        return y\n",
    "\n",
    "class UniversalEstimator(nn.Module):\n",
    "    def __init__(self, n_channels, n_classes, bilinear, sigmoid):\n",
    "        super(UniversalEstimator, self).__init__()\n",
    "        if sigmoid:\n",
    "            self.estimate = nn.Sequential(\n",
    "                    UNet(n_channels=n_channels, n_classes=n_classes, bilinear=bilinear),\n",
    "                    PALayer(n_classes),\n",
    "                    nn.Sigmoid()\n",
    "            )\n",
    "        else:\n",
    "            self.estimate = nn.Sequential(\n",
    "                    Unet(n_channels=n_channels, n_classes=n_classes, bilinear=bilinear),\n",
    "                    PALayer(n_classes)\n",
    "            )\n",
    "\n",
    "    def forward(self, x):\n",
    "        y = self.estimate(x)\n",
    "        return y\n",
    "\n",
    "class CALayer(nn.Module):\n",
    "    def __init__(self, channel):\n",
    "        super(CALayer, self).__init__()\n",
    "        self.ca = nn.Sequential(\n",
    "                nn.AvgPool2d(16),\n",
    "                nn.Conv2d(channel, channel, kernel_size=3, padding=1, bias=True),\n",
    "                nn.ReLU(inplace=True)\n",
    "        )\n",
    "        self.avg_pool = nn.AdaptiveAvgPool2d(1)\n",
    "        self.sigmoid = nn.Sigmoid()\n",
    "\n",
    "    def forward(self, x):\n",
    "        y = self.ca(x)\n",
    "        y = self.avg_pool(y)\n",
    "        y = self.sigmoid(y)\n",
    "        return x * y\n",
    "\n",
    "# ****** Define Generator and Discriminator ******\n",
    "class AtmLightEstimator(nn.Module):\n",
    "\tdef __init__(self, in_channels, out_channels):\n",
    "\t\tsuper(AtmLightEstimator, self).__init__()\n",
    "\t\tself.conv = nn.Conv2d(in_channels=in_channels,out_channels=out_channels,kernel_size=3,stride=1,padding=1,bias=False)\n",
    "\t\tself.bn = nn.BatchNorm2d(num_features=in_channels)\n",
    "\t\tself.activation=nn.LeakyReLU(0.2, inplace=True)\n",
    "\t\tself.down1 = Downsample(out_channels, out_channels*2, 2)\n",
    "\t\tself.down2 = Downsample(out_channels*2, out_channels*4, 2)\n",
    "\t\tself.down3 = Downsample(out_channels*4, out_channels*8, 2)\n",
    "\t\tself.up1 = Upsample(out_channels*8, out_channels*4, 2)\n",
    "\t\tself.up2 = Upsample(out_channels*8, out_channels*4, 2)\n",
    "\t\tself.up3 = Upsample(out_channels*6, out_channels*3, 2)\n",
    "\t\tself.ca = CALayer(out_channels*3)\n",
    "\t\tself.pa = PALayer(out_channels*3)\n",
    "\t\tself.transition = TransitionLayer(out_channels*3, out_channels, False)\n",
    "\t\tself.bypass = TransitionLayer(out_channels, out_channels, False)\n",
    "\n",
    "\tdef forward(self, x):\n",
    "\t\tx = self.conv(self.activation(self.bn(x)))\n",
    "\t\tfeature2x = self.down1(x) # in_channels*2\n",
    "\t\tfeature4x = self.down2(feature2x) #in_channels*4\n",
    "\t\tfeature8x = self.down3(feature4x) #in_channels*8\n",
    "\t\toutput = self.up1(feature8x) #in_channels*4\n",
    "\t\toutput = self.up2(torch.cat((output, feature4x),1)) #in_channels*4\n",
    "\t\toutput = self.up3(torch.cat((output, feature2x),1))\n",
    "\t\tA = self.ca(output)\n",
    "\t\tA = self.pa(A)\n",
    "\t\tA = self.transition(A) + self.bypass(x)\n",
    "\t\t# shape_out1 = A.data.size()\n",
    "\t\t# shape_out = shape_out1[2:4]\n",
    "\t\t# \n",
    "\t\t# A = F.avg_pool2d(A, shape_out1[2])\n",
    "\t\t# A = self.upsample(self.activation(A),size=shape_out)\n",
    "\t\treturn A\n",
    "\t\t\n",
    "class dehaze_net(nn.Module):\n",
    "\n",
    "\tdef __init__(self, input_dim=3, growthRate=12, num_dense_layers=5,reduction=0.5):\n",
    "\t\tsuper(dehaze_net, self).__init__()\n",
    "\n",
    "\t\tself.t_estimator = nn.Sequential(\n",
    "                    UNet(n_channels=input_dim, n_classes=3, bilinear=False),\n",
    "                    nn.Sigmoid()\n",
    "            )\n",
    "\n",
    "\t\tself.A_estimator = nn.Sequential(\n",
    "                    UNet(n_channels=input_dim, n_classes=3, bilinear=False),\n",
    "                    nn.Sigmoid()\n",
    "            )\n",
    "\t\t\n",
    "\tdef forward(self, x, enable_A=1, true_A=0, enable_t=1, true_t=1):\n",
    "\t\t# if flag = 1, use true_A and abandon trained A.\n",
    "\t\tt = self.t_estimator(x)\n",
    "\t\tA = self.A_estimator(x)\n",
    "\n",
    "\t\tclean_image = (x-A)/t + A\n",
    "\t\t\n",
    "\t\treturn clean_image, t, A\n",
    "\n",
    "class enhance_net(nn.Module):\n",
    "\n",
    "    def __init__(self, input_dim=3, growthRate=12, num_dense_layers=5):\n",
    "        super(enhance_net, self).__init__()\n",
    "\n",
    "        num_channels = input_dim\n",
    "        self.conv1 = nn.Conv2d(num_channels, 20, 1, padding=0, bias=True)\n",
    "        self.conv2 = nn.Conv2d(20, 40, 1, padding=0, bias=True)\n",
    "        self.conv3 = nn.Conv2d(40, 60, 1, padding=0, bias=True)\n",
    "        self.EM1 = nn.Sequential(\n",
    "                    DenseBlock(60, growthRate, num_dense_layers),\n",
    "                    TransitionLayer(60+growthRate*num_dense_layers, 60),\n",
    "                    PALayer(60),\n",
    "                    CALayer(60)\n",
    "            )\n",
    "        self.EM2 = nn.Sequential(\n",
    "                    DenseBlock(60, growthRate, num_dense_layers),\n",
    "                    TransitionLayer(60+growthRate*num_dense_layers, 60),\n",
    "                    PALayer(60),\n",
    "                    CALayer(60)\n",
    "            )\n",
    "        self.EM3 = nn.Sequential(\n",
    "                    DenseBlock(60, growthRate, num_dense_layers),\n",
    "                    TransitionLayer(60+growthRate*num_dense_layers, 60),\n",
    "                    PALayer(60),\n",
    "                    CALayer(60)\n",
    "            )\n",
    "        self.EM4 = nn.Sequential(\n",
    "                    DenseBlock(60, growthRate, num_dense_layers),\n",
    "                    TransitionLayer(60+growthRate*num_dense_layers, 60),\n",
    "                    PALayer(60),\n",
    "                    CALayer(60)\n",
    "            )\n",
    "        self.EM5 = nn.Sequential(\n",
    "                    DenseBlock(60, growthRate, num_dense_layers),\n",
    "                    TransitionLayer(60+growthRate*num_dense_layers, 60),\n",
    "                    PALayer(60),\n",
    "                    CALayer(60)\n",
    "            )\n",
    "        self.EM6 = nn.Sequential(\n",
    "                    DenseBlock(60, growthRate, num_dense_layers),\n",
    "                    TransitionLayer(60+growthRate*num_dense_layers, 60),\n",
    "                    PALayer(60),\n",
    "                    CALayer(60)\n",
    "            )\n",
    "        self.conv4 = nn.Conv2d(60, 40, 1, padding=0, bias=True)\n",
    "        self.conv5 = nn.Conv2d(40, 20, 1, padding=0, bias=True)\n",
    "        self.conv6 = nn.Conv2d(20, num_channels, 1, padding=0, bias=True)\n",
    "        self.relu = nn.ReLU(inplace=True)\n",
    "\n",
    "    def forward(self, x):\n",
    "        output = self.relu(self.conv1(x))\n",
    "        output = self.relu(self.conv2(output))\n",
    "        output = self.relu(self.conv3(output))\n",
    "        \n",
    "        output = self.EM1(output)\n",
    "        output = self.EM2(output)\n",
    "        output = self.EM3(output)\n",
    "        output = self.EM4(output)\n",
    "        output = self.EM5(output)\n",
    "        output = self.EM6(output)\n",
    "        \n",
    "        output = self.relu(self.conv4(output))\n",
    "        output = self.relu(self.conv5(output))\n",
    "        output = self.relu(self.conv6(output))\n",
    "        return output\n",
    "        \n",
    "ndf = 64\n",
    "class Discriminator(nn.Module):\n",
    "    def __init__(self, input_nc=3, ndf=64, n_layers=3, norm_layer=nn.BatchNorm2d, use_sigmoid=True):\n",
    "        super(Discriminator, self).__init__()\n",
    "        if type(norm_layer) == functools.partial:\n",
    "            use_bias = norm_layer.func == nn.InstanceNorm2d\n",
    "        else:\n",
    "            use_bias = norm_layer == nn.InstanceNorm2d\n",
    "\n",
    "        kw = 4\n",
    "        padw = 1\n",
    "        sequence = [\n",
    "            nn.Conv2d(input_nc, ndf, kernel_size=kw, stride=2, padding=padw),\n",
    "            nn.LeakyReLU(0.2, True)\n",
    "        ]\n",
    "\n",
    "        nf_mult = 1\n",
    "        nf_mult_prev = 1\n",
    "        for n in range(1, n_layers):\n",
    "            nf_mult_prev = nf_mult\n",
    "            nf_mult = min(2**n, 8)\n",
    "            sequence += [\n",
    "                nn.Conv2d(ndf * nf_mult_prev, ndf * nf_mult,\n",
    "                          kernel_size=kw, stride=2, padding=padw, bias=use_bias),\n",
    "                norm_layer(ndf * nf_mult),\n",
    "                nn.LeakyReLU(0.2, True)]\n",
    "        nf_mult_prev = nf_mult\n",
    "        nf_mult = min(2**n_layers, 8)\n",
    "        sequence += [\n",
    "            nn.Conv2d(ndf * nf_mult_prev, ndf * nf_mult,\n",
    "                      kernel_size=kw, stride=1, padding=padw, bias=use_bias),\n",
    "            norm_layer(ndf * nf_mult),\n",
    "            nn.LeakyReLU(0.2, True)\n",
    "        ]\n",
    "\n",
    "        sequence += [nn.Conv2d(ndf * nf_mult, 1, kernel_size=kw, stride=1, padding=padw)]\n",
    "\n",
    "        if use_sigmoid:\n",
    "            sequence += [nn.Sigmoid()]\n",
    "\n",
    "        self.model = nn.Sequential(*sequence)\n",
    "\n",
    "    def forward(self, input):\n",
    "        return self.model(input)\n",
    "\n",
    "\n",
    "\n",
    "\n",
    "\n"
   ]
  },
  {
   "cell_type": "code",
   "execution_count": 4,
   "metadata": {},
   "outputs": [],
   "source": [
    "import torch\n",
    "import torch.nn.functional as F\n",
    "from torch.autograd import Variable\n",
    "import numpy as np\n",
    "from math import exp\n",
    "from PIL import Image\n",
    "import cv2\n",
    "import os\n",
    "import json\n",
    "import math\n",
    "\n",
    "def gaussian(window_size, sigma):\n",
    "    gauss = torch.Tensor([math.exp(-(x - window_size // 2) ** 2 / float(2 * sigma ** 2)) for x in range(window_size)])\n",
    "    return gauss / gauss.sum()\n",
    "\n",
    "\n",
    "def create_window(window_size, channel):\n",
    "    _1D_window = gaussian(window_size, 1.5).unsqueeze(1)\n",
    "    _2D_window = _1D_window.mm(_1D_window.t()).float().unsqueeze(0).unsqueeze(0)\n",
    "    window = Variable(_2D_window.expand(channel, 1, window_size, window_size).contiguous())\n",
    "    return window\n",
    "\n",
    "\n",
    "def _ssim(img1, img2, window, window_size, channel, size_average=True):\n",
    "    mu1 = F.conv2d(img1, window, padding=window_size // 2, groups=channel)\n",
    "    mu2 = F.conv2d(img2, window, padding=window_size // 2, groups=channel)\n",
    "\n",
    "    mu1_sq = mu1.pow(2)\n",
    "    mu2_sq = mu2.pow(2)\n",
    "    mu1_mu2 = mu1 * mu2\n",
    "\n",
    "    sigma1_sq = F.conv2d(img1 * img1, window, padding=window_size // 2, groups=channel) - mu1_sq\n",
    "    sigma2_sq = F.conv2d(img2 * img2, window, padding=window_size // 2, groups=channel) - mu2_sq\n",
    "    sigma12 = F.conv2d(img1 * img2, window, padding=window_size // 2, groups=channel) - mu1_mu2\n",
    "\n",
    "    C1 = 0.01 ** 2\n",
    "    C2 = 0.03 ** 2\n",
    "\n",
    "    ssim_map = ((2 * mu1_mu2 + C1) * (2 * sigma12 + C2)) / ((mu1_sq + mu2_sq + C1) * (sigma1_sq + sigma2_sq + C2))\n",
    "\n",
    "    if size_average:\n",
    "        return ssim_map.mean()\n",
    "    else:\n",
    "        return ssim_map.mean(1).mean(1).mean(1)\n",
    "\n",
    "\n",
    "class SSIM(torch.nn.Module):\n",
    "    def __init__(self, window_size=11, size_average=True):\n",
    "        super(SSIM, self).__init__()\n",
    "        self.window_size = window_size\n",
    "        self.size_average = size_average\n",
    "        self.channel = 1\n",
    "        self.window = create_window(window_size, self.channel)\n",
    "\n",
    "    def forward(self, img1, img2):\n",
    "        (_, channel, _, _) = img1.size()\n",
    "\n",
    "        if channel == self.channel and self.window.data.type() == img1.data.type():\n",
    "            window = self.window\n",
    "        else:\n",
    "            window = create_window(self.window_size, channel)\n",
    "\n",
    "            if img1.is_cuda:\n",
    "                window = window.cuda(img1.get_device())\n",
    "            window = window.type_as(img1)\n",
    "\n",
    "            self.window = window\n",
    "            self.channel = channel\n",
    "\n",
    "        return _ssim(img1, img2, window, self.window_size, channel, self.size_average)\n",
    "\n",
    "\n",
    "def ssim(img1, img2, window_size=11, size_average=True):\n",
    "    img1 = correctsize(img1)\n",
    "    img2 = correctsize(img2)\n",
    "    img1 = Variable(img1)\n",
    "    img2 = Variable(img2)\n",
    "    (_, channel, _, _) = img1.size()\n",
    "    window = create_window(window_size, channel)\n",
    "\n",
    "    if img1.is_cuda:\n",
    "        window = window.cuda(img1.get_device())\n",
    "    window = window.type_as(img1)\n",
    "\n",
    "    return _ssim(img1, img2, window, window_size, channel, size_average)\n",
    "\n",
    "def correctsize(img):\n",
    "    im = torch.from_numpy(img).float().permute(2,0,1).unsqueeze(0)\n",
    "    return im"
   ]
  },
  {
   "cell_type": "code",
   "execution_count": null,
   "metadata": {},
   "outputs": [],
   "source": [
    "orig_images_path=\"data/images/\"\n",
    "hazy_images_path=\"data/data/\"\n",
    "lr=0.0001\n",
    "weight_decay=0.0001\n",
    "grad_clip_norm=0.1\n",
    "num_epochs=2000\n",
    "train_batch_size=1\n",
    "val_batch_size=8\n",
    "num_workers=4\n",
    "display_iter=10\n",
    "snapshot_iter=200\n",
    "snapshots_folder=\"snapshots/\"\n",
    "sample_output_folder=\"samples/\""
   ]
  },
  {
   "cell_type": "code",
   "execution_count": null,
   "metadata": {},
   "outputs": [],
   "source": [
    "import os\n",
    "import sys\n",
    "\n",
    "import torch\n",
    "import torch.utils.data as data\n",
    "\n",
    "import numpy as np\n",
    "from PIL import Image\n",
    "import glob\n",
    "import random\n",
    "import cv2\n",
    "import math\n",
    "\n",
    "random.seed(1143)\n",
    "\n",
    "\n",
    "def DarkChannel(im, sz=15):\n",
    "    b, g, r = cv2.split(im)\n",
    "    dc = cv2.min(cv2.min(r, g), b)\n",
    "    kernel = cv2.getStructuringElement(cv2.MORPH_RECT, (sz, sz))\n",
    "    dark = cv2.erode(dc, kernel)\n",
    "    return dark\n",
    "def AtmLight(im, dark):\n",
    "    [h, w] = im.shape[:2]\n",
    "    imsz = h * w\n",
    "    numpx = int(max(math.floor(imsz / 1000), 1))\n",
    "    darkvec = dark.reshape(imsz, 1)\n",
    "    imvec = im.reshape(imsz, 3)\n",
    "\n",
    "    indices = darkvec.argsort()\n",
    "    indices = indices[imsz - numpx::]\n",
    "\n",
    "    atmsum = np.zeros([1, 3])\n",
    "    for ind in range(1, numpx):\n",
    "        atmsum = atmsum + imvec[indices[ind]]\n",
    "\n",
    "    A = atmsum / numpx\n",
    "    return A\n",
    "\n",
    "def get_params(origin_img, hazy_img):\n",
    "    J = origin_img.astype('float64') / 255\n",
    "    I = hazy_img.astype('float64') / 255\n",
    "    dc = DarkChannel(I)\n",
    "    A = AtmLight(I, dc)\n",
    "    t = (I - A[0]) / (J - A[0])\n",
    "    return t, A.mean()\n",
    "\n",
    "def populate_train_list_NYU2():\n",
    "\n",
    "\n",
    "\thazy_list = tuple([\"NYU2_water/haze/\"+ i for i in os.listdir(\"NYU2_water/haze/\")])\n",
    "\tclean_list = tuple([\"NYU2/images/\"+ i for i in os.listdir(\"NYU2/images/\")])\n",
    "\tpopulated_list = []\n",
    "\tfor i in range(1449):\n",
    "\t\tindex = str(i)\n",
    "\t\tfor j in range(4):\n",
    "\t\t\tpair = [\"NYU2/images/\"+str(i)+\".jpg\", \"NYU2_water/haze/\"+str(i)+\"_\"+str(j)+\".png\", \"NYU2_water/A/\"+str(i)+\"_\"+str(j)+\".npy\", \"NYU2_water/transmission/\"+str(i)+\"_\"+str(j)+\".npy\"]\n",
    "\t\t\tpopulated_list.append(pair)\n",
    "\n",
    "\trandom.shuffle(populated_list)\n",
    "\n",
    "\treturn populated_list\n",
    "\n",
    "def populate_train_list_CycleGAN():\n",
    "\n",
    "\n",
    "\thazy_list = tuple([\"dataset_water2/\"+ i for i in os.listdir(\"dataset_water2/\") if \"fake\" in i])\n",
    "\tclean_list = tuple([\"dataset_water2/\"+ i for i in os.listdir(\"dataset_water2/\") if \"real\" in i])\n",
    "\tpopulated_list = []\n",
    "\tfor i in range(len(hazy_list)):\n",
    "\t\tfor j in range(len(clean_list)):\n",
    "\t\t\tif hazy_list[i].split(\"_\")[1]==clean_list[j].split(\"_\")[1]:\n",
    "\t\t\t\tpopulated_list.append([clean_list[j], hazy_list[i], 0, 0])\n",
    "\t\t\t\tbreak\n",
    "\n",
    "\n",
    "\trandom.shuffle(populated_list)\n",
    "\n",
    "\treturn populated_list\n",
    "\n",
    "\t\n",
    "def populate_train_list(orig_images_path, hazy_images_path):\n",
    "    nyu_list = populate_train_list_NYU2()\n",
    "    cyclegan_list = populate_train_list_CycleGAN()\n",
    "    l = []\n",
    "    p = 0\n",
    "    q = 0\n",
    "    for i in range(min(len(nyu_list), len(cyclegan_list))):\n",
    "        if i % 4 ==0 or i % 4 ==1:\n",
    "            l.append(cyclegan_list[p])\n",
    "            p+=1\n",
    "        else:\n",
    "            l.append(nyu_list[q])\n",
    "            q+=1\n",
    "    return l\n",
    "\n",
    "class dehazing_loader(data.Dataset):\n",
    "\n",
    "\tdef __init__(self, orig_images_path, hazy_images_path, mode='train'):\n",
    "\n",
    "\t\tself.data_list = populate_train_list_CycleGAN()\n",
    "\n",
    "\t\t\n",
    "\n",
    "\tdef __getitem__(self, index):\n",
    "\t\tnetSize = 256\n",
    "        \n",
    "\t\tdata_orig_path, data_hazy_path, data_A_path, data_t_path = self.data_list[index]\n",
    "\n",
    "\t\tdata_orig = Image.open(data_orig_path)\n",
    "\t\tdata_hazy = Image.open(data_hazy_path)\n",
    "\t\t# est_t, est_A = get_params(np.asarray(data_orig), np.asarray(data_hazy))\n",
    "\t\t# derived = get_params(np.asarray(data_orig), np.asarray(data_hazy))\n",
    "\t\t# K = Image.fromarray(np.uint8(255*derived[0]))\n",
    "\t\t# b = Image.fromarray(np.uint8(255*derived[1]))\n",
    "\t\t# dc = DarkChannel(np.asarray(data_orig.astype('float64') / 255))\n",
    "\n",
    "\t\tdata_orig = data_orig.resize((netSize,netSize), Image.ANTIALIAS)\n",
    "\t\tdata_hazy = data_hazy.resize((netSize,netSize), Image.ANTIALIAS)\n",
    "\n",
    "\t\t# dc = dc.resize((480,640), Image.ANTIALIAS)\n",
    "\t\t# K = K.resize((480,640), Image.ANTIALIAS)\n",
    "\t\t# b = b.resize((480,640), Image.ANTIALIAS)\n",
    "\n",
    "\t\tdata_orig = (np.asarray(data_orig)/255.0)\n",
    "\t\tdata_hazy = (np.asarray(data_hazy)/255.0)\n",
    "\t\t# dc = (np.asarray(dc)/255.0) \n",
    "\t\t# K = (np.asarray(K)/255.0) \n",
    "\t\t# b = (np.asarray(data_hazy)/255.0)\n",
    "\t\t# test = K*data_hazy+b\n",
    "\t\t# if index == 0:\n",
    "\t\t# \tcv2.imshow(\"clear\",test)\n",
    "\t\t# \tcv2.waitKey()\n",
    "\n",
    "\t\tdata_orig = torch.from_numpy(data_orig).float()\n",
    "\t\tdata_hazy = torch.from_numpy(data_hazy).float()\n",
    "        \n",
    "\t\tdata_A = torch.ones(1).float()\n",
    "\t\tdata_t = torch.ones(1).float()\n",
    "        \n",
    "\t\tif data_A_path!=0:\n",
    "\t\t\tdata_A1 = np.load(data_A_path)\n",
    "\t\t\tb, g, r = cv2.split(data_A1)\n",
    "\t\t\tdata_A = cv2.merge([r, g, b])\n",
    "\t\t\tdata_A = cv2.resize(data_A, (netSize, netSize))\n",
    "\t\t\tdata_A = torch.from_numpy(data_A).float().permute(2,0,1)\n",
    "\t\t\tdata_t = np.load(data_t_path)\n",
    "\t\t\tb, g, r = cv2.split(data_t)\n",
    "\t\t\tdata_t = cv2.merge([r, g, b])\n",
    "\t\t\tdata_t = cv2.resize(data_t, (netSize, netSize))\n",
    "\t\t\tdata_t = torch.from_numpy(data_t).float().permute(2,0,1)\n",
    "\t\telse:\n",
    "\t\t\tdata_A = torch.Tensor([1.0]).float()\n",
    "\t\t# dc = torch.from_numpy(dc).float()\n",
    "\t\t# K = torch.from_numpy(K).float()\n",
    "\t\t# b = torch.from_numpy(b).float()\n",
    "\n",
    "\t\treturn data_orig.permute(2,0,1), data_hazy.permute(2,0,1), data_t, data_A\n",
    "\n",
    "\tdef __len__(self):\n",
    "\t\treturn len(self.data_list)"
   ]
  },
  {
   "cell_type": "code",
   "execution_count": null,
   "metadata": {},
   "outputs": [],
   "source": [
    "import torch\n",
    "import torch.nn as nn\n",
    "import torchvision\n",
    "import torch.backends.cudnn as cudnn\n",
    "import torch.optim\n",
    "import torch.nn.functional as F\n",
    "import os\n",
    "import sys\n",
    "import argparse\n",
    "import time\n",
    "import numpy as np\n",
    "import cv2\n",
    "from torchvision import transforms\n",
    "import matplotlib.pyplot as plt\n",
    "import torchvision.utils as vutils\n",
    "from visdom import Visdom\n",
    "\n",
    "from torch.autograd import Variable\n",
    "import torch.nn.functional as F\n",
    "import json\n",
    "import time\n",
    "\n",
    "import ipdb\n",
    "import matplotlib\n",
    "from tqdm import tqdm\n",
    "from torch.utils import data as data_\n",
    "from PIL import Image\n",
    "\n",
    "model_name = \"MSEMSSDTracking6BlocksDeWater_Asynchrony_20210306\"\n",
    "\n",
    "one = torch.FloatTensor([1])\n",
    "zero = torch.FloatTensor([0])\n",
    "mone = one * -1\n",
    "beta1 = 0.5\n",
    "\n",
    "lambdaGAN = 0.35\n",
    "device=torch.device(\"cuda:2\")\n",
    "\n",
    "def weights_init(m):\n",
    "    classname = m.__class__.__name__\n",
    "    if classname.find('Conv') != -1:\n",
    "        m.weight.data.normal_(0.0, 0.02)\n",
    "    elif classname.find('BatchNorm') != -1:\n",
    "        m.weight.data.normal_(1.0, 0.02)\n",
    "        m.bias.data.fill_(0)\n",
    "\n",
    "def tensor_to_img(tensor):\n",
    "    # img = np.asarray(torchvision.transforms.ToPILImage()(tensor))\n",
    "    # print(tensor.shape)\n",
    "    img = tensor.cpu().detach().numpy().transpose((1, 2, 0))\n",
    "    return img\n",
    "\n",
    "def img_to_Tensor(img):\n",
    "    assert type(img) == np.ndarray,'the img type is {}, but ndarry expected'.format(type(img))\n",
    "    img = cv2.cvtColor(img, cv2.COLOR_BGR2RGB)\n",
    "    img = torch.from_numpy(img.transpose((2, 0, 1)))\n",
    "    return img.float().div(255).unsqueeze(0)\n",
    "\t\n",
    "def get_x_gradient(tensor):\n",
    "    img = tensor_to_img(tensor)\n",
    "    gradient = cv2.Sobel(img,cv2.CV_64F,1,0,ksize=-1)\n",
    "    return img_to_Tensor(gradient)\n",
    "\t\n",
    "def get_y_gradient(tensor):\n",
    "    img = tensor_to_img(tensor)\n",
    "    gradient = cv2.Sobel(img,cv2.CV_64F,0,1,ksize=-1)\n",
    "    return img_to_Tensor(gradient)\n",
    "\n",
    "def nmz(tensor):\n",
    "    shape = tensor.shape[2:]\n",
    "    r_mean = torch.randn(shape)\n",
    "    r_mean = r_mean.fill_(0.485).unsqueeze(0).to(device)\n",
    "    g_mean = torch.randn(shape)\n",
    "    g_mean = g_mean.fill_(0.456).unsqueeze(0).to(device)\n",
    "    b_mean = torch.randn(shape)\n",
    "    b_mean = b_mean.fill_(0.406).unsqueeze(0).to(device)\n",
    "    rgb_mean=torch.cat([r_mean, g_mean, b_mean], 0)\n",
    "    r_std = torch.randn(shape)\n",
    "    r_std = r_std.fill_(0.229).unsqueeze(0).to(device)\n",
    "    g_std = torch.randn(shape)\n",
    "    g_std = g_std.fill_(0.224).unsqueeze(0).to(device)\n",
    "    b_std = torch.randn(shape)\n",
    "    b_std = b_std.fill_(0.225).unsqueeze(0).to(device)\n",
    "    rgb_std=torch.cat([r_std, g_std, b_std], 0).unsqueeze(0)\n",
    "    tensor = (tensor-rgb_mean) / rgb_std\n",
    "    return tensor\n",
    "\n",
    "\n",
    "def train():\n",
    "    # Define Faster RCNN Constant\n",
    "    SSD_.device=device\n",
    "    dataset = SSD_.VOCDetection(\"VOCdevkit\", [('2007', 'trainval')], SSD_.SSDAugmentation(300, (104, 117, 123)), SSD_.VOCAnnotationTransform())\n",
    "    dataloader = data_.DataLoader(dataset, \\\n",
    "                                  batch_size=1, \\\n",
    "                                  shuffle=True, \\\n",
    "                                  # pin_memory=True,\n",
    "                                  num_workers=4)\n",
    "    SSD_net = SSD_.build_ssd('train', 300, 21)\n",
    "    SSD_net = SSD_net.to(device)\n",
    "    SSD_net.load_state_dict(torch.load(\"SSD/ssd300_mAP_77.43_v2.pth\"))\n",
    "    best_map = 0\n",
    "\n",
    "    for p in SSD_net.parameters():\n",
    "        p.requires_grad = False\n",
    "    \n",
    "    # Define Enhance Net Constant\n",
    "    criterionMSE = nn.MSELoss()\n",
    "    criterionSSIM = SSIM()\n",
    "    criterionTracking = SSD_.MultiBoxLoss(21, 0.5, True, True, 3, 0.5, False, True)\n",
    "    gamma = 0.001\n",
    "    \n",
    "    netEnhance = enhance_net()\n",
    "    netEnhance = netEnhance.to(device)\n",
    "    netEnhance.load_state_dict(torch.load('snapshots/MSEMSSDTracking6BlocksDeWater_Asynchrony_20210306_G_240.pth'))\n",
    "\n",
    "    iteration_length = len(dataloader)\n",
    "    optimizer_G = torch.optim.Adam(netEnhance.parameters(), lr=lr, betas=(beta1, 0.999))\n",
    "    scheduler = lr_scheduler.CosineAnnealingLR(optimizer_G, 50)\n",
    "    \n",
    "    img_losses = []\n",
    "    tracking_losses = []\n",
    "    with open(model_name+'_img_loss.txt', 'r') as f:\n",
    "        img_losses = json.loads(f.read())[:241]\n",
    "    with open(model_name+'_tracking_loss.txt', 'r') as f:\n",
    "        tracking_losses = json.loads(f.read())[:241]\n",
    "    \n",
    "    \n",
    "\n",
    "    for epoch in range(241, num_epochs+1):\n",
    "        # For each batch in the dataloader\n",
    "        img_avg_loss = 0\n",
    "        tracking_avg_loss = 0\n",
    "        start_time = time.time()\n",
    "        for iteration, (img_orig, img_haze, targets) in tqdm(enumerate(dataloader)):\n",
    "\n",
    "            img_orig = img_orig.to(device)\n",
    "            img_haze = img_haze.to(device)\n",
    "            \n",
    "            for flag in range(2):\n",
    "                if flag ==0:\n",
    "                    netEnhance.zero_grad()\n",
    "                    enhanced = netEnhance(img_haze)\n",
    "                    ssd_input = SSD_.ToSSDInput(enhanced)\n",
    "                    ssd_output = SSD_net(enhanced)\n",
    "                    img_loss = criterionMSE(enhanced, img_orig)\n",
    "                    loss_l, loss_c = criterionTracking(ssd_output, targets)\n",
    "                    tracking_loss = gamma * (loss_l + loss_c)\n",
    "                    tracking_avg_loss += tracking_loss.item() / iteration_length\n",
    "                    tracking_loss.backward()\n",
    "                    optimizer_G.step()\n",
    "                else:\n",
    "                    netEnhance.zero_grad()\n",
    "                    enhanced = netEnhance(img_haze)\n",
    "                    img_loss = 1 - criterionSSIM(enhanced, img_orig)\n",
    "                    img_avg_loss += img_loss.item() / iteration_length\n",
    "            \n",
    "                    img_loss.backward()\n",
    "\n",
    "                    optimizer_G.step()\n",
    "                    \n",
    "            \n",
    "        end_time = time.time()\n",
    "        used_time = end_time - start_time\n",
    "        print('[%d/%d]\\t Image Loss: %10f | trackingLoss: %10f | used_time: %10f'\n",
    "            % (epoch, num_epochs, img_avg_loss, tracking_avg_loss, used_time))\n",
    "        img_losses.append(img_avg_loss)\n",
    "        tracking_losses.append(tracking_avg_loss)\n",
    "        if(epoch%20==0):\n",
    "            torch.save(netEnhance.state_dict(), snapshots_folder + model_name + \"_G_\"+str(epoch)+\".pth\")\n",
    "        with open(model_name+'_img_loss.txt', 'w') as f:\n",
    "            f.write(json.dumps(img_losses))\n",
    "            plt.cla()\n",
    "            plt.plot(list(range(len(img_losses))), img_losses, label=\"blue\", color=\"#ff0000\")\n",
    "            plt.savefig(model_name + '_img_loss' + '.png')\n",
    "        with open(model_name+'_tracking_loss.txt', 'w') as f:\n",
    "            f.write(json.dumps(tracking_losses))\n",
    "            plt.cla()\n",
    "            plt.plot(list(range(len(tracking_losses))), tracking_losses, label=\"blue\", color=\"#ff0000\")\n",
    "            plt.savefig(model_name + '_tracking_loss' + '.png')\n",
    "\n",
    "\n",
    "\n",
    "\n",
    "\n",
    "\n",
    "\n",
    "\n",
    "\n",
    "\n",
    "\n",
    "\n",
    "\n",
    "\n",
    "\n",
    "\n",
    "\t"
   ]
  },
  {
   "cell_type": "markdown",
   "metadata": {},
   "source": [
    "train()"
   ]
  },
  {
   "cell_type": "code",
   "execution_count": null,
   "metadata": {
    "scrolled": true
   },
   "outputs": [
    {
     "name": "stderr",
     "output_type": "stream",
     "text": [
      "0it [00:00, ?it/s]/usr/local/lib/python3.5/dist-packages/torch/nn/_reduction.py:43: UserWarning: size_average and reduce args will be deprecated, please use reduction='sum' instead.\n",
      "  warnings.warn(warning.format(ret))\n",
      "5011it [1:03:17,  1.32it/s]\n"
     ]
    },
    {
     "name": "stdout",
     "output_type": "stream",
     "text": [
      "[241/2000]\t Image Loss:   0.091097 | trackingLoss:   0.014891 | used_time: 3797.283684\n"
     ]
    },
    {
     "name": "stderr",
     "output_type": "stream",
     "text": [
      "5011it [1:03:28,  1.32it/s]\n"
     ]
    },
    {
     "name": "stdout",
     "output_type": "stream",
     "text": [
      "[242/2000]\t Image Loss:   0.091320 | trackingLoss:   0.014892 | used_time: 3808.690164\n"
     ]
    },
    {
     "name": "stderr",
     "output_type": "stream",
     "text": [
      "5011it [1:03:27,  1.32it/s]\n"
     ]
    },
    {
     "name": "stdout",
     "output_type": "stream",
     "text": [
      "[243/2000]\t Image Loss:   0.091322 | trackingLoss:   0.014893 | used_time: 3807.176693\n"
     ]
    },
    {
     "name": "stderr",
     "output_type": "stream",
     "text": [
      "5011it [1:03:30,  1.31it/s]\n"
     ]
    },
    {
     "name": "stdout",
     "output_type": "stream",
     "text": [
      "[244/2000]\t Image Loss:   0.091157 | trackingLoss:   0.014890 | used_time: 3811.077587\n"
     ]
    },
    {
     "name": "stderr",
     "output_type": "stream",
     "text": [
      "5011it [1:03:44,  1.31it/s]\n"
     ]
    },
    {
     "name": "stdout",
     "output_type": "stream",
     "text": [
      "[245/2000]\t Image Loss:   0.091239 | trackingLoss:   0.014890 | used_time: 3824.327872\n"
     ]
    },
    {
     "name": "stderr",
     "output_type": "stream",
     "text": [
      "5011it [1:03:45,  1.31it/s]\n"
     ]
    },
    {
     "name": "stdout",
     "output_type": "stream",
     "text": [
      "[246/2000]\t Image Loss:   0.091192 | trackingLoss:   0.014891 | used_time: 3825.858387\n"
     ]
    },
    {
     "name": "stderr",
     "output_type": "stream",
     "text": [
      "5011it [1:03:46,  1.31it/s]\n"
     ]
    },
    {
     "name": "stdout",
     "output_type": "stream",
     "text": [
      "[247/2000]\t Image Loss:   0.091229 | trackingLoss:   0.014892 | used_time: 3826.710496\n"
     ]
    },
    {
     "name": "stderr",
     "output_type": "stream",
     "text": [
      "5011it [1:03:47,  1.31it/s]\n"
     ]
    },
    {
     "name": "stdout",
     "output_type": "stream",
     "text": [
      "[248/2000]\t Image Loss:   0.091109 | trackingLoss:   0.014892 | used_time: 3827.588666\n"
     ]
    },
    {
     "name": "stderr",
     "output_type": "stream",
     "text": [
      "5011it [1:03:45,  1.31it/s]\n"
     ]
    },
    {
     "name": "stdout",
     "output_type": "stream",
     "text": [
      "[249/2000]\t Image Loss:   0.091427 | trackingLoss:   0.014892 | used_time: 3825.375843\n"
     ]
    },
    {
     "name": "stderr",
     "output_type": "stream",
     "text": [
      "5011it [1:03:44,  1.31it/s]\n"
     ]
    },
    {
     "name": "stdout",
     "output_type": "stream",
     "text": [
      "[250/2000]\t Image Loss:   0.091403 | trackingLoss:   0.014890 | used_time: 3824.294661\n"
     ]
    },
    {
     "name": "stderr",
     "output_type": "stream",
     "text": [
      "5011it [1:03:46,  1.31it/s]\n"
     ]
    },
    {
     "name": "stdout",
     "output_type": "stream",
     "text": [
      "[251/2000]\t Image Loss:   0.091402 | trackingLoss:   0.014891 | used_time: 3826.647356\n"
     ]
    },
    {
     "name": "stderr",
     "output_type": "stream",
     "text": [
      "5011it [1:03:33,  1.31it/s]\n"
     ]
    },
    {
     "name": "stdout",
     "output_type": "stream",
     "text": [
      "[252/2000]\t Image Loss:   0.091223 | trackingLoss:   0.014892 | used_time: 3814.001033\n"
     ]
    },
    {
     "name": "stderr",
     "output_type": "stream",
     "text": [
      "5011it [1:06:45,  1.25it/s]\n"
     ]
    },
    {
     "name": "stdout",
     "output_type": "stream",
     "text": [
      "[253/2000]\t Image Loss:   0.091281 | trackingLoss:   0.014892 | used_time: 4006.122446\n"
     ]
    },
    {
     "name": "stderr",
     "output_type": "stream",
     "text": [
      "5011it [1:08:22,  1.22it/s]\n"
     ]
    },
    {
     "name": "stdout",
     "output_type": "stream",
     "text": [
      "[254/2000]\t Image Loss:   0.091154 | trackingLoss:   0.014890 | used_time: 4102.176919\n"
     ]
    },
    {
     "name": "stderr",
     "output_type": "stream",
     "text": [
      "5011it [1:08:21,  1.22it/s]\n"
     ]
    },
    {
     "name": "stdout",
     "output_type": "stream",
     "text": [
      "[255/2000]\t Image Loss:   0.091179 | trackingLoss:   0.014891 | used_time: 4101.584928\n"
     ]
    },
    {
     "name": "stderr",
     "output_type": "stream",
     "text": [
      "5011it [1:08:20,  1.22it/s]\n"
     ]
    },
    {
     "name": "stdout",
     "output_type": "stream",
     "text": [
      "[256/2000]\t Image Loss:   0.091073 | trackingLoss:   0.014890 | used_time: 4100.551457\n"
     ]
    },
    {
     "name": "stderr",
     "output_type": "stream",
     "text": [
      "5011it [1:08:20,  1.22it/s]\n"
     ]
    },
    {
     "name": "stdout",
     "output_type": "stream",
     "text": [
      "[257/2000]\t Image Loss:   0.091300 | trackingLoss:   0.014891 | used_time: 4101.012231\n"
     ]
    },
    {
     "name": "stderr",
     "output_type": "stream",
     "text": [
      "5011it [1:08:22,  1.22it/s]\n"
     ]
    },
    {
     "name": "stdout",
     "output_type": "stream",
     "text": [
      "[258/2000]\t Image Loss:   0.091567 | trackingLoss:   0.014890 | used_time: 4102.585833\n"
     ]
    },
    {
     "name": "stderr",
     "output_type": "stream",
     "text": [
      "5011it [1:08:21,  1.22it/s]\n"
     ]
    },
    {
     "name": "stdout",
     "output_type": "stream",
     "text": [
      "[259/2000]\t Image Loss:   0.091618 | trackingLoss:   0.014892 | used_time: 4101.617810\n"
     ]
    },
    {
     "name": "stderr",
     "output_type": "stream",
     "text": [
      "5011it [1:08:20,  1.22it/s]\n"
     ]
    },
    {
     "name": "stdout",
     "output_type": "stream",
     "text": [
      "[260/2000]\t Image Loss:   0.091526 | trackingLoss:   0.014893 | used_time: 4100.398734\n"
     ]
    },
    {
     "name": "stderr",
     "output_type": "stream",
     "text": [
      "5011it [1:08:20,  1.22it/s]\n"
     ]
    },
    {
     "name": "stdout",
     "output_type": "stream",
     "text": [
      "[261/2000]\t Image Loss:   0.091192 | trackingLoss:   0.014893 | used_time: 4101.167831\n"
     ]
    },
    {
     "name": "stderr",
     "output_type": "stream",
     "text": [
      "5011it [1:08:19,  1.22it/s]\n"
     ]
    },
    {
     "name": "stdout",
     "output_type": "stream",
     "text": [
      "[262/2000]\t Image Loss:   0.091422 | trackingLoss:   0.014893 | used_time: 4099.767581\n"
     ]
    },
    {
     "name": "stderr",
     "output_type": "stream",
     "text": [
      "5011it [1:08:20,  1.22it/s]\n"
     ]
    },
    {
     "name": "stdout",
     "output_type": "stream",
     "text": [
      "[263/2000]\t Image Loss:   0.091573 | trackingLoss:   0.014893 | used_time: 4100.617085\n"
     ]
    },
    {
     "name": "stderr",
     "output_type": "stream",
     "text": [
      "5011it [1:08:21,  1.22it/s]\n"
     ]
    },
    {
     "name": "stdout",
     "output_type": "stream",
     "text": [
      "[264/2000]\t Image Loss:   0.091856 | trackingLoss:   0.014894 | used_time: 4101.652108\n"
     ]
    },
    {
     "name": "stderr",
     "output_type": "stream",
     "text": [
      "5011it [1:08:21,  1.22it/s]\n"
     ]
    },
    {
     "name": "stdout",
     "output_type": "stream",
     "text": [
      "[265/2000]\t Image Loss:   0.091775 | trackingLoss:   0.014894 | used_time: 4101.989942\n"
     ]
    },
    {
     "name": "stderr",
     "output_type": "stream",
     "text": [
      "5011it [1:08:20,  1.22it/s]\n"
     ]
    },
    {
     "name": "stdout",
     "output_type": "stream",
     "text": [
      "[266/2000]\t Image Loss:   0.091838 | trackingLoss:   0.014894 | used_time: 4100.368233\n"
     ]
    },
    {
     "name": "stderr",
     "output_type": "stream",
     "text": [
      "5011it [1:08:22,  1.22it/s]\n"
     ]
    },
    {
     "name": "stdout",
     "output_type": "stream",
     "text": [
      "[267/2000]\t Image Loss:   0.091630 | trackingLoss:   0.014894 | used_time: 4102.820936\n"
     ]
    },
    {
     "name": "stderr",
     "output_type": "stream",
     "text": [
      "5011it [1:08:20,  1.22it/s]\n"
     ]
    },
    {
     "name": "stdout",
     "output_type": "stream",
     "text": [
      "[268/2000]\t Image Loss:   0.091676 | trackingLoss:   0.014892 | used_time: 4100.812164\n"
     ]
    },
    {
     "name": "stderr",
     "output_type": "stream",
     "text": [
      "5011it [1:08:21,  1.22it/s]\n"
     ]
    },
    {
     "name": "stdout",
     "output_type": "stream",
     "text": [
      "[269/2000]\t Image Loss:   0.091807 | trackingLoss:   0.014892 | used_time: 4101.617106\n"
     ]
    },
    {
     "name": "stderr",
     "output_type": "stream",
     "text": [
      "5011it [1:08:21,  1.22it/s]\n"
     ]
    },
    {
     "name": "stdout",
     "output_type": "stream",
     "text": [
      "[270/2000]\t Image Loss:   0.091702 | trackingLoss:   0.014895 | used_time: 4102.010404\n"
     ]
    },
    {
     "name": "stderr",
     "output_type": "stream",
     "text": [
      "5011it [1:08:21,  1.22it/s]\n"
     ]
    },
    {
     "name": "stdout",
     "output_type": "stream",
     "text": [
      "[271/2000]\t Image Loss:   0.091512 | trackingLoss:   0.014893 | used_time: 4101.602992\n"
     ]
    },
    {
     "name": "stderr",
     "output_type": "stream",
     "text": [
      "5011it [1:08:21,  1.22it/s]\n"
     ]
    },
    {
     "name": "stdout",
     "output_type": "stream",
     "text": [
      "[272/2000]\t Image Loss:   0.091829 | trackingLoss:   0.014895 | used_time: 4101.574551\n"
     ]
    },
    {
     "name": "stderr",
     "output_type": "stream",
     "text": [
      "5011it [1:08:20,  1.22it/s]\n"
     ]
    },
    {
     "name": "stdout",
     "output_type": "stream",
     "text": [
      "[273/2000]\t Image Loss:   0.091714 | trackingLoss:   0.014894 | used_time: 4100.722603\n"
     ]
    },
    {
     "name": "stderr",
     "output_type": "stream",
     "text": [
      "5011it [1:08:20,  1.22it/s]\n"
     ]
    },
    {
     "name": "stdout",
     "output_type": "stream",
     "text": [
      "[274/2000]\t Image Loss:   0.091745 | trackingLoss:   0.014894 | used_time: 4101.065609\n"
     ]
    },
    {
     "name": "stderr",
     "output_type": "stream",
     "text": [
      "5011it [1:08:20,  1.22it/s]\n"
     ]
    },
    {
     "name": "stdout",
     "output_type": "stream",
     "text": [
      "[275/2000]\t Image Loss:   0.091544 | trackingLoss:   0.014894 | used_time: 4100.587968\n"
     ]
    },
    {
     "name": "stderr",
     "output_type": "stream",
     "text": [
      "5011it [1:08:21,  1.22it/s]\n"
     ]
    },
    {
     "name": "stdout",
     "output_type": "stream",
     "text": [
      "[276/2000]\t Image Loss:   0.091721 | trackingLoss:   0.014895 | used_time: 4101.787210\n"
     ]
    },
    {
     "name": "stderr",
     "output_type": "stream",
     "text": [
      "5011it [1:08:19,  1.22it/s]\n"
     ]
    },
    {
     "name": "stdout",
     "output_type": "stream",
     "text": [
      "[277/2000]\t Image Loss:   0.091961 | trackingLoss:   0.014895 | used_time: 4099.913522\n"
     ]
    },
    {
     "name": "stderr",
     "output_type": "stream",
     "text": [
      "5011it [1:08:20,  1.22it/s]\n"
     ]
    },
    {
     "name": "stdout",
     "output_type": "stream",
     "text": [
      "[278/2000]\t Image Loss:   0.091904 | trackingLoss:   0.014893 | used_time: 4100.700118\n"
     ]
    },
    {
     "name": "stderr",
     "output_type": "stream",
     "text": [
      "5011it [1:08:21,  1.22it/s]\n"
     ]
    },
    {
     "name": "stdout",
     "output_type": "stream",
     "text": [
      "[279/2000]\t Image Loss:   0.092057 | trackingLoss:   0.014895 | used_time: 4101.584957\n"
     ]
    },
    {
     "name": "stderr",
     "output_type": "stream",
     "text": [
      "5011it [1:08:20,  1.22it/s]\n"
     ]
    },
    {
     "name": "stdout",
     "output_type": "stream",
     "text": [
      "[280/2000]\t Image Loss:   0.091662 | trackingLoss:   0.014894 | used_time: 4101.052955\n"
     ]
    },
    {
     "name": "stderr",
     "output_type": "stream",
     "text": [
      "5011it [1:08:20,  1.22it/s]\n"
     ]
    },
    {
     "name": "stdout",
     "output_type": "stream",
     "text": [
      "[281/2000]\t Image Loss:   0.091675 | trackingLoss:   0.014892 | used_time: 4100.909651\n"
     ]
    },
    {
     "name": "stderr",
     "output_type": "stream",
     "text": [
      "5011it [1:08:21,  1.22it/s]\n"
     ]
    },
    {
     "name": "stdout",
     "output_type": "stream",
     "text": [
      "[282/2000]\t Image Loss:   0.091584 | trackingLoss:   0.014892 | used_time: 4101.781892\n"
     ]
    },
    {
     "name": "stderr",
     "output_type": "stream",
     "text": [
      "5011it [1:08:20,  1.22it/s]\n"
     ]
    },
    {
     "name": "stdout",
     "output_type": "stream",
     "text": [
      "[283/2000]\t Image Loss:   0.091566 | trackingLoss:   0.014895 | used_time: 4100.761819\n"
     ]
    },
    {
     "name": "stderr",
     "output_type": "stream",
     "text": [
      "5011it [1:08:20,  1.22it/s]\n"
     ]
    },
    {
     "name": "stdout",
     "output_type": "stream",
     "text": [
      "[284/2000]\t Image Loss:   0.091694 | trackingLoss:   0.014893 | used_time: 4100.968395\n"
     ]
    },
    {
     "name": "stderr",
     "output_type": "stream",
     "text": [
      "5011it [1:08:19,  1.22it/s]\n"
     ]
    },
    {
     "name": "stdout",
     "output_type": "stream",
     "text": [
      "[285/2000]\t Image Loss:   0.091818 | trackingLoss:   0.014896 | used_time: 4099.753742\n"
     ]
    },
    {
     "name": "stderr",
     "output_type": "stream",
     "text": [
      "5011it [1:08:21,  1.22it/s]\n"
     ]
    },
    {
     "name": "stdout",
     "output_type": "stream",
     "text": [
      "[286/2000]\t Image Loss:   0.092384 | trackingLoss:   0.014895 | used_time: 4102.160043\n"
     ]
    },
    {
     "name": "stderr",
     "output_type": "stream",
     "text": [
      "5011it [1:08:21,  1.22it/s]\n"
     ]
    },
    {
     "name": "stdout",
     "output_type": "stream",
     "text": [
      "[287/2000]\t Image Loss:   0.091952 | trackingLoss:   0.014895 | used_time: 4101.802622\n"
     ]
    },
    {
     "name": "stderr",
     "output_type": "stream",
     "text": [
      "5011it [1:08:21,  1.22it/s]\n"
     ]
    },
    {
     "name": "stdout",
     "output_type": "stream",
     "text": [
      "[288/2000]\t Image Loss:   0.092272 | trackingLoss:   0.014895 | used_time: 4101.383108\n"
     ]
    },
    {
     "name": "stderr",
     "output_type": "stream",
     "text": [
      "5011it [1:08:20,  1.22it/s]\n"
     ]
    },
    {
     "name": "stdout",
     "output_type": "stream",
     "text": [
      "[289/2000]\t Image Loss:   0.092240 | trackingLoss:   0.014894 | used_time: 4100.234673\n"
     ]
    },
    {
     "name": "stderr",
     "output_type": "stream",
     "text": [
      "5011it [1:08:19,  1.22it/s]\n"
     ]
    },
    {
     "name": "stdout",
     "output_type": "stream",
     "text": [
      "[290/2000]\t Image Loss:   0.092976 | trackingLoss:   0.014897 | used_time: 4100.026269\n"
     ]
    },
    {
     "name": "stderr",
     "output_type": "stream",
     "text": [
      "5011it [1:08:21,  1.22it/s]\n"
     ]
    },
    {
     "name": "stdout",
     "output_type": "stream",
     "text": [
      "[291/2000]\t Image Loss:   0.092378 | trackingLoss:   0.014896 | used_time: 4101.392964\n"
     ]
    },
    {
     "name": "stderr",
     "output_type": "stream",
     "text": [
      "5011it [1:08:20,  1.22it/s]\n"
     ]
    },
    {
     "name": "stdout",
     "output_type": "stream",
     "text": [
      "[292/2000]\t Image Loss:   0.092617 | trackingLoss:   0.014896 | used_time: 4100.353434\n"
     ]
    },
    {
     "name": "stderr",
     "output_type": "stream",
     "text": [
      "5011it [1:08:19,  1.22it/s]\n"
     ]
    },
    {
     "name": "stdout",
     "output_type": "stream",
     "text": [
      "[293/2000]\t Image Loss:   0.092769 | trackingLoss:   0.014899 | used_time: 4099.924604\n"
     ]
    },
    {
     "name": "stderr",
     "output_type": "stream",
     "text": [
      "5011it [1:05:18,  1.28it/s]\n"
     ]
    },
    {
     "name": "stdout",
     "output_type": "stream",
     "text": [
      "[294/2000]\t Image Loss:   0.092991 | trackingLoss:   0.014898 | used_time: 3918.655414\n"
     ]
    },
    {
     "name": "stderr",
     "output_type": "stream",
     "text": [
      "5011it [1:05:05,  1.28it/s]\n"
     ]
    },
    {
     "name": "stdout",
     "output_type": "stream",
     "text": [
      "[295/2000]\t Image Loss:   0.093054 | trackingLoss:   0.014897 | used_time: 3905.760546\n"
     ]
    },
    {
     "name": "stderr",
     "output_type": "stream",
     "text": [
      "5011it [1:05:11,  1.28it/s]\n"
     ]
    },
    {
     "name": "stdout",
     "output_type": "stream",
     "text": [
      "[296/2000]\t Image Loss:   0.092490 | trackingLoss:   0.014895 | used_time: 3911.666979\n"
     ]
    },
    {
     "name": "stderr",
     "output_type": "stream",
     "text": [
      "5011it [1:05:05,  1.28it/s]\n"
     ]
    },
    {
     "name": "stdout",
     "output_type": "stream",
     "text": [
      "[297/2000]\t Image Loss:   0.092707 | trackingLoss:   0.014898 | used_time: 3905.862428\n"
     ]
    },
    {
     "name": "stderr",
     "output_type": "stream",
     "text": [
      "5011it [1:05:02,  1.28it/s]\n"
     ]
    },
    {
     "name": "stdout",
     "output_type": "stream",
     "text": [
      "[298/2000]\t Image Loss:   0.093561 | trackingLoss:   0.014899 | used_time: 3903.147894\n"
     ]
    },
    {
     "name": "stderr",
     "output_type": "stream",
     "text": [
      "5011it [1:05:03,  1.28it/s]\n"
     ]
    },
    {
     "name": "stdout",
     "output_type": "stream",
     "text": [
      "[299/2000]\t Image Loss:   0.093286 | trackingLoss:   0.014899 | used_time: 3903.431121\n"
     ]
    },
    {
     "name": "stderr",
     "output_type": "stream",
     "text": [
      "5011it [1:05:04,  1.28it/s]\n"
     ]
    },
    {
     "name": "stdout",
     "output_type": "stream",
     "text": [
      "[300/2000]\t Image Loss:   0.093301 | trackingLoss:   0.014901 | used_time: 3904.575390\n"
     ]
    },
    {
     "name": "stderr",
     "output_type": "stream",
     "text": [
      "5011it [1:04:03,  1.30it/s]\n"
     ]
    },
    {
     "name": "stdout",
     "output_type": "stream",
     "text": [
      "[301/2000]\t Image Loss:   0.093049 | trackingLoss:   0.014898 | used_time: 3843.877393\n"
     ]
    },
    {
     "name": "stderr",
     "output_type": "stream",
     "text": [
      "5011it [1:03:49,  1.31it/s]\n"
     ]
    },
    {
     "name": "stdout",
     "output_type": "stream",
     "text": [
      "[302/2000]\t Image Loss:   0.092975 | trackingLoss:   0.014899 | used_time: 3830.141161\n"
     ]
    },
    {
     "name": "stderr",
     "output_type": "stream",
     "text": [
      "5011it [1:03:44,  1.31it/s]\n"
     ]
    },
    {
     "name": "stdout",
     "output_type": "stream",
     "text": [
      "[303/2000]\t Image Loss:   0.093776 | trackingLoss:   0.014901 | used_time: 3824.211574\n"
     ]
    },
    {
     "name": "stderr",
     "output_type": "stream",
     "text": [
      "5011it [1:03:46,  1.31it/s]\n"
     ]
    },
    {
     "name": "stdout",
     "output_type": "stream",
     "text": [
      "[304/2000]\t Image Loss:   0.093668 | trackingLoss:   0.014902 | used_time: 3826.973351\n"
     ]
    },
    {
     "name": "stderr",
     "output_type": "stream",
     "text": [
      "5011it [1:03:48,  1.31it/s]\n"
     ]
    },
    {
     "name": "stdout",
     "output_type": "stream",
     "text": [
      "[305/2000]\t Image Loss:   0.093396 | trackingLoss:   0.014899 | used_time: 3828.421401\n"
     ]
    },
    {
     "name": "stderr",
     "output_type": "stream",
     "text": [
      "5011it [1:03:41,  1.31it/s]\n"
     ]
    },
    {
     "name": "stdout",
     "output_type": "stream",
     "text": [
      "[306/2000]\t Image Loss:   0.093317 | trackingLoss:   0.014901 | used_time: 3821.572297\n"
     ]
    },
    {
     "name": "stderr",
     "output_type": "stream",
     "text": [
      "5011it [1:03:32,  1.31it/s]\n"
     ]
    },
    {
     "name": "stdout",
     "output_type": "stream",
     "text": [
      "[307/2000]\t Image Loss:   0.093346 | trackingLoss:   0.014898 | used_time: 3812.191077\n"
     ]
    },
    {
     "name": "stderr",
     "output_type": "stream",
     "text": [
      "5011it [1:03:32,  1.31it/s]\n"
     ]
    },
    {
     "name": "stdout",
     "output_type": "stream",
     "text": [
      "[308/2000]\t Image Loss:   0.093541 | trackingLoss:   0.014900 | used_time: 3812.827255\n"
     ]
    },
    {
     "name": "stderr",
     "output_type": "stream",
     "text": [
      "5011it [1:03:30,  1.31it/s]\n"
     ]
    },
    {
     "name": "stdout",
     "output_type": "stream",
     "text": [
      "[309/2000]\t Image Loss:   0.093212 | trackingLoss:   0.014897 | used_time: 3810.949676\n"
     ]
    },
    {
     "name": "stderr",
     "output_type": "stream",
     "text": [
      "5011it [1:03:37,  1.31it/s]\n"
     ]
    },
    {
     "name": "stdout",
     "output_type": "stream",
     "text": [
      "[310/2000]\t Image Loss:   0.093547 | trackingLoss:   0.014904 | used_time: 3817.983627\n"
     ]
    },
    {
     "name": "stderr",
     "output_type": "stream",
     "text": [
      "5011it [1:03:35,  1.31it/s]\n"
     ]
    },
    {
     "name": "stdout",
     "output_type": "stream",
     "text": [
      "[311/2000]\t Image Loss:   0.093431 | trackingLoss:   0.014901 | used_time: 3815.459639\n"
     ]
    },
    {
     "name": "stderr",
     "output_type": "stream",
     "text": [
      "5011it [1:03:35,  1.31it/s]\n"
     ]
    },
    {
     "name": "stdout",
     "output_type": "stream",
     "text": [
      "[312/2000]\t Image Loss:   0.093418 | trackingLoss:   0.014901 | used_time: 3816.120223\n"
     ]
    },
    {
     "name": "stderr",
     "output_type": "stream",
     "text": [
      "5011it [1:03:27,  1.32it/s]\n"
     ]
    },
    {
     "name": "stdout",
     "output_type": "stream",
     "text": [
      "[313/2000]\t Image Loss:   0.093450 | trackingLoss:   0.014902 | used_time: 3808.116246\n"
     ]
    },
    {
     "name": "stderr",
     "output_type": "stream",
     "text": [
      "5011it [1:02:59,  1.33it/s]\n"
     ]
    },
    {
     "name": "stdout",
     "output_type": "stream",
     "text": [
      "[314/2000]\t Image Loss:   0.094045 | trackingLoss:   0.014900 | used_time: 3779.624820\n"
     ]
    },
    {
     "name": "stderr",
     "output_type": "stream",
     "text": [
      "5011it [1:03:00,  1.33it/s]\n"
     ]
    },
    {
     "name": "stdout",
     "output_type": "stream",
     "text": [
      "[315/2000]\t Image Loss:   0.093914 | trackingLoss:   0.014903 | used_time: 3780.613641\n"
     ]
    },
    {
     "name": "stderr",
     "output_type": "stream",
     "text": [
      "5011it [1:02:56,  1.33it/s]\n"
     ]
    },
    {
     "name": "stdout",
     "output_type": "stream",
     "text": [
      "[316/2000]\t Image Loss:   0.093698 | trackingLoss:   0.014904 | used_time: 3776.726500\n"
     ]
    },
    {
     "name": "stderr",
     "output_type": "stream",
     "text": [
      "5011it [1:02:56,  1.33it/s]\n"
     ]
    },
    {
     "name": "stdout",
     "output_type": "stream",
     "text": [
      "[317/2000]\t Image Loss:   0.094173 | trackingLoss:   0.014906 | used_time: 3776.605803\n"
     ]
    },
    {
     "name": "stderr",
     "output_type": "stream",
     "text": [
      "5011it [1:02:54,  1.33it/s]\n"
     ]
    },
    {
     "name": "stdout",
     "output_type": "stream",
     "text": [
      "[318/2000]\t Image Loss:   0.094358 | trackingLoss:   0.014902 | used_time: 3775.110973\n"
     ]
    },
    {
     "name": "stderr",
     "output_type": "stream",
     "text": [
      "5011it [1:02:53,  1.33it/s]\n"
     ]
    },
    {
     "name": "stdout",
     "output_type": "stream",
     "text": [
      "[319/2000]\t Image Loss:   0.094416 | trackingLoss:   0.014904 | used_time: 3773.820761\n"
     ]
    },
    {
     "name": "stderr",
     "output_type": "stream",
     "text": [
      "5011it [1:02:53,  1.33it/s]\n"
     ]
    },
    {
     "name": "stdout",
     "output_type": "stream",
     "text": [
      "[320/2000]\t Image Loss:   0.094194 | trackingLoss:   0.014903 | used_time: 3773.943445\n"
     ]
    },
    {
     "name": "stderr",
     "output_type": "stream",
     "text": [
      "5011it [1:02:53,  1.33it/s]\n"
     ]
    },
    {
     "name": "stdout",
     "output_type": "stream",
     "text": [
      "[321/2000]\t Image Loss:   0.094475 | trackingLoss:   0.014904 | used_time: 3773.586500\n"
     ]
    },
    {
     "name": "stderr",
     "output_type": "stream",
     "text": [
      "5011it [1:03:01,  1.33it/s]\n"
     ]
    },
    {
     "name": "stdout",
     "output_type": "stream",
     "text": [
      "[322/2000]\t Image Loss:   0.094174 | trackingLoss:   0.014905 | used_time: 3781.248510\n"
     ]
    },
    {
     "name": "stderr",
     "output_type": "stream",
     "text": [
      "5011it [1:03:10,  1.32it/s]\n"
     ]
    },
    {
     "name": "stdout",
     "output_type": "stream",
     "text": [
      "[323/2000]\t Image Loss:   0.094585 | trackingLoss:   0.014906 | used_time: 3790.497195\n"
     ]
    },
    {
     "name": "stderr",
     "output_type": "stream",
     "text": [
      "5011it [1:03:07,  1.32it/s]\n"
     ]
    },
    {
     "name": "stdout",
     "output_type": "stream",
     "text": [
      "[324/2000]\t Image Loss:   0.094844 | trackingLoss:   0.014905 | used_time: 3787.176722\n"
     ]
    },
    {
     "name": "stderr",
     "output_type": "stream",
     "text": [
      "5011it [1:03:08,  1.32it/s]\n"
     ]
    },
    {
     "name": "stdout",
     "output_type": "stream",
     "text": [
      "[325/2000]\t Image Loss:   0.095244 | trackingLoss:   0.014908 | used_time: 3788.251853\n"
     ]
    },
    {
     "name": "stderr",
     "output_type": "stream",
     "text": [
      "5011it [1:03:09,  1.32it/s]\n"
     ]
    },
    {
     "name": "stdout",
     "output_type": "stream",
     "text": [
      "[326/2000]\t Image Loss:   0.095098 | trackingLoss:   0.014907 | used_time: 3789.744832\n"
     ]
    },
    {
     "name": "stderr",
     "output_type": "stream",
     "text": [
      "5011it [1:03:08,  1.32it/s]\n"
     ]
    },
    {
     "name": "stdout",
     "output_type": "stream",
     "text": [
      "[327/2000]\t Image Loss:   0.094812 | trackingLoss:   0.014906 | used_time: 3788.972166\n"
     ]
    },
    {
     "name": "stderr",
     "output_type": "stream",
     "text": [
      "5011it [1:03:09,  1.32it/s]\n"
     ]
    },
    {
     "name": "stdout",
     "output_type": "stream",
     "text": [
      "[328/2000]\t Image Loss:   0.095128 | trackingLoss:   0.014903 | used_time: 3789.841650\n"
     ]
    },
    {
     "name": "stderr",
     "output_type": "stream",
     "text": [
      "5011it [1:03:06,  1.32it/s]\n"
     ]
    },
    {
     "name": "stdout",
     "output_type": "stream",
     "text": [
      "[329/2000]\t Image Loss:   0.094982 | trackingLoss:   0.014908 | used_time: 3786.578716\n"
     ]
    },
    {
     "name": "stderr",
     "output_type": "stream",
     "text": [
      "5011it [1:03:07,  1.32it/s]\n"
     ]
    },
    {
     "name": "stdout",
     "output_type": "stream",
     "text": [
      "[330/2000]\t Image Loss:   0.095047 | trackingLoss:   0.014908 | used_time: 3787.615419\n"
     ]
    },
    {
     "name": "stderr",
     "output_type": "stream",
     "text": [
      "5011it [1:03:11,  1.32it/s]\n"
     ]
    },
    {
     "name": "stdout",
     "output_type": "stream",
     "text": [
      "[331/2000]\t Image Loss:   0.095091 | trackingLoss:   0.014905 | used_time: 3791.173748\n"
     ]
    },
    {
     "name": "stderr",
     "output_type": "stream",
     "text": [
      "5011it [1:03:16,  1.32it/s]\n"
     ]
    },
    {
     "name": "stdout",
     "output_type": "stream",
     "text": [
      "[332/2000]\t Image Loss:   0.095067 | trackingLoss:   0.014907 | used_time: 3797.017202\n"
     ]
    },
    {
     "name": "stderr",
     "output_type": "stream",
     "text": [
      "5011it [1:03:10,  1.32it/s]\n"
     ]
    },
    {
     "name": "stdout",
     "output_type": "stream",
     "text": [
      "[333/2000]\t Image Loss:   0.095274 | trackingLoss:   0.014907 | used_time: 3790.752048\n"
     ]
    },
    {
     "name": "stderr",
     "output_type": "stream",
     "text": [
      "5011it [1:03:10,  1.32it/s]\n"
     ]
    },
    {
     "name": "stdout",
     "output_type": "stream",
     "text": [
      "[334/2000]\t Image Loss:   0.095074 | trackingLoss:   0.014906 | used_time: 3791.034584\n"
     ]
    },
    {
     "name": "stderr",
     "output_type": "stream",
     "text": [
      "5011it [1:03:10,  1.32it/s]\n"
     ]
    },
    {
     "name": "stdout",
     "output_type": "stream",
     "text": [
      "[335/2000]\t Image Loss:   0.095238 | trackingLoss:   0.014908 | used_time: 3790.497295\n"
     ]
    },
    {
     "name": "stderr",
     "output_type": "stream",
     "text": [
      "5011it [1:03:13,  1.32it/s]\n"
     ]
    },
    {
     "name": "stdout",
     "output_type": "stream",
     "text": [
      "[336/2000]\t Image Loss:   0.094936 | trackingLoss:   0.014906 | used_time: 3793.281657\n"
     ]
    },
    {
     "name": "stderr",
     "output_type": "stream",
     "text": [
      "5011it [1:03:05,  1.32it/s]\n"
     ]
    },
    {
     "name": "stdout",
     "output_type": "stream",
     "text": [
      "[337/2000]\t Image Loss:   0.095097 | trackingLoss:   0.014905 | used_time: 3785.798414\n"
     ]
    },
    {
     "name": "stderr",
     "output_type": "stream",
     "text": [
      "5011it [1:02:53,  1.33it/s]\n"
     ]
    },
    {
     "name": "stdout",
     "output_type": "stream",
     "text": [
      "[338/2000]\t Image Loss:   0.095462 | trackingLoss:   0.014906 | used_time: 3773.746742\n"
     ]
    },
    {
     "name": "stderr",
     "output_type": "stream",
     "text": [
      "5011it [1:02:57,  1.33it/s]\n"
     ]
    },
    {
     "name": "stdout",
     "output_type": "stream",
     "text": [
      "[339/2000]\t Image Loss:   0.094996 | trackingLoss:   0.014908 | used_time: 3777.961792\n"
     ]
    },
    {
     "name": "stderr",
     "output_type": "stream",
     "text": [
      "5011it [1:03:04,  1.32it/s]\n"
     ]
    },
    {
     "name": "stdout",
     "output_type": "stream",
     "text": [
      "[340/2000]\t Image Loss:   0.095586 | trackingLoss:   0.014910 | used_time: 3784.951160\n"
     ]
    },
    {
     "name": "stderr",
     "output_type": "stream",
     "text": [
      "5011it [1:03:14,  1.32it/s]\n"
     ]
    },
    {
     "name": "stdout",
     "output_type": "stream",
     "text": [
      "[341/2000]\t Image Loss:   0.095579 | trackingLoss:   0.014908 | used_time: 3794.833587\n"
     ]
    },
    {
     "name": "stderr",
     "output_type": "stream",
     "text": [
      "5011it [1:03:12,  1.32it/s]\n"
     ]
    },
    {
     "name": "stdout",
     "output_type": "stream",
     "text": [
      "[342/2000]\t Image Loss:   0.095644 | trackingLoss:   0.014910 | used_time: 3793.107977\n"
     ]
    },
    {
     "name": "stderr",
     "output_type": "stream",
     "text": [
      "5011it [1:03:17,  1.32it/s]\n"
     ]
    },
    {
     "name": "stdout",
     "output_type": "stream",
     "text": [
      "[343/2000]\t Image Loss:   0.095120 | trackingLoss:   0.014908 | used_time: 3798.017153\n"
     ]
    },
    {
     "name": "stderr",
     "output_type": "stream",
     "text": [
      "5011it [1:03:43,  1.31it/s]\n"
     ]
    },
    {
     "name": "stdout",
     "output_type": "stream",
     "text": [
      "[344/2000]\t Image Loss:   0.095462 | trackingLoss:   0.014910 | used_time: 3823.186538\n"
     ]
    },
    {
     "name": "stderr",
     "output_type": "stream",
     "text": [
      "5011it [1:03:35,  1.31it/s]\n"
     ]
    },
    {
     "name": "stdout",
     "output_type": "stream",
     "text": [
      "[345/2000]\t Image Loss:   0.096197 | trackingLoss:   0.014912 | used_time: 3815.728250\n"
     ]
    },
    {
     "name": "stderr",
     "output_type": "stream",
     "text": [
      "5011it [1:03:48,  1.31it/s]\n"
     ]
    },
    {
     "name": "stdout",
     "output_type": "stream",
     "text": [
      "[346/2000]\t Image Loss:   0.096212 | trackingLoss:   0.014909 | used_time: 3828.280022\n"
     ]
    },
    {
     "name": "stderr",
     "output_type": "stream",
     "text": [
      "5011it [1:03:46,  1.31it/s]\n"
     ]
    },
    {
     "name": "stdout",
     "output_type": "stream",
     "text": [
      "[347/2000]\t Image Loss:   0.095943 | trackingLoss:   0.014911 | used_time: 3826.674860\n"
     ]
    },
    {
     "name": "stderr",
     "output_type": "stream",
     "text": [
      "5011it [1:03:45,  1.31it/s]\n"
     ]
    },
    {
     "name": "stdout",
     "output_type": "stream",
     "text": [
      "[348/2000]\t Image Loss:   0.096016 | trackingLoss:   0.014912 | used_time: 3825.339216\n"
     ]
    },
    {
     "name": "stderr",
     "output_type": "stream",
     "text": [
      "5011it [1:03:45,  1.31it/s]\n"
     ]
    },
    {
     "name": "stdout",
     "output_type": "stream",
     "text": [
      "[349/2000]\t Image Loss:   0.096517 | trackingLoss:   0.014913 | used_time: 3826.002693\n"
     ]
    },
    {
     "name": "stderr",
     "output_type": "stream",
     "text": [
      "5011it [1:03:46,  1.31it/s]\n"
     ]
    },
    {
     "name": "stdout",
     "output_type": "stream",
     "text": [
      "[350/2000]\t Image Loss:   0.096679 | trackingLoss:   0.014911 | used_time: 3826.818187\n"
     ]
    },
    {
     "name": "stderr",
     "output_type": "stream",
     "text": [
      "5011it [1:03:39,  1.31it/s]\n"
     ]
    },
    {
     "name": "stdout",
     "output_type": "stream",
     "text": [
      "[351/2000]\t Image Loss:   0.097000 | trackingLoss:   0.014911 | used_time: 3819.990958\n"
     ]
    },
    {
     "name": "stderr",
     "output_type": "stream",
     "text": [
      "5011it [1:03:29,  1.32it/s]\n"
     ]
    },
    {
     "name": "stdout",
     "output_type": "stream",
     "text": [
      "[352/2000]\t Image Loss:   0.096626 | trackingLoss:   0.014913 | used_time: 3810.030811\n"
     ]
    },
    {
     "name": "stderr",
     "output_type": "stream",
     "text": [
      "5011it [1:03:29,  1.32it/s]\n"
     ]
    },
    {
     "name": "stdout",
     "output_type": "stream",
     "text": [
      "[353/2000]\t Image Loss:   0.096291 | trackingLoss:   0.014913 | used_time: 3809.660101\n"
     ]
    },
    {
     "name": "stderr",
     "output_type": "stream",
     "text": [
      "5011it [1:03:29,  1.32it/s]\n"
     ]
    },
    {
     "name": "stdout",
     "output_type": "stream",
     "text": [
      "[354/2000]\t Image Loss:   0.096309 | trackingLoss:   0.014912 | used_time: 3809.728369\n"
     ]
    },
    {
     "name": "stderr",
     "output_type": "stream",
     "text": [
      "5011it [1:03:25,  1.32it/s]\n"
     ]
    },
    {
     "name": "stdout",
     "output_type": "stream",
     "text": [
      "[355/2000]\t Image Loss:   0.096123 | trackingLoss:   0.014915 | used_time: 3805.450122\n"
     ]
    },
    {
     "name": "stderr",
     "output_type": "stream",
     "text": [
      "5011it [1:03:29,  1.32it/s]\n"
     ]
    },
    {
     "name": "stdout",
     "output_type": "stream",
     "text": [
      "[356/2000]\t Image Loss:   0.097092 | trackingLoss:   0.014915 | used_time: 3809.637547\n"
     ]
    },
    {
     "name": "stderr",
     "output_type": "stream",
     "text": [
      "5011it [1:03:26,  1.32it/s]\n"
     ]
    },
    {
     "name": "stdout",
     "output_type": "stream",
     "text": [
      "[357/2000]\t Image Loss:   0.096980 | trackingLoss:   0.014915 | used_time: 3806.323096\n"
     ]
    },
    {
     "name": "stderr",
     "output_type": "stream",
     "text": [
      "5011it [1:03:26,  1.32it/s]\n"
     ]
    },
    {
     "name": "stdout",
     "output_type": "stream",
     "text": [
      "[358/2000]\t Image Loss:   0.096791 | trackingLoss:   0.014915 | used_time: 3806.565392\n"
     ]
    },
    {
     "name": "stderr",
     "output_type": "stream",
     "text": [
      "5011it [1:03:27,  1.32it/s]\n"
     ]
    },
    {
     "name": "stdout",
     "output_type": "stream",
     "text": [
      "[359/2000]\t Image Loss:   0.096682 | trackingLoss:   0.014916 | used_time: 3807.202860\n"
     ]
    },
    {
     "name": "stderr",
     "output_type": "stream",
     "text": [
      "5011it [1:03:28,  1.32it/s]\n"
     ]
    },
    {
     "name": "stdout",
     "output_type": "stream",
     "text": [
      "[360/2000]\t Image Loss:   0.096427 | trackingLoss:   0.014917 | used_time: 3808.962606\n"
     ]
    },
    {
     "name": "stderr",
     "output_type": "stream",
     "text": [
      "5011it [1:03:29,  1.32it/s]\n"
     ]
    },
    {
     "name": "stdout",
     "output_type": "stream",
     "text": [
      "[361/2000]\t Image Loss:   0.097133 | trackingLoss:   0.014915 | used_time: 3809.721357\n"
     ]
    },
    {
     "name": "stderr",
     "output_type": "stream",
     "text": [
      "5011it [1:03:29,  1.32it/s]\n"
     ]
    },
    {
     "name": "stdout",
     "output_type": "stream",
     "text": [
      "[362/2000]\t Image Loss:   0.098057 | trackingLoss:   0.014918 | used_time: 3809.276015\n"
     ]
    },
    {
     "name": "stderr",
     "output_type": "stream",
     "text": [
      "5011it [1:03:52,  1.31it/s]\n"
     ]
    },
    {
     "name": "stdout",
     "output_type": "stream",
     "text": [
      "[363/2000]\t Image Loss:   0.096931 | trackingLoss:   0.014914 | used_time: 3832.216701\n"
     ]
    },
    {
     "name": "stderr",
     "output_type": "stream",
     "text": [
      "5011it [1:03:51,  1.31it/s]\n"
     ]
    },
    {
     "name": "stdout",
     "output_type": "stream",
     "text": [
      "[364/2000]\t Image Loss:   0.096959 | trackingLoss:   0.014915 | used_time: 3831.513347\n"
     ]
    },
    {
     "name": "stderr",
     "output_type": "stream",
     "text": [
      "5011it [1:03:47,  1.31it/s]\n"
     ]
    },
    {
     "name": "stdout",
     "output_type": "stream",
     "text": [
      "[365/2000]\t Image Loss:   0.097166 | trackingLoss:   0.014914 | used_time: 3827.875560\n"
     ]
    },
    {
     "name": "stderr",
     "output_type": "stream",
     "text": [
      "5011it [1:03:49,  1.31it/s]\n"
     ]
    },
    {
     "name": "stdout",
     "output_type": "stream",
     "text": [
      "[366/2000]\t Image Loss:   0.097277 | trackingLoss:   0.014917 | used_time: 3829.529164\n"
     ]
    },
    {
     "name": "stderr",
     "output_type": "stream",
     "text": [
      "5011it [1:03:50,  1.31it/s]\n"
     ]
    },
    {
     "name": "stdout",
     "output_type": "stream",
     "text": [
      "[367/2000]\t Image Loss:   0.097448 | trackingLoss:   0.014915 | used_time: 3830.777065\n"
     ]
    },
    {
     "name": "stderr",
     "output_type": "stream",
     "text": [
      "5011it [1:03:52,  1.31it/s]\n"
     ]
    },
    {
     "name": "stdout",
     "output_type": "stream",
     "text": [
      "[368/2000]\t Image Loss:   0.098486 | trackingLoss:   0.014920 | used_time: 3832.858281\n"
     ]
    },
    {
     "name": "stderr",
     "output_type": "stream",
     "text": [
      "5011it [1:03:41,  1.31it/s]\n"
     ]
    },
    {
     "name": "stdout",
     "output_type": "stream",
     "text": [
      "[369/2000]\t Image Loss:   0.097676 | trackingLoss:   0.014917 | used_time: 3821.177039\n"
     ]
    },
    {
     "name": "stderr",
     "output_type": "stream",
     "text": [
      "5011it [1:03:29,  1.32it/s]\n"
     ]
    },
    {
     "name": "stdout",
     "output_type": "stream",
     "text": [
      "[370/2000]\t Image Loss:   0.097747 | trackingLoss:   0.014916 | used_time: 3809.291487\n"
     ]
    },
    {
     "name": "stderr",
     "output_type": "stream",
     "text": [
      "5011it [1:03:29,  1.32it/s]\n"
     ]
    },
    {
     "name": "stdout",
     "output_type": "stream",
     "text": [
      "[371/2000]\t Image Loss:   0.098550 | trackingLoss:   0.014916 | used_time: 3809.398880\n"
     ]
    },
    {
     "name": "stderr",
     "output_type": "stream",
     "text": [
      "5011it [1:03:29,  1.32it/s]\n"
     ]
    },
    {
     "name": "stdout",
     "output_type": "stream",
     "text": [
      "[372/2000]\t Image Loss:   0.097790 | trackingLoss:   0.014917 | used_time: 3810.092184\n"
     ]
    },
    {
     "name": "stderr",
     "output_type": "stream",
     "text": [
      "5011it [1:03:27,  1.32it/s]\n"
     ]
    },
    {
     "name": "stdout",
     "output_type": "stream",
     "text": [
      "[373/2000]\t Image Loss:   0.098223 | trackingLoss:   0.014919 | used_time: 3808.012980\n"
     ]
    },
    {
     "name": "stderr",
     "output_type": "stream",
     "text": [
      "5011it [1:03:26,  1.32it/s]\n"
     ]
    },
    {
     "name": "stdout",
     "output_type": "stream",
     "text": [
      "[374/2000]\t Image Loss:   0.097903 | trackingLoss:   0.014919 | used_time: 3806.888948\n"
     ]
    },
    {
     "name": "stderr",
     "output_type": "stream",
     "text": [
      "5011it [1:03:11,  1.32it/s]\n"
     ]
    },
    {
     "name": "stdout",
     "output_type": "stream",
     "text": [
      "[375/2000]\t Image Loss:   0.097746 | trackingLoss:   0.014917 | used_time: 3791.271992\n"
     ]
    },
    {
     "name": "stderr",
     "output_type": "stream",
     "text": [
      "5011it [1:03:11,  1.32it/s]\n"
     ]
    },
    {
     "name": "stdout",
     "output_type": "stream",
     "text": [
      "[376/2000]\t Image Loss:   0.097776 | trackingLoss:   0.014919 | used_time: 3791.550902\n"
     ]
    },
    {
     "name": "stderr",
     "output_type": "stream",
     "text": [
      "5011it [1:02:54,  1.33it/s]\n"
     ]
    },
    {
     "name": "stdout",
     "output_type": "stream",
     "text": [
      "[377/2000]\t Image Loss:   0.098083 | trackingLoss:   0.014919 | used_time: 3774.261813\n"
     ]
    },
    {
     "name": "stderr",
     "output_type": "stream",
     "text": [
      "5011it [1:02:56,  1.33it/s]\n"
     ]
    },
    {
     "name": "stdout",
     "output_type": "stream",
     "text": [
      "[378/2000]\t Image Loss:   0.098616 | trackingLoss:   0.014917 | used_time: 3776.831122\n"
     ]
    },
    {
     "name": "stderr",
     "output_type": "stream",
     "text": [
      "5011it [1:02:54,  1.33it/s]\n"
     ]
    },
    {
     "name": "stdout",
     "output_type": "stream",
     "text": [
      "[379/2000]\t Image Loss:   0.098501 | trackingLoss:   0.014919 | used_time: 3774.879652\n"
     ]
    },
    {
     "name": "stderr",
     "output_type": "stream",
     "text": [
      "5011it [1:02:55,  1.33it/s]\n"
     ]
    },
    {
     "name": "stdout",
     "output_type": "stream",
     "text": [
      "[380/2000]\t Image Loss:   0.098801 | trackingLoss:   0.014921 | used_time: 3776.092080\n"
     ]
    },
    {
     "name": "stderr",
     "output_type": "stream",
     "text": [
      "5011it [1:02:53,  1.33it/s]\n"
     ]
    },
    {
     "name": "stdout",
     "output_type": "stream",
     "text": [
      "[381/2000]\t Image Loss:   0.098414 | trackingLoss:   0.014921 | used_time: 3773.591108\n"
     ]
    },
    {
     "name": "stderr",
     "output_type": "stream",
     "text": [
      "5011it [1:02:50,  1.33it/s]\n"
     ]
    },
    {
     "name": "stdout",
     "output_type": "stream",
     "text": [
      "[382/2000]\t Image Loss:   0.098094 | trackingLoss:   0.014921 | used_time: 3770.641487\n"
     ]
    },
    {
     "name": "stderr",
     "output_type": "stream",
     "text": [
      "5011it [1:02:53,  1.33it/s]\n"
     ]
    },
    {
     "name": "stdout",
     "output_type": "stream",
     "text": [
      "[383/2000]\t Image Loss:   0.098372 | trackingLoss:   0.014921 | used_time: 3773.729217\n"
     ]
    },
    {
     "name": "stderr",
     "output_type": "stream",
     "text": [
      "5011it [1:02:54,  1.33it/s]\n"
     ]
    },
    {
     "name": "stdout",
     "output_type": "stream",
     "text": [
      "[384/2000]\t Image Loss:   0.098456 | trackingLoss:   0.014920 | used_time: 3774.201993\n"
     ]
    },
    {
     "name": "stderr",
     "output_type": "stream",
     "text": [
      "5011it [1:03:03,  1.32it/s]\n"
     ]
    },
    {
     "name": "stdout",
     "output_type": "stream",
     "text": [
      "[385/2000]\t Image Loss:   0.098487 | trackingLoss:   0.014923 | used_time: 3783.608133\n"
     ]
    },
    {
     "name": "stderr",
     "output_type": "stream",
     "text": [
      "5011it [1:03:14,  1.32it/s]\n"
     ]
    },
    {
     "name": "stdout",
     "output_type": "stream",
     "text": [
      "[386/2000]\t Image Loss:   0.098511 | trackingLoss:   0.014921 | used_time: 3795.065695\n"
     ]
    },
    {
     "name": "stderr",
     "output_type": "stream",
     "text": [
      "5011it [1:03:56,  1.31it/s]\n"
     ]
    },
    {
     "name": "stdout",
     "output_type": "stream",
     "text": [
      "[387/2000]\t Image Loss:   0.099041 | trackingLoss:   0.014925 | used_time: 3836.625806\n"
     ]
    },
    {
     "name": "stderr",
     "output_type": "stream",
     "text": [
      "5011it [1:03:04,  1.32it/s]\n"
     ]
    },
    {
     "name": "stdout",
     "output_type": "stream",
     "text": [
      "[388/2000]\t Image Loss:   0.098791 | trackingLoss:   0.014922 | used_time: 3784.926393\n"
     ]
    },
    {
     "name": "stderr",
     "output_type": "stream",
     "text": [
      "5011it [1:00:45,  1.37it/s]\n"
     ]
    },
    {
     "name": "stdout",
     "output_type": "stream",
     "text": [
      "[389/2000]\t Image Loss:   0.098848 | trackingLoss:   0.014921 | used_time: 3645.750305\n"
     ]
    },
    {
     "name": "stderr",
     "output_type": "stream",
     "text": [
      "5011it [1:00:47,  1.37it/s]\n"
     ]
    },
    {
     "name": "stdout",
     "output_type": "stream",
     "text": [
      "[390/2000]\t Image Loss:   0.099021 | trackingLoss:   0.014922 | used_time: 3647.462666\n"
     ]
    },
    {
     "name": "stderr",
     "output_type": "stream",
     "text": [
      "5011it [1:00:43,  1.38it/s]\n"
     ]
    },
    {
     "name": "stdout",
     "output_type": "stream",
     "text": [
      "[391/2000]\t Image Loss:   0.098562 | trackingLoss:   0.014922 | used_time: 3643.738896\n"
     ]
    },
    {
     "name": "stderr",
     "output_type": "stream",
     "text": [
      "5011it [1:00:40,  1.38it/s]\n"
     ]
    },
    {
     "name": "stdout",
     "output_type": "stream",
     "text": [
      "[392/2000]\t Image Loss:   0.099742 | trackingLoss:   0.014924 | used_time: 3640.171392\n"
     ]
    },
    {
     "name": "stderr",
     "output_type": "stream",
     "text": [
      "5011it [1:00:46,  1.37it/s]\n"
     ]
    },
    {
     "name": "stdout",
     "output_type": "stream",
     "text": [
      "[393/2000]\t Image Loss:   0.100213 | trackingLoss:   0.014925 | used_time: 3646.686992\n"
     ]
    },
    {
     "name": "stderr",
     "output_type": "stream",
     "text": [
      "5011it [1:01:54,  1.35it/s]\n"
     ]
    },
    {
     "name": "stdout",
     "output_type": "stream",
     "text": [
      "[394/2000]\t Image Loss:   0.099678 | trackingLoss:   0.014923 | used_time: 3714.921514\n"
     ]
    },
    {
     "name": "stderr",
     "output_type": "stream",
     "text": [
      "5011it [1:01:33,  1.36it/s]\n"
     ]
    },
    {
     "name": "stdout",
     "output_type": "stream",
     "text": [
      "[395/2000]\t Image Loss:   0.099898 | trackingLoss:   0.014924 | used_time: 3693.959240\n"
     ]
    },
    {
     "name": "stderr",
     "output_type": "stream",
     "text": [
      "5011it [1:00:54,  1.37it/s]\n"
     ]
    },
    {
     "name": "stdout",
     "output_type": "stream",
     "text": [
      "[396/2000]\t Image Loss:   0.098838 | trackingLoss:   0.014921 | used_time: 3654.444507\n"
     ]
    },
    {
     "name": "stderr",
     "output_type": "stream",
     "text": [
      "5011it [1:00:44,  1.37it/s]\n"
     ]
    },
    {
     "name": "stdout",
     "output_type": "stream",
     "text": [
      "[397/2000]\t Image Loss:   0.099480 | trackingLoss:   0.014926 | used_time: 3645.105478\n"
     ]
    },
    {
     "name": "stderr",
     "output_type": "stream",
     "text": [
      "5011it [1:00:52,  1.37it/s]\n"
     ]
    },
    {
     "name": "stdout",
     "output_type": "stream",
     "text": [
      "[398/2000]\t Image Loss:   0.100213 | trackingLoss:   0.014928 | used_time: 3652.652478\n"
     ]
    },
    {
     "name": "stderr",
     "output_type": "stream",
     "text": [
      "5011it [1:00:50,  1.37it/s]\n"
     ]
    },
    {
     "name": "stdout",
     "output_type": "stream",
     "text": [
      "[399/2000]\t Image Loss:   0.100593 | trackingLoss:   0.014929 | used_time: 3650.437003\n"
     ]
    },
    {
     "name": "stderr",
     "output_type": "stream",
     "text": [
      "5011it [1:00:49,  1.37it/s]\n"
     ]
    },
    {
     "name": "stdout",
     "output_type": "stream",
     "text": [
      "[400/2000]\t Image Loss:   0.101296 | trackingLoss:   0.014932 | used_time: 3649.265614\n"
     ]
    },
    {
     "name": "stderr",
     "output_type": "stream",
     "text": [
      "5011it [1:00:50,  1.37it/s]\n"
     ]
    },
    {
     "name": "stdout",
     "output_type": "stream",
     "text": [
      "[401/2000]\t Image Loss:   0.101198 | trackingLoss:   0.014930 | used_time: 3650.360594\n"
     ]
    },
    {
     "name": "stderr",
     "output_type": "stream",
     "text": [
      "5011it [1:00:49,  1.37it/s]\n"
     ]
    },
    {
     "name": "stdout",
     "output_type": "stream",
     "text": [
      "[402/2000]\t Image Loss:   0.101110 | trackingLoss:   0.014927 | used_time: 3649.858875\n"
     ]
    },
    {
     "name": "stderr",
     "output_type": "stream",
     "text": [
      "5011it [1:00:50,  1.37it/s]\n"
     ]
    },
    {
     "name": "stdout",
     "output_type": "stream",
     "text": [
      "[403/2000]\t Image Loss:   0.101551 | trackingLoss:   0.014929 | used_time: 3650.458506\n"
     ]
    },
    {
     "name": "stderr",
     "output_type": "stream",
     "text": [
      "5011it [1:00:49,  1.37it/s]\n"
     ]
    },
    {
     "name": "stdout",
     "output_type": "stream",
     "text": [
      "[404/2000]\t Image Loss:   0.101384 | trackingLoss:   0.014930 | used_time: 3649.348450\n"
     ]
    },
    {
     "name": "stderr",
     "output_type": "stream",
     "text": [
      "5011it [1:00:50,  1.37it/s]\n"
     ]
    },
    {
     "name": "stdout",
     "output_type": "stream",
     "text": [
      "[405/2000]\t Image Loss:   0.101150 | trackingLoss:   0.014925 | used_time: 3650.344747\n"
     ]
    },
    {
     "name": "stderr",
     "output_type": "stream",
     "text": [
      "5011it [1:00:49,  1.37it/s]\n"
     ]
    },
    {
     "name": "stdout",
     "output_type": "stream",
     "text": [
      "[406/2000]\t Image Loss:   0.101289 | trackingLoss:   0.014930 | used_time: 3649.433917\n"
     ]
    },
    {
     "name": "stderr",
     "output_type": "stream",
     "text": [
      "5011it [1:00:47,  1.37it/s]\n"
     ]
    },
    {
     "name": "stdout",
     "output_type": "stream",
     "text": [
      "[407/2000]\t Image Loss:   0.101898 | trackingLoss:   0.014931 | used_time: 3647.697525\n"
     ]
    },
    {
     "name": "stderr",
     "output_type": "stream",
     "text": [
      "5011it [1:00:47,  1.37it/s]\n"
     ]
    },
    {
     "name": "stdout",
     "output_type": "stream",
     "text": [
      "[408/2000]\t Image Loss:   0.101675 | trackingLoss:   0.014932 | used_time: 3647.804209\n"
     ]
    },
    {
     "name": "stderr",
     "output_type": "stream",
     "text": [
      "5011it [1:00:45,  1.37it/s]\n"
     ]
    },
    {
     "name": "stdout",
     "output_type": "stream",
     "text": [
      "[409/2000]\t Image Loss:   0.102447 | trackingLoss:   0.014929 | used_time: 3645.677802\n"
     ]
    },
    {
     "name": "stderr",
     "output_type": "stream",
     "text": [
      "5011it [1:00:48,  1.37it/s]\n"
     ]
    },
    {
     "name": "stdout",
     "output_type": "stream",
     "text": [
      "[410/2000]\t Image Loss:   0.101528 | trackingLoss:   0.014931 | used_time: 3649.107063\n"
     ]
    },
    {
     "name": "stderr",
     "output_type": "stream",
     "text": [
      "5011it [1:00:47,  1.37it/s]\n"
     ]
    },
    {
     "name": "stdout",
     "output_type": "stream",
     "text": [
      "[411/2000]\t Image Loss:   0.102645 | trackingLoss:   0.014934 | used_time: 3647.674795\n"
     ]
    },
    {
     "name": "stderr",
     "output_type": "stream",
     "text": [
      "5011it [1:00:51,  1.37it/s]\n"
     ]
    },
    {
     "name": "stdout",
     "output_type": "stream",
     "text": [
      "[412/2000]\t Image Loss:   0.103010 | trackingLoss:   0.014935 | used_time: 3652.015499\n"
     ]
    },
    {
     "name": "stderr",
     "output_type": "stream",
     "text": [
      "5011it [1:00:50,  1.37it/s]\n"
     ]
    },
    {
     "name": "stdout",
     "output_type": "stream",
     "text": [
      "[413/2000]\t Image Loss:   0.103748 | trackingLoss:   0.014935 | used_time: 3650.891151\n"
     ]
    },
    {
     "name": "stderr",
     "output_type": "stream",
     "text": [
      "5011it [1:00:49,  1.37it/s]\n"
     ]
    },
    {
     "name": "stdout",
     "output_type": "stream",
     "text": [
      "[414/2000]\t Image Loss:   0.104478 | trackingLoss:   0.014935 | used_time: 3649.305227\n"
     ]
    },
    {
     "name": "stderr",
     "output_type": "stream",
     "text": [
      "5011it [1:00:50,  1.37it/s]\n"
     ]
    },
    {
     "name": "stdout",
     "output_type": "stream",
     "text": [
      "[415/2000]\t Image Loss:   0.102551 | trackingLoss:   0.014935 | used_time: 3650.885247\n"
     ]
    },
    {
     "name": "stderr",
     "output_type": "stream",
     "text": [
      "5011it [1:00:50,  1.37it/s]\n"
     ]
    },
    {
     "name": "stdout",
     "output_type": "stream",
     "text": [
      "[416/2000]\t Image Loss:   0.102614 | trackingLoss:   0.014934 | used_time: 3651.092346\n"
     ]
    },
    {
     "name": "stderr",
     "output_type": "stream",
     "text": [
      "5011it [1:00:45,  1.37it/s]\n"
     ]
    },
    {
     "name": "stdout",
     "output_type": "stream",
     "text": [
      "[417/2000]\t Image Loss:   0.102497 | trackingLoss:   0.014932 | used_time: 3645.857677\n"
     ]
    },
    {
     "name": "stderr",
     "output_type": "stream",
     "text": [
      "5011it [1:00:50,  1.37it/s]\n"
     ]
    },
    {
     "name": "stdout",
     "output_type": "stream",
     "text": [
      "[418/2000]\t Image Loss:   0.102692 | trackingLoss:   0.014933 | used_time: 3650.406862\n"
     ]
    },
    {
     "name": "stderr",
     "output_type": "stream",
     "text": [
      "5011it [1:00:50,  1.37it/s]\n"
     ]
    },
    {
     "name": "stdout",
     "output_type": "stream",
     "text": [
      "[419/2000]\t Image Loss:   0.102855 | trackingLoss:   0.014936 | used_time: 3650.843911\n"
     ]
    },
    {
     "name": "stderr",
     "output_type": "stream",
     "text": [
      "5011it [1:00:50,  1.37it/s]\n"
     ]
    },
    {
     "name": "stdout",
     "output_type": "stream",
     "text": [
      "[420/2000]\t Image Loss:   0.104443 | trackingLoss:   0.014940 | used_time: 3650.211633\n"
     ]
    },
    {
     "name": "stderr",
     "output_type": "stream",
     "text": [
      "5011it [1:00:52,  1.37it/s]\n"
     ]
    },
    {
     "name": "stdout",
     "output_type": "stream",
     "text": [
      "[421/2000]\t Image Loss:   0.103510 | trackingLoss:   0.014936 | used_time: 3652.804759\n"
     ]
    },
    {
     "name": "stderr",
     "output_type": "stream",
     "text": [
      "5011it [1:00:46,  1.37it/s]\n"
     ]
    },
    {
     "name": "stdout",
     "output_type": "stream",
     "text": [
      "[422/2000]\t Image Loss:   0.104037 | trackingLoss:   0.014937 | used_time: 3646.337991\n"
     ]
    },
    {
     "name": "stderr",
     "output_type": "stream",
     "text": [
      "5011it [1:00:49,  1.37it/s]\n"
     ]
    },
    {
     "name": "stdout",
     "output_type": "stream",
     "text": [
      "[423/2000]\t Image Loss:   0.105247 | trackingLoss:   0.014941 | used_time: 3649.405920\n"
     ]
    },
    {
     "name": "stderr",
     "output_type": "stream",
     "text": [
      "5011it [1:00:47,  1.37it/s]\n"
     ]
    },
    {
     "name": "stdout",
     "output_type": "stream",
     "text": [
      "[424/2000]\t Image Loss:   0.105698 | trackingLoss:   0.014939 | used_time: 3648.024185\n"
     ]
    },
    {
     "name": "stderr",
     "output_type": "stream",
     "text": [
      "5011it [1:00:51,  1.37it/s]\n"
     ]
    },
    {
     "name": "stdout",
     "output_type": "stream",
     "text": [
      "[425/2000]\t Image Loss:   0.104865 | trackingLoss:   0.014945 | used_time: 3651.858657\n"
     ]
    },
    {
     "name": "stderr",
     "output_type": "stream",
     "text": [
      "5011it [1:00:50,  1.37it/s]\n"
     ]
    },
    {
     "name": "stdout",
     "output_type": "stream",
     "text": [
      "[426/2000]\t Image Loss:   0.105328 | trackingLoss:   0.014943 | used_time: 3650.175766\n"
     ]
    },
    {
     "name": "stderr",
     "output_type": "stream",
     "text": [
      "5011it [1:00:51,  1.37it/s]\n"
     ]
    },
    {
     "name": "stdout",
     "output_type": "stream",
     "text": [
      "[427/2000]\t Image Loss:   0.104742 | trackingLoss:   0.014941 | used_time: 3651.986113\n"
     ]
    },
    {
     "name": "stderr",
     "output_type": "stream",
     "text": [
      "5011it [1:00:52,  1.37it/s]\n"
     ]
    },
    {
     "name": "stdout",
     "output_type": "stream",
     "text": [
      "[428/2000]\t Image Loss:   0.104911 | trackingLoss:   0.014943 | used_time: 3652.539945\n"
     ]
    },
    {
     "name": "stderr",
     "output_type": "stream",
     "text": [
      "5011it [1:00:49,  1.37it/s]\n"
     ]
    },
    {
     "name": "stdout",
     "output_type": "stream",
     "text": [
      "[429/2000]\t Image Loss:   0.104945 | trackingLoss:   0.014942 | used_time: 3650.050649\n"
     ]
    },
    {
     "name": "stderr",
     "output_type": "stream",
     "text": [
      "5011it [1:00:47,  1.37it/s]\n"
     ]
    },
    {
     "name": "stdout",
     "output_type": "stream",
     "text": [
      "[430/2000]\t Image Loss:   0.106123 | trackingLoss:   0.014943 | used_time: 3647.860982\n"
     ]
    },
    {
     "name": "stderr",
     "output_type": "stream",
     "text": [
      "5011it [1:00:57,  1.37it/s]\n"
     ]
    },
    {
     "name": "stdout",
     "output_type": "stream",
     "text": [
      "[431/2000]\t Image Loss:   0.105266 | trackingLoss:   0.014944 | used_time: 3657.843441\n"
     ]
    },
    {
     "name": "stderr",
     "output_type": "stream",
     "text": [
      "5011it [1:01:04,  1.37it/s]\n"
     ]
    },
    {
     "name": "stdout",
     "output_type": "stream",
     "text": [
      "[432/2000]\t Image Loss:   0.104656 | trackingLoss:   0.014942 | used_time: 3665.129337\n"
     ]
    },
    {
     "name": "stderr",
     "output_type": "stream",
     "text": [
      "5011it [1:01:19,  1.36it/s]\n"
     ]
    },
    {
     "name": "stdout",
     "output_type": "stream",
     "text": [
      "[433/2000]\t Image Loss:   0.105574 | trackingLoss:   0.014944 | used_time: 3679.760900\n"
     ]
    },
    {
     "name": "stderr",
     "output_type": "stream",
     "text": [
      "5011it [1:01:17,  1.36it/s]\n"
     ]
    },
    {
     "name": "stdout",
     "output_type": "stream",
     "text": [
      "[434/2000]\t Image Loss:   0.105546 | trackingLoss:   0.014944 | used_time: 3677.269882\n"
     ]
    },
    {
     "name": "stderr",
     "output_type": "stream",
     "text": [
      "5011it [1:01:20,  1.36it/s]\n"
     ]
    },
    {
     "name": "stdout",
     "output_type": "stream",
     "text": [
      "[435/2000]\t Image Loss:   0.105120 | trackingLoss:   0.014941 | used_time: 3680.224076\n"
     ]
    },
    {
     "name": "stderr",
     "output_type": "stream",
     "text": [
      "5011it [1:01:23,  1.36it/s]\n"
     ]
    },
    {
     "name": "stdout",
     "output_type": "stream",
     "text": [
      "[436/2000]\t Image Loss:   0.106752 | trackingLoss:   0.014943 | used_time: 3683.176787\n"
     ]
    },
    {
     "name": "stderr",
     "output_type": "stream",
     "text": [
      "5011it [1:01:40,  1.35it/s]\n"
     ]
    },
    {
     "name": "stdout",
     "output_type": "stream",
     "text": [
      "[437/2000]\t Image Loss:   0.108595 | trackingLoss:   0.014947 | used_time: 3700.506217\n"
     ]
    },
    {
     "name": "stderr",
     "output_type": "stream",
     "text": [
      "5011it [1:01:57,  1.35it/s]\n"
     ]
    },
    {
     "name": "stdout",
     "output_type": "stream",
     "text": [
      "[438/2000]\t Image Loss:   0.106355 | trackingLoss:   0.014945 | used_time: 3717.203835\n"
     ]
    },
    {
     "name": "stderr",
     "output_type": "stream",
     "text": [
      "5011it [1:02:12,  1.34it/s]\n"
     ]
    },
    {
     "name": "stdout",
     "output_type": "stream",
     "text": [
      "[439/2000]\t Image Loss:   0.107517 | trackingLoss:   0.014948 | used_time: 3732.304468\n"
     ]
    },
    {
     "name": "stderr",
     "output_type": "stream",
     "text": [
      "5011it [1:02:17,  1.34it/s]\n"
     ]
    },
    {
     "name": "stdout",
     "output_type": "stream",
     "text": [
      "[440/2000]\t Image Loss:   0.107043 | trackingLoss:   0.014947 | used_time: 3738.033278\n"
     ]
    },
    {
     "name": "stderr",
     "output_type": "stream",
     "text": [
      "5011it [1:02:06,  1.34it/s]\n"
     ]
    },
    {
     "name": "stdout",
     "output_type": "stream",
     "text": [
      "[441/2000]\t Image Loss:   0.106194 | trackingLoss:   0.014945 | used_time: 3726.519186\n"
     ]
    },
    {
     "name": "stderr",
     "output_type": "stream",
     "text": [
      "5011it [1:02:06,  1.34it/s]\n"
     ]
    },
    {
     "name": "stdout",
     "output_type": "stream",
     "text": [
      "[442/2000]\t Image Loss:   0.105566 | trackingLoss:   0.014946 | used_time: 3726.203844\n"
     ]
    },
    {
     "name": "stderr",
     "output_type": "stream",
     "text": [
      "5011it [1:02:14,  1.34it/s]\n"
     ]
    },
    {
     "name": "stdout",
     "output_type": "stream",
     "text": [
      "[443/2000]\t Image Loss:   0.105903 | trackingLoss:   0.014945 | used_time: 3734.730470\n"
     ]
    },
    {
     "name": "stderr",
     "output_type": "stream",
     "text": [
      "5011it [1:02:10,  1.34it/s]\n"
     ]
    },
    {
     "name": "stdout",
     "output_type": "stream",
     "text": [
      "[444/2000]\t Image Loss:   0.107456 | trackingLoss:   0.014949 | used_time: 3730.167708\n"
     ]
    },
    {
     "name": "stderr",
     "output_type": "stream",
     "text": [
      "5011it [1:02:06,  1.34it/s]\n"
     ]
    },
    {
     "name": "stdout",
     "output_type": "stream",
     "text": [
      "[445/2000]\t Image Loss:   0.107683 | trackingLoss:   0.014947 | used_time: 3726.309487\n"
     ]
    },
    {
     "name": "stderr",
     "output_type": "stream",
     "text": [
      "5011it [1:01:57,  1.35it/s]\n"
     ]
    },
    {
     "name": "stdout",
     "output_type": "stream",
     "text": [
      "[446/2000]\t Image Loss:   0.107553 | trackingLoss:   0.014948 | used_time: 3717.870057\n"
     ]
    },
    {
     "name": "stderr",
     "output_type": "stream",
     "text": [
      "5011it [1:02:08,  1.34it/s]\n"
     ]
    },
    {
     "name": "stdout",
     "output_type": "stream",
     "text": [
      "[447/2000]\t Image Loss:   0.106795 | trackingLoss:   0.014945 | used_time: 3728.909919\n"
     ]
    },
    {
     "name": "stderr",
     "output_type": "stream",
     "text": [
      "5011it [1:02:04,  1.35it/s]\n"
     ]
    },
    {
     "name": "stdout",
     "output_type": "stream",
     "text": [
      "[448/2000]\t Image Loss:   0.108565 | trackingLoss:   0.014951 | used_time: 3724.186747\n"
     ]
    },
    {
     "name": "stderr",
     "output_type": "stream",
     "text": [
      "5011it [1:01:52,  1.35it/s]\n"
     ]
    },
    {
     "name": "stdout",
     "output_type": "stream",
     "text": [
      "[449/2000]\t Image Loss:   0.108445 | trackingLoss:   0.014953 | used_time: 3712.524121\n"
     ]
    },
    {
     "name": "stderr",
     "output_type": "stream",
     "text": [
      "5011it [1:01:50,  1.35it/s]\n"
     ]
    },
    {
     "name": "stdout",
     "output_type": "stream",
     "text": [
      "[450/2000]\t Image Loss:   0.109646 | trackingLoss:   0.014951 | used_time: 3711.084734\n"
     ]
    },
    {
     "name": "stderr",
     "output_type": "stream",
     "text": [
      "5011it [1:01:43,  1.35it/s]\n"
     ]
    },
    {
     "name": "stdout",
     "output_type": "stream",
     "text": [
      "[451/2000]\t Image Loss:   0.107455 | trackingLoss:   0.014947 | used_time: 3703.227961\n"
     ]
    },
    {
     "name": "stderr",
     "output_type": "stream",
     "text": [
      "5011it [1:01:33,  1.36it/s]\n"
     ]
    },
    {
     "name": "stdout",
     "output_type": "stream",
     "text": [
      "[452/2000]\t Image Loss:   0.107540 | trackingLoss:   0.014951 | used_time: 3693.511194\n"
     ]
    },
    {
     "name": "stderr",
     "output_type": "stream",
     "text": [
      "5011it [1:01:28,  1.36it/s]\n"
     ]
    },
    {
     "name": "stdout",
     "output_type": "stream",
     "text": [
      "[453/2000]\t Image Loss:   0.106506 | trackingLoss:   0.014948 | used_time: 3688.518209\n"
     ]
    },
    {
     "name": "stderr",
     "output_type": "stream",
     "text": [
      "5011it [1:01:23,  1.36it/s]\n"
     ]
    },
    {
     "name": "stdout",
     "output_type": "stream",
     "text": [
      "[454/2000]\t Image Loss:   0.108393 | trackingLoss:   0.014949 | used_time: 3683.951303\n"
     ]
    },
    {
     "name": "stderr",
     "output_type": "stream",
     "text": [
      "5011it [1:01:32,  1.36it/s]\n"
     ]
    },
    {
     "name": "stdout",
     "output_type": "stream",
     "text": [
      "[455/2000]\t Image Loss:   0.108226 | trackingLoss:   0.014949 | used_time: 3692.502174\n"
     ]
    },
    {
     "name": "stderr",
     "output_type": "stream",
     "text": [
      "5011it [1:01:30,  1.36it/s]\n"
     ]
    },
    {
     "name": "stdout",
     "output_type": "stream",
     "text": [
      "[456/2000]\t Image Loss:   0.107628 | trackingLoss:   0.014950 | used_time: 3690.707780\n"
     ]
    },
    {
     "name": "stderr",
     "output_type": "stream",
     "text": [
      "5011it [1:01:33,  1.36it/s]\n"
     ]
    },
    {
     "name": "stdout",
     "output_type": "stream",
     "text": [
      "[457/2000]\t Image Loss:   0.110060 | trackingLoss:   0.014952 | used_time: 3693.551376\n"
     ]
    },
    {
     "name": "stderr",
     "output_type": "stream",
     "text": [
      "5011it [1:01:54,  1.35it/s]\n"
     ]
    },
    {
     "name": "stdout",
     "output_type": "stream",
     "text": [
      "[458/2000]\t Image Loss:   0.108770 | trackingLoss:   0.014953 | used_time: 3714.299633\n"
     ]
    },
    {
     "name": "stderr",
     "output_type": "stream",
     "text": [
      "5011it [1:02:05,  1.35it/s]\n"
     ]
    },
    {
     "name": "stdout",
     "output_type": "stream",
     "text": [
      "[459/2000]\t Image Loss:   0.106662 | trackingLoss:   0.014947 | used_time: 3725.556010\n"
     ]
    },
    {
     "name": "stderr",
     "output_type": "stream",
     "text": [
      "5011it [1:02:22,  1.34it/s]\n"
     ]
    },
    {
     "name": "stdout",
     "output_type": "stream",
     "text": [
      "[460/2000]\t Image Loss:   0.108146 | trackingLoss:   0.014950 | used_time: 3742.982589\n"
     ]
    },
    {
     "name": "stderr",
     "output_type": "stream",
     "text": [
      "5011it [1:07:21,  1.24it/s]\n"
     ]
    },
    {
     "name": "stdout",
     "output_type": "stream",
     "text": [
      "[461/2000]\t Image Loss:   0.107412 | trackingLoss:   0.014949 | used_time: 4041.188580\n"
     ]
    },
    {
     "name": "stderr",
     "output_type": "stream",
     "text": [
      "5011it [1:08:32,  1.22it/s]\n"
     ]
    },
    {
     "name": "stdout",
     "output_type": "stream",
     "text": [
      "[462/2000]\t Image Loss:   0.106587 | trackingLoss:   0.014948 | used_time: 4112.436688\n"
     ]
    },
    {
     "name": "stderr",
     "output_type": "stream",
     "text": [
      "5011it [1:08:23,  1.22it/s]\n"
     ]
    },
    {
     "name": "stdout",
     "output_type": "stream",
     "text": [
      "[463/2000]\t Image Loss:   0.106374 | trackingLoss:   0.014948 | used_time: 4104.066003\n"
     ]
    },
    {
     "name": "stderr",
     "output_type": "stream",
     "text": [
      "5011it [1:08:04,  1.23it/s]\n"
     ]
    },
    {
     "name": "stdout",
     "output_type": "stream",
     "text": [
      "[464/2000]\t Image Loss:   0.106365 | trackingLoss:   0.014945 | used_time: 4084.689784\n"
     ]
    },
    {
     "name": "stderr",
     "output_type": "stream",
     "text": [
      "5011it [1:03:14,  1.32it/s]\n"
     ]
    },
    {
     "name": "stdout",
     "output_type": "stream",
     "text": [
      "[465/2000]\t Image Loss:   0.107146 | trackingLoss:   0.014947 | used_time: 3795.092500\n"
     ]
    },
    {
     "name": "stderr",
     "output_type": "stream",
     "text": [
      "5011it [1:03:02,  1.32it/s]\n"
     ]
    },
    {
     "name": "stdout",
     "output_type": "stream",
     "text": [
      "[466/2000]\t Image Loss:   0.106500 | trackingLoss:   0.014946 | used_time: 3782.495862\n"
     ]
    },
    {
     "name": "stderr",
     "output_type": "stream",
     "text": [
      "5011it [1:02:55,  1.33it/s]\n"
     ]
    },
    {
     "name": "stdout",
     "output_type": "stream",
     "text": [
      "[467/2000]\t Image Loss:   0.107411 | trackingLoss:   0.014950 | used_time: 3776.121675\n"
     ]
    },
    {
     "name": "stderr",
     "output_type": "stream",
     "text": [
      "5011it [1:02:49,  1.33it/s]\n"
     ]
    },
    {
     "name": "stdout",
     "output_type": "stream",
     "text": [
      "[468/2000]\t Image Loss:   0.106645 | trackingLoss:   0.014951 | used_time: 3769.304395\n"
     ]
    },
    {
     "name": "stderr",
     "output_type": "stream",
     "text": [
      "5011it [1:02:51,  1.33it/s]\n"
     ]
    },
    {
     "name": "stdout",
     "output_type": "stream",
     "text": [
      "[469/2000]\t Image Loss:   0.106560 | trackingLoss:   0.014952 | used_time: 3771.355337\n"
     ]
    },
    {
     "name": "stderr",
     "output_type": "stream",
     "text": [
      "5011it [1:02:38,  1.33it/s]\n"
     ]
    },
    {
     "name": "stdout",
     "output_type": "stream",
     "text": [
      "[470/2000]\t Image Loss:   0.106045 | trackingLoss:   0.014949 | used_time: 3758.576596\n"
     ]
    },
    {
     "name": "stderr",
     "output_type": "stream",
     "text": [
      "5011it [1:02:37,  1.33it/s]\n"
     ]
    },
    {
     "name": "stdout",
     "output_type": "stream",
     "text": [
      "[471/2000]\t Image Loss:   0.106151 | trackingLoss:   0.014947 | used_time: 3757.220290\n"
     ]
    },
    {
     "name": "stderr",
     "output_type": "stream",
     "text": [
      "5011it [1:02:33,  1.33it/s]\n"
     ]
    },
    {
     "name": "stdout",
     "output_type": "stream",
     "text": [
      "[472/2000]\t Image Loss:   0.107209 | trackingLoss:   0.014947 | used_time: 3753.750868\n"
     ]
    },
    {
     "name": "stderr",
     "output_type": "stream",
     "text": [
      "5011it [1:02:27,  1.34it/s]\n"
     ]
    },
    {
     "name": "stdout",
     "output_type": "stream",
     "text": [
      "[473/2000]\t Image Loss:   0.106639 | trackingLoss:   0.014952 | used_time: 3747.765089\n"
     ]
    },
    {
     "name": "stderr",
     "output_type": "stream",
     "text": [
      "5011it [1:02:27,  1.34it/s]\n"
     ]
    },
    {
     "name": "stdout",
     "output_type": "stream",
     "text": [
      "[474/2000]\t Image Loss:   0.107574 | trackingLoss:   0.014950 | used_time: 3747.580911\n"
     ]
    },
    {
     "name": "stderr",
     "output_type": "stream",
     "text": [
      "5011it [1:02:30,  1.34it/s]\n"
     ]
    },
    {
     "name": "stdout",
     "output_type": "stream",
     "text": [
      "[475/2000]\t Image Loss:   0.106568 | trackingLoss:   0.014948 | used_time: 3751.022380\n"
     ]
    },
    {
     "name": "stderr",
     "output_type": "stream",
     "text": [
      "5011it [1:02:38,  1.33it/s]\n"
     ]
    },
    {
     "name": "stdout",
     "output_type": "stream",
     "text": [
      "[476/2000]\t Image Loss:   0.105659 | trackingLoss:   0.014950 | used_time: 3758.899003\n"
     ]
    },
    {
     "name": "stderr",
     "output_type": "stream",
     "text": [
      "5011it [1:03:04,  1.32it/s]\n"
     ]
    },
    {
     "name": "stdout",
     "output_type": "stream",
     "text": [
      "[477/2000]\t Image Loss:   0.105583 | trackingLoss:   0.014946 | used_time: 3784.558759\n"
     ]
    },
    {
     "name": "stderr",
     "output_type": "stream",
     "text": [
      "5011it [1:03:23,  1.32it/s]\n"
     ]
    },
    {
     "name": "stdout",
     "output_type": "stream",
     "text": [
      "[478/2000]\t Image Loss:   0.105648 | trackingLoss:   0.014952 | used_time: 3803.993739\n"
     ]
    },
    {
     "name": "stderr",
     "output_type": "stream",
     "text": [
      "5011it [1:03:27,  1.32it/s]\n"
     ]
    },
    {
     "name": "stdout",
     "output_type": "stream",
     "text": [
      "[479/2000]\t Image Loss:   0.106376 | trackingLoss:   0.014950 | used_time: 3807.626345\n"
     ]
    },
    {
     "name": "stderr",
     "output_type": "stream",
     "text": [
      "5011it [1:03:32,  1.31it/s]\n"
     ]
    },
    {
     "name": "stdout",
     "output_type": "stream",
     "text": [
      "[480/2000]\t Image Loss:   0.107090 | trackingLoss:   0.014955 | used_time: 3812.208749\n"
     ]
    },
    {
     "name": "stderr",
     "output_type": "stream",
     "text": [
      "5011it [1:03:37,  1.31it/s]\n"
     ]
    },
    {
     "name": "stdout",
     "output_type": "stream",
     "text": [
      "[481/2000]\t Image Loss:   0.105185 | trackingLoss:   0.014952 | used_time: 3817.400223\n"
     ]
    },
    {
     "name": "stderr",
     "output_type": "stream",
     "text": [
      "5011it [1:03:45,  1.31it/s]\n"
     ]
    },
    {
     "name": "stdout",
     "output_type": "stream",
     "text": [
      "[482/2000]\t Image Loss:   0.105745 | trackingLoss:   0.014951 | used_time: 3825.450741\n"
     ]
    },
    {
     "name": "stderr",
     "output_type": "stream",
     "text": [
      "5011it [1:04:14,  1.30it/s]\n"
     ]
    },
    {
     "name": "stdout",
     "output_type": "stream",
     "text": [
      "[483/2000]\t Image Loss:   0.105452 | trackingLoss:   0.014949 | used_time: 3854.987006\n"
     ]
    },
    {
     "name": "stderr",
     "output_type": "stream",
     "text": [
      "5011it [1:04:14,  1.30it/s]\n"
     ]
    },
    {
     "name": "stdout",
     "output_type": "stream",
     "text": [
      "[484/2000]\t Image Loss:   0.105978 | trackingLoss:   0.014949 | used_time: 3854.158916\n"
     ]
    },
    {
     "name": "stderr",
     "output_type": "stream",
     "text": [
      "5011it [1:03:50,  1.31it/s]\n"
     ]
    },
    {
     "name": "stdout",
     "output_type": "stream",
     "text": [
      "[485/2000]\t Image Loss:   0.105730 | trackingLoss:   0.014949 | used_time: 3830.408880\n"
     ]
    },
    {
     "name": "stderr",
     "output_type": "stream",
     "text": [
      "5011it [1:03:56,  1.31it/s]\n"
     ]
    },
    {
     "name": "stdout",
     "output_type": "stream",
     "text": [
      "[486/2000]\t Image Loss:   0.106759 | trackingLoss:   0.014951 | used_time: 3836.807185\n"
     ]
    },
    {
     "name": "stderr",
     "output_type": "stream",
     "text": [
      "5011it [1:04:05,  1.30it/s]\n"
     ]
    },
    {
     "name": "stdout",
     "output_type": "stream",
     "text": [
      "[487/2000]\t Image Loss:   0.105313 | trackingLoss:   0.014949 | used_time: 3845.734119\n"
     ]
    },
    {
     "name": "stderr",
     "output_type": "stream",
     "text": [
      "5011it [1:04:19,  1.30it/s]\n"
     ]
    },
    {
     "name": "stdout",
     "output_type": "stream",
     "text": [
      "[488/2000]\t Image Loss:   0.106160 | trackingLoss:   0.014951 | used_time: 3860.143721\n"
     ]
    },
    {
     "name": "stderr",
     "output_type": "stream",
     "text": [
      "5011it [1:04:31,  1.29it/s]\n"
     ]
    },
    {
     "name": "stdout",
     "output_type": "stream",
     "text": [
      "[489/2000]\t Image Loss:   0.106171 | trackingLoss:   0.014951 | used_time: 3871.510133\n"
     ]
    },
    {
     "name": "stderr",
     "output_type": "stream",
     "text": [
      "5011it [1:04:34,  1.29it/s]\n"
     ]
    },
    {
     "name": "stdout",
     "output_type": "stream",
     "text": [
      "[490/2000]\t Image Loss:   0.107240 | trackingLoss:   0.014952 | used_time: 3874.712128\n"
     ]
    },
    {
     "name": "stderr",
     "output_type": "stream",
     "text": [
      "5011it [1:04:38,  1.29it/s]\n"
     ]
    },
    {
     "name": "stdout",
     "output_type": "stream",
     "text": [
      "[491/2000]\t Image Loss:   0.106080 | trackingLoss:   0.014952 | used_time: 3878.288923\n"
     ]
    },
    {
     "name": "stderr",
     "output_type": "stream",
     "text": [
      "5011it [1:04:29,  1.30it/s]\n"
     ]
    },
    {
     "name": "stdout",
     "output_type": "stream",
     "text": [
      "[492/2000]\t Image Loss:   0.105328 | trackingLoss:   0.014951 | used_time: 3869.395909\n"
     ]
    },
    {
     "name": "stderr",
     "output_type": "stream",
     "text": [
      "5011it [1:04:14,  1.30it/s]\n"
     ]
    },
    {
     "name": "stdout",
     "output_type": "stream",
     "text": [
      "[493/2000]\t Image Loss:   0.105068 | trackingLoss:   0.014949 | used_time: 3854.381833\n"
     ]
    },
    {
     "name": "stderr",
     "output_type": "stream",
     "text": [
      "5011it [1:04:06,  1.30it/s]\n"
     ]
    },
    {
     "name": "stdout",
     "output_type": "stream",
     "text": [
      "[494/2000]\t Image Loss:   0.104797 | trackingLoss:   0.014948 | used_time: 3846.337406\n"
     ]
    },
    {
     "name": "stderr",
     "output_type": "stream",
     "text": [
      "5011it [1:03:56,  1.31it/s]\n"
     ]
    },
    {
     "name": "stdout",
     "output_type": "stream",
     "text": [
      "[495/2000]\t Image Loss:   0.104860 | trackingLoss:   0.014948 | used_time: 3837.024319\n"
     ]
    },
    {
     "name": "stderr",
     "output_type": "stream",
     "text": [
      "5011it [1:04:00,  1.30it/s]\n"
     ]
    },
    {
     "name": "stdout",
     "output_type": "stream",
     "text": [
      "[496/2000]\t Image Loss:   0.104371 | trackingLoss:   0.014949 | used_time: 3840.703828\n"
     ]
    },
    {
     "name": "stderr",
     "output_type": "stream",
     "text": [
      "5011it [1:03:56,  1.31it/s]\n"
     ]
    },
    {
     "name": "stdout",
     "output_type": "stream",
     "text": [
      "[497/2000]\t Image Loss:   0.105006 | trackingLoss:   0.014951 | used_time: 3836.787510\n"
     ]
    },
    {
     "name": "stderr",
     "output_type": "stream",
     "text": [
      "5011it [1:03:56,  1.31it/s]\n"
     ]
    },
    {
     "name": "stdout",
     "output_type": "stream",
     "text": [
      "[498/2000]\t Image Loss:   0.104789 | trackingLoss:   0.014953 | used_time: 3837.142378\n"
     ]
    },
    {
     "name": "stderr",
     "output_type": "stream",
     "text": [
      "5011it [1:04:00,  1.30it/s]\n"
     ]
    },
    {
     "name": "stdout",
     "output_type": "stream",
     "text": [
      "[499/2000]\t Image Loss:   0.104612 | trackingLoss:   0.014952 | used_time: 3840.415769\n"
     ]
    },
    {
     "name": "stderr",
     "output_type": "stream",
     "text": [
      "5011it [1:04:05,  1.30it/s]\n"
     ]
    },
    {
     "name": "stdout",
     "output_type": "stream",
     "text": [
      "[500/2000]\t Image Loss:   0.104346 | trackingLoss:   0.014946 | used_time: 3845.283548\n"
     ]
    },
    {
     "name": "stderr",
     "output_type": "stream",
     "text": [
      "5011it [1:04:12,  1.30it/s]\n"
     ]
    },
    {
     "name": "stdout",
     "output_type": "stream",
     "text": [
      "[501/2000]\t Image Loss:   0.104159 | trackingLoss:   0.014946 | used_time: 3852.618794\n"
     ]
    },
    {
     "name": "stderr",
     "output_type": "stream",
     "text": [
      "5011it [1:04:04,  1.30it/s]\n"
     ]
    },
    {
     "name": "stdout",
     "output_type": "stream",
     "text": [
      "[502/2000]\t Image Loss:   0.105177 | trackingLoss:   0.014948 | used_time: 3844.751507\n"
     ]
    },
    {
     "name": "stderr",
     "output_type": "stream",
     "text": [
      "5011it [1:03:56,  1.31it/s]\n"
     ]
    },
    {
     "name": "stdout",
     "output_type": "stream",
     "text": [
      "[503/2000]\t Image Loss:   0.105122 | trackingLoss:   0.014946 | used_time: 3836.652376\n"
     ]
    },
    {
     "name": "stderr",
     "output_type": "stream",
     "text": [
      "5011it [1:03:44,  1.31it/s]\n"
     ]
    },
    {
     "name": "stdout",
     "output_type": "stream",
     "text": [
      "[504/2000]\t Image Loss:   0.104860 | trackingLoss:   0.014950 | used_time: 3824.388600\n"
     ]
    },
    {
     "name": "stderr",
     "output_type": "stream",
     "text": [
      "5011it [1:03:58,  1.31it/s]\n"
     ]
    },
    {
     "name": "stdout",
     "output_type": "stream",
     "text": [
      "[505/2000]\t Image Loss:   0.104780 | trackingLoss:   0.014948 | used_time: 3838.956286\n"
     ]
    },
    {
     "name": "stderr",
     "output_type": "stream",
     "text": [
      "5011it [1:04:33,  1.29it/s]\n"
     ]
    },
    {
     "name": "stdout",
     "output_type": "stream",
     "text": [
      "[506/2000]\t Image Loss:   0.105485 | trackingLoss:   0.014948 | used_time: 3873.602182\n"
     ]
    },
    {
     "name": "stderr",
     "output_type": "stream",
     "text": [
      "5011it [1:04:53,  1.29it/s]\n"
     ]
    },
    {
     "name": "stdout",
     "output_type": "stream",
     "text": [
      "[507/2000]\t Image Loss:   0.106703 | trackingLoss:   0.014952 | used_time: 3893.881565\n"
     ]
    },
    {
     "name": "stderr",
     "output_type": "stream",
     "text": [
      "5011it [1:03:45,  1.31it/s]\n"
     ]
    },
    {
     "name": "stdout",
     "output_type": "stream",
     "text": [
      "[508/2000]\t Image Loss:   0.108409 | trackingLoss:   0.014955 | used_time: 3825.452667\n"
     ]
    },
    {
     "name": "stderr",
     "output_type": "stream",
     "text": [
      "5011it [1:03:52,  1.31it/s]\n"
     ]
    },
    {
     "name": "stdout",
     "output_type": "stream",
     "text": [
      "[509/2000]\t Image Loss:   0.106894 | trackingLoss:   0.014956 | used_time: 3832.969902\n"
     ]
    },
    {
     "name": "stderr",
     "output_type": "stream",
     "text": [
      "5011it [1:04:36,  1.29it/s]\n"
     ]
    },
    {
     "name": "stdout",
     "output_type": "stream",
     "text": [
      "[510/2000]\t Image Loss:   0.106548 | trackingLoss:   0.014954 | used_time: 3876.632794\n"
     ]
    },
    {
     "name": "stderr",
     "output_type": "stream",
     "text": [
      "5011it [1:04:27,  1.30it/s]\n"
     ]
    },
    {
     "name": "stdout",
     "output_type": "stream",
     "text": [
      "[511/2000]\t Image Loss:   0.105712 | trackingLoss:   0.014953 | used_time: 3868.014204\n"
     ]
    },
    {
     "name": "stderr",
     "output_type": "stream",
     "text": [
      "5011it [1:05:04,  1.28it/s]\n"
     ]
    },
    {
     "name": "stdout",
     "output_type": "stream",
     "text": [
      "[512/2000]\t Image Loss:   0.105579 | trackingLoss:   0.014953 | used_time: 3904.535447\n"
     ]
    },
    {
     "name": "stderr",
     "output_type": "stream",
     "text": [
      "5011it [1:05:02,  1.28it/s]\n"
     ]
    },
    {
     "name": "stdout",
     "output_type": "stream",
     "text": [
      "[513/2000]\t Image Loss:   0.105691 | trackingLoss:   0.014950 | used_time: 3902.390460\n"
     ]
    },
    {
     "name": "stderr",
     "output_type": "stream",
     "text": [
      "5011it [1:05:07,  1.28it/s]\n"
     ]
    },
    {
     "name": "stdout",
     "output_type": "stream",
     "text": [
      "[514/2000]\t Image Loss:   0.105527 | trackingLoss:   0.014952 | used_time: 3907.399457\n"
     ]
    },
    {
     "name": "stderr",
     "output_type": "stream",
     "text": [
      "5011it [1:05:10,  1.28it/s]\n"
     ]
    },
    {
     "name": "stdout",
     "output_type": "stream",
     "text": [
      "[515/2000]\t Image Loss:   0.106356 | trackingLoss:   0.014952 | used_time: 3910.934830\n"
     ]
    },
    {
     "name": "stderr",
     "output_type": "stream",
     "text": [
      "5011it [1:04:41,  1.29it/s]\n"
     ]
    },
    {
     "name": "stdout",
     "output_type": "stream",
     "text": [
      "[516/2000]\t Image Loss:   0.105729 | trackingLoss:   0.014955 | used_time: 3881.771311\n"
     ]
    },
    {
     "name": "stderr",
     "output_type": "stream",
     "text": [
      "5011it [1:04:31,  1.29it/s]\n"
     ]
    },
    {
     "name": "stdout",
     "output_type": "stream",
     "text": [
      "[517/2000]\t Image Loss:   0.105469 | trackingLoss:   0.014952 | used_time: 3871.905337\n"
     ]
    },
    {
     "name": "stderr",
     "output_type": "stream",
     "text": [
      "5011it [1:04:38,  1.29it/s]\n"
     ]
    },
    {
     "name": "stdout",
     "output_type": "stream",
     "text": [
      "[518/2000]\t Image Loss:   0.105212 | trackingLoss:   0.014951 | used_time: 3878.323187\n"
     ]
    },
    {
     "name": "stderr",
     "output_type": "stream",
     "text": [
      "5011it [1:04:30,  1.29it/s]\n"
     ]
    },
    {
     "name": "stdout",
     "output_type": "stream",
     "text": [
      "[519/2000]\t Image Loss:   0.104495 | trackingLoss:   0.014952 | used_time: 3870.745791\n"
     ]
    },
    {
     "name": "stderr",
     "output_type": "stream",
     "text": [
      "5011it [1:04:40,  1.29it/s]\n"
     ]
    },
    {
     "name": "stdout",
     "output_type": "stream",
     "text": [
      "[520/2000]\t Image Loss:   0.103669 | trackingLoss:   0.014946 | used_time: 3880.606627\n"
     ]
    },
    {
     "name": "stderr",
     "output_type": "stream",
     "text": [
      "5011it [1:05:22,  1.28it/s]\n"
     ]
    },
    {
     "name": "stdout",
     "output_type": "stream",
     "text": [
      "[521/2000]\t Image Loss:   0.103783 | trackingLoss:   0.014946 | used_time: 3922.938175\n"
     ]
    },
    {
     "name": "stderr",
     "output_type": "stream",
     "text": [
      "5011it [1:05:37,  1.27it/s]\n"
     ]
    },
    {
     "name": "stdout",
     "output_type": "stream",
     "text": [
      "[522/2000]\t Image Loss:   0.104145 | trackingLoss:   0.014951 | used_time: 3937.187757\n"
     ]
    },
    {
     "name": "stderr",
     "output_type": "stream",
     "text": [
      "5011it [1:05:51,  1.27it/s]\n"
     ]
    },
    {
     "name": "stdout",
     "output_type": "stream",
     "text": [
      "[523/2000]\t Image Loss:   0.103996 | trackingLoss:   0.014946 | used_time: 3951.595890\n"
     ]
    },
    {
     "name": "stderr",
     "output_type": "stream",
     "text": [
      "5011it [1:06:01,  1.27it/s]\n"
     ]
    },
    {
     "name": "stdout",
     "output_type": "stream",
     "text": [
      "[524/2000]\t Image Loss:   0.103828 | trackingLoss:   0.014945 | used_time: 3961.333171\n"
     ]
    },
    {
     "name": "stderr",
     "output_type": "stream",
     "text": [
      "5011it [1:05:59,  1.27it/s]\n"
     ]
    },
    {
     "name": "stdout",
     "output_type": "stream",
     "text": [
      "[525/2000]\t Image Loss:   0.104331 | trackingLoss:   0.014948 | used_time: 3959.243572\n"
     ]
    },
    {
     "name": "stderr",
     "output_type": "stream",
     "text": [
      "5011it [1:05:31,  1.27it/s]\n"
     ]
    },
    {
     "name": "stdout",
     "output_type": "stream",
     "text": [
      "[526/2000]\t Image Loss:   0.106298 | trackingLoss:   0.014950 | used_time: 3931.784626\n"
     ]
    },
    {
     "name": "stderr",
     "output_type": "stream",
     "text": [
      "5011it [1:04:22,  1.30it/s]\n"
     ]
    },
    {
     "name": "stdout",
     "output_type": "stream",
     "text": [
      "[527/2000]\t Image Loss:   0.105099 | trackingLoss:   0.014950 | used_time: 3862.333691\n"
     ]
    },
    {
     "name": "stderr",
     "output_type": "stream",
     "text": [
      "5011it [1:04:10,  1.30it/s]\n"
     ]
    },
    {
     "name": "stdout",
     "output_type": "stream",
     "text": [
      "[528/2000]\t Image Loss:   0.105131 | trackingLoss:   0.014950 | used_time: 3851.027912\n"
     ]
    },
    {
     "name": "stderr",
     "output_type": "stream",
     "text": [
      "5011it [1:04:10,  1.30it/s]\n"
     ]
    },
    {
     "name": "stdout",
     "output_type": "stream",
     "text": [
      "[529/2000]\t Image Loss:   0.105339 | trackingLoss:   0.014952 | used_time: 3850.145669\n"
     ]
    },
    {
     "name": "stderr",
     "output_type": "stream",
     "text": [
      "5011it [1:03:21,  1.32it/s]\n"
     ]
    },
    {
     "name": "stdout",
     "output_type": "stream",
     "text": [
      "[530/2000]\t Image Loss:   0.103897 | trackingLoss:   0.014945 | used_time: 3801.486503\n"
     ]
    },
    {
     "name": "stderr",
     "output_type": "stream",
     "text": [
      "5011it [1:02:45,  1.33it/s]\n"
     ]
    },
    {
     "name": "stdout",
     "output_type": "stream",
     "text": [
      "[531/2000]\t Image Loss:   0.103858 | trackingLoss:   0.014948 | used_time: 3765.603985\n"
     ]
    },
    {
     "name": "stderr",
     "output_type": "stream",
     "text": [
      "5011it [1:02:54,  1.33it/s]\n"
     ]
    },
    {
     "name": "stdout",
     "output_type": "stream",
     "text": [
      "[532/2000]\t Image Loss:   0.104272 | trackingLoss:   0.014948 | used_time: 3774.997808\n"
     ]
    },
    {
     "name": "stderr",
     "output_type": "stream",
     "text": [
      "5011it [1:03:08,  1.32it/s]\n"
     ]
    },
    {
     "name": "stdout",
     "output_type": "stream",
     "text": [
      "[533/2000]\t Image Loss:   0.104313 | trackingLoss:   0.014951 | used_time: 3789.057162\n"
     ]
    },
    {
     "name": "stderr",
     "output_type": "stream",
     "text": [
      "5011it [1:03:26,  1.32it/s]\n"
     ]
    },
    {
     "name": "stdout",
     "output_type": "stream",
     "text": [
      "[534/2000]\t Image Loss:   0.103919 | trackingLoss:   0.014946 | used_time: 3806.544655\n"
     ]
    },
    {
     "name": "stderr",
     "output_type": "stream",
     "text": [
      "5011it [1:03:19,  1.32it/s]\n"
     ]
    },
    {
     "name": "stdout",
     "output_type": "stream",
     "text": [
      "[535/2000]\t Image Loss:   0.104309 | trackingLoss:   0.014948 | used_time: 3799.271886\n"
     ]
    },
    {
     "name": "stderr",
     "output_type": "stream",
     "text": [
      "5011it [1:03:38,  1.31it/s]\n"
     ]
    },
    {
     "name": "stdout",
     "output_type": "stream",
     "text": [
      "[536/2000]\t Image Loss:   0.104847 | trackingLoss:   0.014951 | used_time: 3818.873949\n"
     ]
    },
    {
     "name": "stderr",
     "output_type": "stream",
     "text": [
      "5011it [1:03:38,  1.31it/s]\n"
     ]
    },
    {
     "name": "stdout",
     "output_type": "stream",
     "text": [
      "[537/2000]\t Image Loss:   0.104445 | trackingLoss:   0.014951 | used_time: 3818.794454\n"
     ]
    },
    {
     "name": "stderr",
     "output_type": "stream",
     "text": [
      "5011it [1:03:37,  1.31it/s]\n"
     ]
    },
    {
     "name": "stdout",
     "output_type": "stream",
     "text": [
      "[538/2000]\t Image Loss:   0.103852 | trackingLoss:   0.014948 | used_time: 3817.653117\n"
     ]
    },
    {
     "name": "stderr",
     "output_type": "stream",
     "text": [
      "5011it [1:03:37,  1.31it/s]\n"
     ]
    },
    {
     "name": "stdout",
     "output_type": "stream",
     "text": [
      "[539/2000]\t Image Loss:   0.104136 | trackingLoss:   0.014948 | used_time: 3817.939933\n"
     ]
    },
    {
     "name": "stderr",
     "output_type": "stream",
     "text": [
      "5011it [1:03:17,  1.32it/s]\n"
     ]
    },
    {
     "name": "stdout",
     "output_type": "stream",
     "text": [
      "[540/2000]\t Image Loss:   0.103579 | trackingLoss:   0.014948 | used_time: 3797.736607\n"
     ]
    },
    {
     "name": "stderr",
     "output_type": "stream",
     "text": [
      "5011it [1:03:13,  1.32it/s]\n"
     ]
    },
    {
     "name": "stdout",
     "output_type": "stream",
     "text": [
      "[541/2000]\t Image Loss:   0.103676 | trackingLoss:   0.014946 | used_time: 3793.500808\n"
     ]
    },
    {
     "name": "stderr",
     "output_type": "stream",
     "text": [
      "5011it [1:03:08,  1.32it/s]\n"
     ]
    },
    {
     "name": "stdout",
     "output_type": "stream",
     "text": [
      "[542/2000]\t Image Loss:   0.107343 | trackingLoss:   0.014951 | used_time: 3788.823440\n"
     ]
    },
    {
     "name": "stderr",
     "output_type": "stream",
     "text": [
      "5011it [1:02:55,  1.33it/s]\n"
     ]
    },
    {
     "name": "stdout",
     "output_type": "stream",
     "text": [
      "[543/2000]\t Image Loss:   0.104997 | trackingLoss:   0.014947 | used_time: 3775.809352\n"
     ]
    },
    {
     "name": "stderr",
     "output_type": "stream",
     "text": [
      "5011it [1:02:52,  1.33it/s]\n"
     ]
    },
    {
     "name": "stdout",
     "output_type": "stream",
     "text": [
      "[544/2000]\t Image Loss:   0.103682 | trackingLoss:   0.014948 | used_time: 3772.403313\n"
     ]
    },
    {
     "name": "stderr",
     "output_type": "stream",
     "text": [
      "5011it [1:02:54,  1.33it/s]\n"
     ]
    },
    {
     "name": "stdout",
     "output_type": "stream",
     "text": [
      "[545/2000]\t Image Loss:   0.103700 | trackingLoss:   0.014948 | used_time: 3774.339985\n"
     ]
    },
    {
     "name": "stderr",
     "output_type": "stream",
     "text": [
      "5011it [1:03:00,  1.33it/s]\n"
     ]
    },
    {
     "name": "stdout",
     "output_type": "stream",
     "text": [
      "[546/2000]\t Image Loss:   0.103747 | trackingLoss:   0.014947 | used_time: 3780.452393\n"
     ]
    },
    {
     "name": "stderr",
     "output_type": "stream",
     "text": [
      "5011it [1:02:54,  1.33it/s]\n"
     ]
    },
    {
     "name": "stdout",
     "output_type": "stream",
     "text": [
      "[547/2000]\t Image Loss:   0.103095 | trackingLoss:   0.014947 | used_time: 3774.696204\n"
     ]
    },
    {
     "name": "stderr",
     "output_type": "stream",
     "text": [
      "5011it [1:02:45,  1.33it/s]\n"
     ]
    },
    {
     "name": "stdout",
     "output_type": "stream",
     "text": [
      "[548/2000]\t Image Loss:   0.103643 | trackingLoss:   0.014944 | used_time: 3766.000906\n"
     ]
    },
    {
     "name": "stderr",
     "output_type": "stream",
     "text": [
      "5011it [1:02:40,  1.33it/s]\n"
     ]
    },
    {
     "name": "stdout",
     "output_type": "stream",
     "text": [
      "[549/2000]\t Image Loss:   0.104407 | trackingLoss:   0.014946 | used_time: 3760.337197\n"
     ]
    },
    {
     "name": "stderr",
     "output_type": "stream",
     "text": [
      "5011it [1:02:37,  1.33it/s]\n"
     ]
    },
    {
     "name": "stdout",
     "output_type": "stream",
     "text": [
      "[550/2000]\t Image Loss:   0.103886 | trackingLoss:   0.014946 | used_time: 3757.677100\n"
     ]
    },
    {
     "name": "stderr",
     "output_type": "stream",
     "text": [
      "5011it [1:02:55,  1.33it/s]\n"
     ]
    },
    {
     "name": "stdout",
     "output_type": "stream",
     "text": [
      "[551/2000]\t Image Loss:   0.103365 | trackingLoss:   0.014944 | used_time: 3776.102214\n"
     ]
    },
    {
     "name": "stderr",
     "output_type": "stream",
     "text": [
      "5011it [1:03:10,  1.32it/s]\n"
     ]
    },
    {
     "name": "stdout",
     "output_type": "stream",
     "text": [
      "[552/2000]\t Image Loss:   0.103353 | trackingLoss:   0.014945 | used_time: 3790.862678\n"
     ]
    },
    {
     "name": "stderr",
     "output_type": "stream",
     "text": [
      "5011it [1:03:06,  1.32it/s]\n"
     ]
    },
    {
     "name": "stdout",
     "output_type": "stream",
     "text": [
      "[553/2000]\t Image Loss:   0.103039 | trackingLoss:   0.014943 | used_time: 3786.818630\n"
     ]
    },
    {
     "name": "stderr",
     "output_type": "stream",
     "text": [
      "5011it [1:03:06,  1.32it/s]\n"
     ]
    },
    {
     "name": "stdout",
     "output_type": "stream",
     "text": [
      "[554/2000]\t Image Loss:   0.102402 | trackingLoss:   0.014946 | used_time: 3786.235107\n"
     ]
    },
    {
     "name": "stderr",
     "output_type": "stream",
     "text": [
      "5011it [1:02:55,  1.33it/s]\n"
     ]
    },
    {
     "name": "stdout",
     "output_type": "stream",
     "text": [
      "[555/2000]\t Image Loss:   0.103084 | trackingLoss:   0.014946 | used_time: 3775.566802\n"
     ]
    },
    {
     "name": "stderr",
     "output_type": "stream",
     "text": [
      "5011it [1:02:38,  1.33it/s]\n"
     ]
    },
    {
     "name": "stdout",
     "output_type": "stream",
     "text": [
      "[556/2000]\t Image Loss:   0.102752 | trackingLoss:   0.014942 | used_time: 3758.417598\n"
     ]
    },
    {
     "name": "stderr",
     "output_type": "stream",
     "text": [
      "5011it [1:02:33,  1.33it/s]\n"
     ]
    },
    {
     "name": "stdout",
     "output_type": "stream",
     "text": [
      "[557/2000]\t Image Loss:   0.105508 | trackingLoss:   0.014952 | used_time: 3753.857489\n"
     ]
    },
    {
     "name": "stderr",
     "output_type": "stream",
     "text": [
      "5011it [1:02:40,  1.33it/s]\n"
     ]
    },
    {
     "name": "stdout",
     "output_type": "stream",
     "text": [
      "[558/2000]\t Image Loss:   0.103677 | trackingLoss:   0.014950 | used_time: 3760.821859\n"
     ]
    },
    {
     "name": "stderr",
     "output_type": "stream",
     "text": [
      "5011it [1:02:38,  1.33it/s]\n"
     ]
    },
    {
     "name": "stdout",
     "output_type": "stream",
     "text": [
      "[559/2000]\t Image Loss:   0.103861 | trackingLoss:   0.014950 | used_time: 3758.769881\n"
     ]
    },
    {
     "name": "stderr",
     "output_type": "stream",
     "text": [
      "5011it [1:02:37,  1.33it/s]\n"
     ]
    },
    {
     "name": "stdout",
     "output_type": "stream",
     "text": [
      "[560/2000]\t Image Loss:   0.102711 | trackingLoss:   0.014946 | used_time: 3757.973026\n"
     ]
    },
    {
     "name": "stderr",
     "output_type": "stream",
     "text": [
      "5011it [1:02:41,  1.33it/s]\n"
     ]
    },
    {
     "name": "stdout",
     "output_type": "stream",
     "text": [
      "[561/2000]\t Image Loss:   0.102687 | trackingLoss:   0.014949 | used_time: 3761.839962\n"
     ]
    },
    {
     "name": "stderr",
     "output_type": "stream",
     "text": [
      "5011it [1:02:39,  1.33it/s]\n"
     ]
    },
    {
     "name": "stdout",
     "output_type": "stream",
     "text": [
      "[562/2000]\t Image Loss:   0.102258 | trackingLoss:   0.014946 | used_time: 3760.036401\n"
     ]
    },
    {
     "name": "stderr",
     "output_type": "stream",
     "text": [
      "5011it [1:02:31,  1.34it/s]\n"
     ]
    },
    {
     "name": "stdout",
     "output_type": "stream",
     "text": [
      "[563/2000]\t Image Loss:   0.102389 | trackingLoss:   0.014943 | used_time: 3751.545331\n"
     ]
    },
    {
     "name": "stderr",
     "output_type": "stream",
     "text": [
      "5011it [1:02:18,  1.34it/s]\n"
     ]
    },
    {
     "name": "stdout",
     "output_type": "stream",
     "text": [
      "[564/2000]\t Image Loss:   0.102523 | trackingLoss:   0.014945 | used_time: 3739.105684\n"
     ]
    },
    {
     "name": "stderr",
     "output_type": "stream",
     "text": [
      "5011it [1:02:18,  1.34it/s]\n"
     ]
    },
    {
     "name": "stdout",
     "output_type": "stream",
     "text": [
      "[565/2000]\t Image Loss:   0.102602 | trackingLoss:   0.014946 | used_time: 3738.772906\n"
     ]
    },
    {
     "name": "stderr",
     "output_type": "stream",
     "text": [
      "5011it [1:02:15,  1.34it/s]\n"
     ]
    },
    {
     "name": "stdout",
     "output_type": "stream",
     "text": [
      "[566/2000]\t Image Loss:   0.102603 | trackingLoss:   0.014946 | used_time: 3735.492383\n"
     ]
    },
    {
     "name": "stderr",
     "output_type": "stream",
     "text": [
      "5011it [1:02:20,  1.34it/s]\n"
     ]
    },
    {
     "name": "stdout",
     "output_type": "stream",
     "text": [
      "[567/2000]\t Image Loss:   0.102234 | trackingLoss:   0.014943 | used_time: 3740.433632\n"
     ]
    },
    {
     "name": "stderr",
     "output_type": "stream",
     "text": [
      "5011it [1:02:33,  1.34it/s]\n"
     ]
    },
    {
     "name": "stdout",
     "output_type": "stream",
     "text": [
      "[568/2000]\t Image Loss:   0.102053 | trackingLoss:   0.014944 | used_time: 3753.319191\n"
     ]
    },
    {
     "name": "stderr",
     "output_type": "stream",
     "text": [
      "5011it [1:02:42,  1.33it/s]\n"
     ]
    },
    {
     "name": "stdout",
     "output_type": "stream",
     "text": [
      "[569/2000]\t Image Loss:   0.102431 | trackingLoss:   0.014948 | used_time: 3762.334509\n"
     ]
    },
    {
     "name": "stderr",
     "output_type": "stream",
     "text": [
      "5011it [1:02:30,  1.34it/s]\n"
     ]
    },
    {
     "name": "stdout",
     "output_type": "stream",
     "text": [
      "[570/2000]\t Image Loss:   0.102735 | trackingLoss:   0.014946 | used_time: 3750.505809\n"
     ]
    },
    {
     "name": "stderr",
     "output_type": "stream",
     "text": [
      "5011it [1:02:45,  1.33it/s]\n"
     ]
    },
    {
     "name": "stdout",
     "output_type": "stream",
     "text": [
      "[571/2000]\t Image Loss:   0.103222 | trackingLoss:   0.014951 | used_time: 3765.267031\n"
     ]
    },
    {
     "name": "stderr",
     "output_type": "stream",
     "text": [
      "5011it [1:03:11,  1.32it/s]\n"
     ]
    },
    {
     "name": "stdout",
     "output_type": "stream",
     "text": [
      "[572/2000]\t Image Loss:   0.102972 | trackingLoss:   0.014945 | used_time: 3791.689130\n"
     ]
    },
    {
     "name": "stderr",
     "output_type": "stream",
     "text": [
      "5011it [1:02:59,  1.33it/s]\n"
     ]
    },
    {
     "name": "stdout",
     "output_type": "stream",
     "text": [
      "[573/2000]\t Image Loss:   0.101905 | trackingLoss:   0.014946 | used_time: 3779.883289\n"
     ]
    },
    {
     "name": "stderr",
     "output_type": "stream",
     "text": [
      "5011it [1:02:52,  1.33it/s]\n"
     ]
    },
    {
     "name": "stdout",
     "output_type": "stream",
     "text": [
      "[574/2000]\t Image Loss:   0.102184 | trackingLoss:   0.014942 | used_time: 3772.525084\n"
     ]
    },
    {
     "name": "stderr",
     "output_type": "stream",
     "text": [
      "5011it [1:02:48,  1.33it/s]\n"
     ]
    },
    {
     "name": "stdout",
     "output_type": "stream",
     "text": [
      "[575/2000]\t Image Loss:   0.102669 | trackingLoss:   0.014940 | used_time: 3768.698707\n"
     ]
    },
    {
     "name": "stderr",
     "output_type": "stream",
     "text": [
      "5011it [1:02:40,  1.33it/s]\n"
     ]
    },
    {
     "name": "stdout",
     "output_type": "stream",
     "text": [
      "[576/2000]\t Image Loss:   0.102446 | trackingLoss:   0.014944 | used_time: 3761.138247\n"
     ]
    },
    {
     "name": "stderr",
     "output_type": "stream",
     "text": [
      "5011it [1:02:47,  1.33it/s]\n"
     ]
    },
    {
     "name": "stdout",
     "output_type": "stream",
     "text": [
      "[577/2000]\t Image Loss:   0.102102 | trackingLoss:   0.014943 | used_time: 3767.748087\n"
     ]
    },
    {
     "name": "stderr",
     "output_type": "stream",
     "text": [
      "5011it [1:02:46,  1.33it/s]\n"
     ]
    },
    {
     "name": "stdout",
     "output_type": "stream",
     "text": [
      "[578/2000]\t Image Loss:   0.102067 | trackingLoss:   0.014942 | used_time: 3767.024437\n"
     ]
    },
    {
     "name": "stderr",
     "output_type": "stream",
     "text": [
      "5011it [1:02:49,  1.33it/s]\n"
     ]
    },
    {
     "name": "stdout",
     "output_type": "stream",
     "text": [
      "[579/2000]\t Image Loss:   0.102940 | trackingLoss:   0.014944 | used_time: 3769.872971\n"
     ]
    },
    {
     "name": "stderr",
     "output_type": "stream",
     "text": [
      "5011it [1:02:53,  1.33it/s]\n"
     ]
    },
    {
     "name": "stdout",
     "output_type": "stream",
     "text": [
      "[580/2000]\t Image Loss:   0.102100 | trackingLoss:   0.014944 | used_time: 3774.131738\n"
     ]
    },
    {
     "name": "stderr",
     "output_type": "stream",
     "text": [
      "5011it [1:02:52,  1.33it/s]\n"
     ]
    },
    {
     "name": "stdout",
     "output_type": "stream",
     "text": [
      "[581/2000]\t Image Loss:   0.103199 | trackingLoss:   0.014943 | used_time: 3772.422872\n"
     ]
    },
    {
     "name": "stderr",
     "output_type": "stream",
     "text": [
      "5011it [1:02:48,  1.33it/s]\n"
     ]
    },
    {
     "name": "stdout",
     "output_type": "stream",
     "text": [
      "[582/2000]\t Image Loss:   0.103119 | trackingLoss:   0.014943 | used_time: 3768.552228\n"
     ]
    },
    {
     "name": "stderr",
     "output_type": "stream",
     "text": [
      "5011it [1:02:46,  1.33it/s]\n"
     ]
    },
    {
     "name": "stdout",
     "output_type": "stream",
     "text": [
      "[583/2000]\t Image Loss:   0.103445 | trackingLoss:   0.014949 | used_time: 3767.063382\n"
     ]
    },
    {
     "name": "stderr",
     "output_type": "stream",
     "text": [
      "5011it [1:02:41,  1.33it/s]\n"
     ]
    },
    {
     "name": "stdout",
     "output_type": "stream",
     "text": [
      "[584/2000]\t Image Loss:   0.102496 | trackingLoss:   0.014943 | used_time: 3761.815317\n"
     ]
    },
    {
     "name": "stderr",
     "output_type": "stream",
     "text": [
      "5011it [1:02:37,  1.33it/s]\n"
     ]
    },
    {
     "name": "stdout",
     "output_type": "stream",
     "text": [
      "[585/2000]\t Image Loss:   0.102401 | trackingLoss:   0.014943 | used_time: 3757.673305\n"
     ]
    },
    {
     "name": "stderr",
     "output_type": "stream",
     "text": [
      "5011it [1:02:35,  1.33it/s]\n"
     ]
    },
    {
     "name": "stdout",
     "output_type": "stream",
     "text": [
      "[586/2000]\t Image Loss:   0.103325 | trackingLoss:   0.014946 | used_time: 3755.786596\n"
     ]
    },
    {
     "name": "stderr",
     "output_type": "stream",
     "text": [
      "5011it [1:02:37,  1.33it/s]\n"
     ]
    },
    {
     "name": "stdout",
     "output_type": "stream",
     "text": [
      "[587/2000]\t Image Loss:   0.102892 | trackingLoss:   0.014947 | used_time: 3757.187871\n"
     ]
    },
    {
     "name": "stderr",
     "output_type": "stream",
     "text": [
      "5011it [1:02:38,  1.33it/s]\n"
     ]
    },
    {
     "name": "stdout",
     "output_type": "stream",
     "text": [
      "[588/2000]\t Image Loss:   0.102560 | trackingLoss:   0.014942 | used_time: 3758.746004\n"
     ]
    },
    {
     "name": "stderr",
     "output_type": "stream",
     "text": [
      "5011it [1:02:42,  1.33it/s]\n"
     ]
    },
    {
     "name": "stdout",
     "output_type": "stream",
     "text": [
      "[589/2000]\t Image Loss:   0.101905 | trackingLoss:   0.014942 | used_time: 3762.300924\n"
     ]
    },
    {
     "name": "stderr",
     "output_type": "stream",
     "text": [
      "5011it [1:02:43,  1.33it/s]\n"
     ]
    },
    {
     "name": "stdout",
     "output_type": "stream",
     "text": [
      "[590/2000]\t Image Loss:   0.101981 | trackingLoss:   0.014940 | used_time: 3764.083299\n"
     ]
    },
    {
     "name": "stderr",
     "output_type": "stream",
     "text": [
      "5011it [1:02:52,  1.33it/s]\n"
     ]
    },
    {
     "name": "stdout",
     "output_type": "stream",
     "text": [
      "[591/2000]\t Image Loss:   0.103213 | trackingLoss:   0.014946 | used_time: 3772.614963\n"
     ]
    },
    {
     "name": "stderr",
     "output_type": "stream",
     "text": [
      "5011it [1:02:59,  1.33it/s]\n"
     ]
    },
    {
     "name": "stdout",
     "output_type": "stream",
     "text": [
      "[592/2000]\t Image Loss:   0.102785 | trackingLoss:   0.014942 | used_time: 3779.611988\n"
     ]
    },
    {
     "name": "stderr",
     "output_type": "stream",
     "text": [
      "5011it [1:02:53,  1.33it/s]\n"
     ]
    },
    {
     "name": "stdout",
     "output_type": "stream",
     "text": [
      "[593/2000]\t Image Loss:   0.102907 | trackingLoss:   0.014945 | used_time: 3773.828632\n"
     ]
    },
    {
     "name": "stderr",
     "output_type": "stream",
     "text": [
      "5011it [1:02:51,  1.33it/s]\n"
     ]
    },
    {
     "name": "stdout",
     "output_type": "stream",
     "text": [
      "[594/2000]\t Image Loss:   0.102317 | trackingLoss:   0.014944 | used_time: 3771.219462\n"
     ]
    },
    {
     "name": "stderr",
     "output_type": "stream",
     "text": [
      "3259it [40:49,  1.24it/s]"
     ]
    }
   ],
   "source": [
    "train()"
   ]
  },
  {
   "cell_type": "code",
   "execution_count": null,
   "metadata": {},
   "outputs": [],
   "source": []
  }
 ],
 "metadata": {
  "kernelspec": {
   "display_name": "Python 3",
   "language": "python",
   "name": "python3"
  },
  "language_info": {
   "codemirror_mode": {
    "name": "ipython",
    "version": 3
   },
   "file_extension": ".py",
   "mimetype": "text/x-python",
   "name": "python",
   "nbconvert_exporter": "python",
   "pygments_lexer": "ipython3",
   "version": "3.9.7"
  }
 },
 "nbformat": 4,
 "nbformat_minor": 2
}
